{
 "cells": [
  {
   "cell_type": "markdown",
   "metadata": {},
   "source": [
    "# Algoritmo PCA\n",
    "\n",
    "El algoritmo PCA (Análisis de Componentes Principales) permite encontrar una representación de baja dimensionalidad $\\mathbf{y_i}$ que explica la varianza de los datos originales $\\mathbf{x_i}$. \n",
    "\n",
    "\\begin{align*}\n",
    "\\mathbf{y_i}=U^T (\\mathbf{x_i}-\\mu)\\\\\n",
    "\\tilde{\\mathbf{x_i}}=U \\mathbf{y_i} +\\mu\n",
    "\\end{align*}"
   ]
  },
  {
   "cell_type": "code",
   "execution_count": 11,
   "metadata": {},
   "outputs": [
    {
     "data": {
      "text/plain": [
       "2.7733362266239673e-15"
      ]
     },
     "metadata": {},
     "output_type": "display_data"
    }
   ],
   "source": [
    "using LinearAlgebra; \n",
    "using MultivariateStats;\n",
    "using Statistics;\n",
    "\n",
    "X=[ 7  4  3;\n",
    "    4  1  8; \n",
    "    6  3  5;\n",
    "    8  6  1;\n",
    "    8  5  7;\n",
    "    7  2  9;\n",
    "    5  3  3;\n",
    "    9  5  8;\n",
    "    7  4  5;\n",
    "    8  2  2];\n",
    "μ=mean!([1. 1. 1.],X)\n",
    "X_m=(X.-μ)\n",
    "M = fit(PCA, transpose(X_m),maxoutdim=3)\n",
    "Yte = transform(M, transpose(X_m))\n",
    "X_r=transpose(reconstruct(M, Yte)).+μ\n",
    "E=norm(X-X_r)"
   ]
  },
  {
   "cell_type": "code",
   "execution_count": 12,
   "metadata": {},
   "outputs": [
    {
     "data": {
      "text/plain": [
       "PCA(indim = 3, outdim = 3, principalratio = 1.0)\n",
       "\n",
       "Pattern matrix (unstandardized loadings):\n",
       "──────────────────────────────────\n",
       "         PC1       PC2         PC3\n",
       "──────────────────────────────────\n",
       "1  -0.395715  1.34028   -0.607685\n",
       "2  -0.720434  1.26714    0.612646\n",
       "3   2.75651   0.523582   0.0728826\n",
       "──────────────────────────────────\n",
       "\n",
       "Importance of components:\n",
       "────────────────────────────────────────────────────────\n",
       "                                PC1       PC2        PC3\n",
       "────────────────────────────────────────────────────────\n",
       "SS Loadings (Eigenvalues)  8.27394   3.67613   0.749928\n",
       "Variance explained         0.651492  0.289459  0.0590495\n",
       "Cumulative variance        0.651492  0.940951  1.0\n",
       "Proportion explained       0.651492  0.289459  0.0590495\n",
       "Cumulative proportion      0.651492  0.940951  1.0\n",
       "────────────────────────────────────────────────────────"
      ]
     },
     "metadata": {},
     "output_type": "display_data"
    }
   ],
   "source": [
    "M"
   ]
  },
  {
   "cell_type": "code",
   "execution_count": 13,
   "metadata": {},
   "outputs": [
    {
     "data": {
      "text/plain": [
       "Matrix{Float64}\u001b[90m (alias for \u001b[39m\u001b[90mArray{Float64, 2}\u001b[39m\u001b[90m)\u001b[39m"
      ]
     },
     "metadata": {},
     "output_type": "display_data"
    }
   ],
   "source": [
    "typeof(X_m)"
   ]
  },
  {
   "cell_type": "code",
   "execution_count": 14,
   "metadata": {},
   "outputs": [],
   "source": [
    "values,vectors=eigen(cov(X_m));"
   ]
  },
  {
   "cell_type": "code",
   "execution_count": 15,
   "metadata": {},
   "outputs": [
    {
     "data": {
      "text/plain": [
       "3×2 Matrix{Float64}:\n",
       " -0.395715  -1.34028\n",
       " -0.720434  -1.26714\n",
       "  2.75651   -0.523582"
      ]
     },
     "metadata": {},
     "output_type": "display_data"
    }
   ],
   "source": [
    "U=[vectors[:,3] vectors[:,2]]\n",
    "V=sort(values[2:3],rev=true)\n",
    "U_s=sqrt.(V)'.*U"
   ]
  },
  {
   "cell_type": "code",
   "execution_count": 16,
   "metadata": {},
   "outputs": [
    {
     "data": {
      "text/plain": [
       "3×2 Matrix{Float64}:\n",
       " -0.137571  -0.699037\n",
       " -0.25046   -0.660889\n",
       "  0.958303  -0.27308"
      ]
     },
     "metadata": {},
     "output_type": "display_data"
    }
   ],
   "source": [
    "U"
   ]
  },
  {
   "cell_type": "code",
   "execution_count": 17,
   "metadata": {},
   "outputs": [
    {
     "data": {
      "text/plain": [
       "3-element Vector{Float64}:\n",
       " 8.273942580407862\n",
       " 3.6761292667973366\n",
       " 0.7499281527948027"
      ]
     },
     "metadata": {},
     "output_type": "display_data"
    }
   ],
   "source": [
    "M.prinvars"
   ]
  },
  {
   "cell_type": "code",
   "execution_count": 18,
   "metadata": {},
   "outputs": [
    {
     "data": {
      "text/plain": [
       "2-element Vector{Float64}:\n",
       " 8.273942580407862\n",
       " 3.6761292667973366"
      ]
     },
     "metadata": {},
     "output_type": "display_data"
    }
   ],
   "source": [
    "V"
   ]
  },
  {
   "cell_type": "code",
   "execution_count": 19,
   "metadata": {},
   "outputs": [
    {
     "data": {
      "text/plain": [
       "3×3 Matrix{Float64}:\n",
       " -0.137571  -0.699037   0.701727\n",
       " -0.25046   -0.660889  -0.707457\n",
       "  0.958303  -0.27308   -0.0841616"
      ]
     },
     "metadata": {},
     "output_type": "display_data"
    }
   ],
   "source": [
    "M.proj"
   ]
  },
  {
   "cell_type": "code",
   "execution_count": 20,
   "metadata": {},
   "outputs": [
    {
     "name": "stdout",
     "output_type": "stream",
     "text": [
      "Proportion explained : [0.6923759694669046, 0.3076240305330955]"
     ]
    }
   ],
   "source": [
    "imp=V./sum(V)\n",
    "print(\"Proportion explained : $imp\")"
   ]
  },
  {
   "cell_type": "code",
   "execution_count": 21,
   "metadata": {},
   "outputs": [
    {
     "data": {
      "text/plain": [
       "10×3 Matrix{Float64}:\n",
       " 7.07496  3.92443   2.99101\n",
       " 4.35819  0.638889  7.95704\n",
       " 6.18905  2.8094    4.97733\n",
       " 8.4573   5.53896   0.945154\n",
       " 8.31521  4.68222   6.9622\n",
       " 6.43642  2.56818   9.06759\n",
       " 5.56336  2.43204   2.93243\n",
       " 8.88185  5.11912   8.01417\n",
       " 7.19307  3.80535   4.97684\n",
       " 6.53059  3.48141   2.17623"
      ]
     },
     "metadata": {},
     "output_type": "display_data"
    }
   ],
   "source": [
    "Y_t=transpose(U)*transpose(X_m)\n",
    "X_r2=transpose(U*Y_t).+μ"
   ]
  },
  {
   "cell_type": "code",
   "execution_count": 22,
   "metadata": {},
   "outputs": [
    {
     "data": {
      "text/plain": [
       "2×3 transpose(::Matrix{Float64}) with eltype Float64:\n",
       " -0.137571  -0.25046    0.958303\n",
       " -0.699037  -0.660889  -0.27308"
      ]
     },
     "metadata": {},
     "output_type": "display_data"
    }
   ],
   "source": [
    "transpose(U)"
   ]
  },
  {
   "cell_type": "code",
   "execution_count": 23,
   "metadata": {},
   "outputs": [
    {
     "data": {
      "image/png": "[encoded data removed]",
      "image/svg+xml": [
       "<?xml version=\"1.0\" encoding=\"utf-8\"?>\n",
       "<svg xmlns=\"http://www.w3.org/2000/svg\" xmlns:xlink=\"http://www.w3.org/1999/xlink\" width=\"600\" height=\"400\" viewBox=\"0 0 2400 1600\">\n",
       "<defs>\n",
       "  <clipPath id=\"clip330\">\n",
       "    <rect x=\"0\" y=\"0\" width=\"2400\" height=\"1600\"/>\n",
       "  </clipPath>\n",
       "</defs>\n",
       "<path clip-path=\"url(#clip330)\" d=\"M0 1600 L2400 1600 L2400 0 L0 0  Z\" fill=\"#ffffff\" fill-rule=\"evenodd\" fill-opacity=\"1\"/>\n",
       "<defs>\n",
       "  <clipPath id=\"clip331\">\n",
       "    <rect x=\"480\" y=\"0\" width=\"1681\" height=\"1600\"/>\n",
       "  </clipPath>\n",
       "</defs>\n",
       "<path clip-path=\"url(#clip330)\" d=\"M112.177 1486.45 L2352.76 1486.45 L2352.76 47.2441 L112.177 47.2441  Z\" fill=\"#ffffff\" fill-rule=\"evenodd\" fill-opacity=\"1\"/>\n",
       "<defs>\n",
       "  <clipPath id=\"clip332\">\n",
       "    <rect x=\"112\" y=\"47\" width=\"2242\" height=\"1440\"/>\n",
       "  </clipPath>\n",
       "</defs>\n",
       "<polyline clip-path=\"url(#clip332)\" style=\"stroke:#000000; stroke-linecap:round; stroke-linejoin:round; stroke-width:2; stroke-opacity:0.1; fill:none\" points=\"175.59,1486.45 175.59,47.2441 \"/>\n",
       "<polyline clip-path=\"url(#clip332)\" style=\"stroke:#000000; stroke-linecap:round; stroke-linejoin:round; stroke-width:2; stroke-opacity:0.1; fill:none\" points=\"704.028,1486.45 704.028,47.2441 \"/>\n",
       "<polyline clip-path=\"url(#clip332)\" style=\"stroke:#000000; stroke-linecap:round; stroke-linejoin:round; stroke-width:2; stroke-opacity:0.1; fill:none\" points=\"1232.47,1486.45 1232.47,47.2441 \"/>\n",
       "<polyline clip-path=\"url(#clip332)\" style=\"stroke:#000000; stroke-linecap:round; stroke-linejoin:round; stroke-width:2; stroke-opacity:0.1; fill:none\" points=\"1760.9,1486.45 1760.9,47.2441 \"/>\n",
       "<polyline clip-path=\"url(#clip332)\" style=\"stroke:#000000; stroke-linecap:round; stroke-linejoin:round; stroke-width:2; stroke-opacity:0.1; fill:none\" points=\"2289.34,1486.45 2289.34,47.2441 \"/>\n",
       "<polyline clip-path=\"url(#clip332)\" style=\"stroke:#000000; stroke-linecap:round; stroke-linejoin:round; stroke-width:2; stroke-opacity:0.1; fill:none\" points=\"112.177,1220.14 2352.76,1220.14 \"/>\n",
       "<polyline clip-path=\"url(#clip332)\" style=\"stroke:#000000; stroke-linecap:round; stroke-linejoin:round; stroke-width:2; stroke-opacity:0.1; fill:none\" points=\"112.177,859.227 2352.76,859.227 \"/>\n",
       "<polyline clip-path=\"url(#clip332)\" style=\"stroke:#000000; stroke-linecap:round; stroke-linejoin:round; stroke-width:2; stroke-opacity:0.1; fill:none\" points=\"112.177,498.319 2352.76,498.319 \"/>\n",
       "<polyline clip-path=\"url(#clip332)\" style=\"stroke:#000000; stroke-linecap:round; stroke-linejoin:round; stroke-width:2; stroke-opacity:0.1; fill:none\" points=\"112.177,137.41 2352.76,137.41 \"/>\n",
       "<polyline clip-path=\"url(#clip330)\" style=\"stroke:#000000; stroke-linecap:round; stroke-linejoin:round; stroke-width:4; stroke-opacity:1; fill:none\" points=\"112.177,1486.45 2352.76,1486.45 \"/>\n",
       "<polyline clip-path=\"url(#clip330)\" style=\"stroke:#000000; stroke-linecap:round; stroke-linejoin:round; stroke-width:4; stroke-opacity:1; fill:none\" points=\"175.59,1486.45 175.59,1467.55 \"/>\n",
       "<polyline clip-path=\"url(#clip330)\" style=\"stroke:#000000; stroke-linecap:round; stroke-linejoin:round; stroke-width:4; stroke-opacity:1; fill:none\" points=\"704.028,1486.45 704.028,1467.55 \"/>\n",
       "<polyline clip-path=\"url(#clip330)\" style=\"stroke:#000000; stroke-linecap:round; stroke-linejoin:round; stroke-width:4; stroke-opacity:1; fill:none\" points=\"1232.47,1486.45 1232.47,1467.55 \"/>\n",
       "<polyline clip-path=\"url(#clip330)\" style=\"stroke:#000000; stroke-linecap:round; stroke-linejoin:round; stroke-width:4; stroke-opacity:1; fill:none\" points=\"1760.9,1486.45 1760.9,1467.55 \"/>\n",
       "<polyline clip-path=\"url(#clip330)\" style=\"stroke:#000000; stroke-linecap:round; stroke-linejoin:round; stroke-width:4; stroke-opacity:1; fill:none\" points=\"2289.34,1486.45 2289.34,1467.55 \"/>\n",
       "<path clip-path=\"url(#clip330)\" d=\"M142.743 1544.91 L150.382 1544.91 L150.382 1518.55 L142.071 1520.21 L142.071 1515.95 L150.335 1514.29 L155.011 1514.29 L155.011 1544.91 L162.65 1544.91 L162.65 1548.85 L142.743 1548.85 L142.743 1544.91 Z\" fill=\"#000000\" fill-rule=\"nonzero\" fill-opacity=\"1\" /><path clip-path=\"url(#clip330)\" d=\"M172.094 1542.97 L176.979 1542.97 L176.979 1548.85 L172.094 1548.85 L172.094 1542.97 Z\" fill=\"#000000\" fill-rule=\"nonzero\" fill-opacity=\"1\" /><path clip-path=\"url(#clip330)\" d=\"M197.164 1517.37 Q193.553 1517.37 191.724 1520.93 Q189.918 1524.47 189.918 1531.6 Q189.918 1538.71 191.724 1542.27 Q193.553 1545.82 197.164 1545.82 Q200.798 1545.82 202.604 1542.27 Q204.432 1538.71 204.432 1531.6 Q204.432 1524.47 202.604 1520.93 Q200.798 1517.37 197.164 1517.37 M197.164 1513.66 Q202.974 1513.66 206.029 1518.27 Q209.108 1522.85 209.108 1531.6 Q209.108 1540.33 206.029 1544.94 Q202.974 1549.52 197.164 1549.52 Q191.354 1549.52 188.275 1544.94 Q185.219 1540.33 185.219 1531.6 Q185.219 1522.85 188.275 1518.27 Q191.354 1513.66 197.164 1513.66 Z\" fill=\"#000000\" fill-rule=\"nonzero\" fill-opacity=\"1\" /><path clip-path=\"url(#clip330)\" d=\"M671.679 1544.91 L679.318 1544.91 L679.318 1518.55 L671.008 1520.21 L671.008 1515.95 L679.271 1514.29 L683.947 1514.29 L683.947 1544.91 L691.586 1544.91 L691.586 1548.85 L671.679 1548.85 L671.679 1544.91 Z\" fill=\"#000000\" fill-rule=\"nonzero\" fill-opacity=\"1\" /><path clip-path=\"url(#clip330)\" d=\"M701.03 1542.97 L705.915 1542.97 L705.915 1548.85 L701.03 1548.85 L701.03 1542.97 Z\" fill=\"#000000\" fill-rule=\"nonzero\" fill-opacity=\"1\" /><path clip-path=\"url(#clip330)\" d=\"M716.146 1514.29 L734.503 1514.29 L734.503 1518.22 L720.429 1518.22 L720.429 1526.7 Q721.447 1526.35 722.466 1526.19 Q723.484 1526 724.503 1526 Q730.29 1526 733.669 1529.17 Q737.049 1532.34 737.049 1537.76 Q737.049 1543.34 733.577 1546.44 Q730.104 1549.52 723.785 1549.52 Q721.609 1549.52 719.341 1549.15 Q717.095 1548.78 714.688 1548.04 L714.688 1543.34 Q716.771 1544.47 718.993 1545.03 Q721.216 1545.58 723.692 1545.58 Q727.697 1545.58 730.035 1543.48 Q732.373 1541.37 732.373 1537.76 Q732.373 1534.15 730.035 1532.04 Q727.697 1529.94 723.692 1529.94 Q721.817 1529.94 719.942 1530.35 Q718.091 1530.77 716.146 1531.65 L716.146 1514.29 Z\" fill=\"#000000\" fill-rule=\"nonzero\" fill-opacity=\"1\" /><path clip-path=\"url(#clip330)\" d=\"M1203.71 1544.91 L1220.02 1544.91 L1220.02 1548.85 L1198.08 1548.85 L1198.08 1544.91 Q1200.74 1542.16 1205.33 1537.53 Q1209.93 1532.88 1211.11 1531.53 Q1213.36 1529.01 1214.24 1527.27 Q1215.14 1525.51 1215.14 1523.82 Q1215.14 1521.07 1213.2 1519.33 Q1211.27 1517.6 1208.17 1517.6 Q1205.97 1517.6 1203.52 1518.36 Q1201.09 1519.13 1198.31 1520.68 L1198.31 1515.95 Q1201.14 1514.82 1203.59 1514.24 Q1206.04 1513.66 1208.08 1513.66 Q1213.45 1513.66 1216.64 1516.35 Q1219.84 1519.03 1219.84 1523.52 Q1219.84 1525.65 1219.03 1527.57 Q1218.24 1529.47 1216.14 1532.07 Q1215.56 1532.74 1212.46 1535.95 Q1209.35 1539.15 1203.71 1544.91 Z\" fill=\"#000000\" fill-rule=\"nonzero\" fill-opacity=\"1\" /><path clip-path=\"url(#clip330)\" d=\"M1229.84 1542.97 L1234.72 1542.97 L1234.72 1548.85 L1229.84 1548.85 L1229.84 1542.97 Z\" fill=\"#000000\" fill-rule=\"nonzero\" fill-opacity=\"1\" /><path clip-path=\"url(#clip330)\" d=\"M1254.91 1517.37 Q1251.3 1517.37 1249.47 1520.93 Q1247.66 1524.47 1247.66 1531.6 Q1247.66 1538.71 1249.47 1542.27 Q1251.3 1545.82 1254.91 1545.82 Q1258.54 1545.82 1260.35 1542.27 Q1262.18 1538.71 1262.18 1531.6 Q1262.18 1524.47 1260.35 1520.93 Q1258.54 1517.37 1254.91 1517.37 M1254.91 1513.66 Q1260.72 1513.66 1263.77 1518.27 Q1266.85 1522.85 1266.85 1531.6 Q1266.85 1540.33 1263.77 1544.94 Q1260.72 1549.52 1254.91 1549.52 Q1249.1 1549.52 1246.02 1544.94 Q1242.96 1540.33 1242.96 1531.6 Q1242.96 1522.85 1246.02 1518.27 Q1249.1 1513.66 1254.91 1513.66 Z\" fill=\"#000000\" fill-rule=\"nonzero\" fill-opacity=\"1\" /><path clip-path=\"url(#clip330)\" d=\"M1732.64 1544.91 L1748.96 1544.91 L1748.96 1548.85 L1727.02 1548.85 L1727.02 1544.91 Q1729.68 1542.16 1734.26 1537.53 Q1738.87 1532.88 1740.05 1531.53 Q1742.29 1529.01 1743.17 1527.27 Q1744.08 1525.51 1744.08 1523.82 Q1744.08 1521.07 1742.13 1519.33 Q1740.21 1517.6 1737.11 1517.6 Q1734.91 1517.6 1732.46 1518.36 Q1730.03 1519.13 1727.25 1520.68 L1727.25 1515.95 Q1730.07 1514.82 1732.53 1514.24 Q1734.98 1513.66 1737.02 1513.66 Q1742.39 1513.66 1745.58 1516.35 Q1748.78 1519.03 1748.78 1523.52 Q1748.78 1525.65 1747.97 1527.57 Q1747.18 1529.47 1745.07 1532.07 Q1744.49 1532.74 1741.39 1535.95 Q1738.29 1539.15 1732.64 1544.91 Z\" fill=\"#000000\" fill-rule=\"nonzero\" fill-opacity=\"1\" /><path clip-path=\"url(#clip330)\" d=\"M1758.78 1542.97 L1763.66 1542.97 L1763.66 1548.85 L1758.78 1548.85 L1758.78 1542.97 Z\" fill=\"#000000\" fill-rule=\"nonzero\" fill-opacity=\"1\" /><path clip-path=\"url(#clip330)\" d=\"M1773.89 1514.29 L1792.25 1514.29 L1792.25 1518.22 L1778.17 1518.22 L1778.17 1526.7 Q1779.19 1526.35 1780.21 1526.19 Q1781.23 1526 1782.25 1526 Q1788.03 1526 1791.41 1529.17 Q1794.79 1532.34 1794.79 1537.76 Q1794.79 1543.34 1791.32 1546.44 Q1787.85 1549.52 1781.53 1549.52 Q1779.35 1549.52 1777.09 1549.15 Q1774.84 1548.78 1772.43 1548.04 L1772.43 1543.34 Q1774.52 1544.47 1776.74 1545.03 Q1778.96 1545.58 1781.44 1545.58 Q1785.44 1545.58 1787.78 1543.48 Q1790.12 1541.37 1790.12 1537.76 Q1790.12 1534.15 1787.78 1532.04 Q1785.44 1529.94 1781.44 1529.94 Q1779.56 1529.94 1777.69 1530.35 Q1775.84 1530.77 1773.89 1531.65 L1773.89 1514.29 Z\" fill=\"#000000\" fill-rule=\"nonzero\" fill-opacity=\"1\" /><path clip-path=\"url(#clip330)\" d=\"M2270.65 1530.21 Q2274.01 1530.93 2275.88 1533.2 Q2277.78 1535.47 2277.78 1538.8 Q2277.78 1543.92 2274.26 1546.72 Q2270.74 1549.52 2264.26 1549.52 Q2262.09 1549.52 2259.77 1549.08 Q2257.48 1548.66 2255.03 1547.81 L2255.03 1543.29 Q2256.97 1544.43 2259.29 1545.01 Q2261.6 1545.58 2264.12 1545.58 Q2268.52 1545.58 2270.81 1543.85 Q2273.13 1542.11 2273.13 1538.8 Q2273.13 1535.75 2270.98 1534.03 Q2268.85 1532.3 2265.03 1532.3 L2261 1532.3 L2261 1528.45 L2265.21 1528.45 Q2268.66 1528.45 2270.49 1527.09 Q2272.32 1525.7 2272.32 1523.11 Q2272.32 1520.45 2270.42 1519.03 Q2268.54 1517.6 2265.03 1517.6 Q2263.11 1517.6 2260.91 1518.01 Q2258.71 1518.43 2256.07 1519.31 L2256.07 1515.14 Q2258.73 1514.4 2261.04 1514.03 Q2263.38 1513.66 2265.44 1513.66 Q2270.77 1513.66 2273.87 1516.09 Q2276.97 1518.5 2276.97 1522.62 Q2276.97 1525.49 2275.33 1527.48 Q2273.68 1529.45 2270.65 1530.21 Z\" fill=\"#000000\" fill-rule=\"nonzero\" fill-opacity=\"1\" /><path clip-path=\"url(#clip330)\" d=\"M2286.65 1542.97 L2291.53 1542.97 L2291.53 1548.85 L2286.65 1548.85 L2286.65 1542.97 Z\" fill=\"#000000\" fill-rule=\"nonzero\" fill-opacity=\"1\" /><path clip-path=\"url(#clip330)\" d=\"M2311.72 1517.37 Q2308.1 1517.37 2306.28 1520.93 Q2304.47 1524.47 2304.47 1531.6 Q2304.47 1538.71 2306.28 1542.27 Q2308.1 1545.82 2311.72 1545.82 Q2315.35 1545.82 2317.16 1542.27 Q2318.98 1538.71 2318.98 1531.6 Q2318.98 1524.47 2317.16 1520.93 Q2315.35 1517.37 2311.72 1517.37 M2311.72 1513.66 Q2317.53 1513.66 2320.58 1518.27 Q2323.66 1522.85 2323.66 1531.6 Q2323.66 1540.33 2320.58 1544.94 Q2317.53 1549.52 2311.72 1549.52 Q2305.91 1549.52 2302.83 1544.94 Q2299.77 1540.33 2299.77 1531.6 Q2299.77 1522.85 2302.83 1518.27 Q2305.91 1513.66 2311.72 1513.66 Z\" fill=\"#000000\" fill-rule=\"nonzero\" fill-opacity=\"1\" /><polyline clip-path=\"url(#clip330)\" style=\"stroke:#000000; stroke-linecap:round; stroke-linejoin:round; stroke-width:4; stroke-opacity:1; fill:none\" points=\"112.177,1486.45 112.177,47.2441 \"/>\n",
       "<polyline clip-path=\"url(#clip330)\" style=\"stroke:#000000; stroke-linecap:round; stroke-linejoin:round; stroke-width:4; stroke-opacity:1; fill:none\" points=\"112.177,1220.14 131.075,1220.14 \"/>\n",
       "<polyline clip-path=\"url(#clip330)\" style=\"stroke:#000000; stroke-linecap:round; stroke-linejoin:round; stroke-width:4; stroke-opacity:1; fill:none\" points=\"112.177,859.227 131.075,859.227 \"/>\n",
       "<polyline clip-path=\"url(#clip330)\" style=\"stroke:#000000; stroke-linecap:round; stroke-linejoin:round; stroke-width:4; stroke-opacity:1; fill:none\" points=\"112.177,498.319 131.075,498.319 \"/>\n",
       "<polyline clip-path=\"url(#clip330)\" style=\"stroke:#000000; stroke-linecap:round; stroke-linejoin:round; stroke-width:4; stroke-opacity:1; fill:none\" points=\"112.177,137.41 131.075,137.41 \"/>\n",
       "<path clip-path=\"url(#clip330)\" d=\"M59.8578 1233.48 L76.1772 1233.48 L76.1772 1237.42 L54.2328 1237.42 L54.2328 1233.48 Q56.8949 1230.73 61.4782 1226.1 Q66.0846 1221.44 67.2652 1220.1 Q69.5105 1217.58 70.3902 1215.84 Q71.2929 1214.08 71.2929 1212.39 Q71.2929 1209.64 69.3485 1207.9 Q67.4272 1206.17 64.3254 1206.17 Q62.1263 1206.17 59.6726 1206.93 Q57.2421 1207.69 54.4643 1209.24 L54.4643 1204.52 Q57.2884 1203.39 59.7421 1202.81 Q62.1958 1202.23 64.2328 1202.23 Q69.6031 1202.23 72.7976 1204.92 Q75.992 1207.6 75.992 1212.09 Q75.992 1214.22 75.1818 1216.14 Q74.3948 1218.04 72.2883 1220.63 Q71.7096 1221.3 68.6078 1224.52 Q65.5059 1227.72 59.8578 1233.48 Z\" fill=\"#000000\" fill-rule=\"nonzero\" fill-opacity=\"1\" /><path clip-path=\"url(#clip330)\" d=\"M66.5939 846.021 L54.7884 864.47 L66.5939 864.47 L66.5939 846.021 M65.367 841.947 L71.2466 841.947 L71.2466 864.47 L76.1772 864.47 L76.1772 868.359 L71.2466 868.359 L71.2466 876.507 L66.5939 876.507 L66.5939 868.359 L50.9921 868.359 L50.9921 863.845 L65.367 841.947 Z\" fill=\"#000000\" fill-rule=\"nonzero\" fill-opacity=\"1\" /><path clip-path=\"url(#clip330)\" d=\"M64.6495 496.455 Q61.5013 496.455 59.6495 498.608 Q57.8208 500.761 57.8208 504.511 Q57.8208 508.238 59.6495 510.413 Q61.5013 512.566 64.6495 512.566 Q67.7976 512.566 69.6263 510.413 Q71.4781 508.238 71.4781 504.511 Q71.4781 500.761 69.6263 498.608 Q67.7976 496.455 64.6495 496.455 M73.9318 481.802 L73.9318 486.062 Q72.1726 485.228 70.367 484.789 Q68.5846 484.349 66.8254 484.349 Q62.1958 484.349 59.7421 487.474 Q57.3115 490.599 56.9643 496.918 Q58.33 494.904 60.3902 493.839 Q62.4504 492.751 64.9272 492.751 Q70.1355 492.751 73.1448 495.923 Q76.1772 499.071 76.1772 504.511 Q76.1772 509.835 73.029 513.052 Q69.8809 516.27 64.6495 516.27 Q58.6541 516.27 55.4828 511.687 Q52.3116 507.08 52.3116 498.353 Q52.3116 490.159 56.2004 485.298 Q60.0893 480.414 66.6402 480.414 Q68.3994 480.414 70.1818 480.761 Q71.9874 481.108 73.9318 481.802 Z\" fill=\"#000000\" fill-rule=\"nonzero\" fill-opacity=\"1\" /><path clip-path=\"url(#clip330)\" d=\"M64.3254 138.278 Q60.9921 138.278 59.0708 140.061 Q57.1726 141.843 57.1726 144.968 Q57.1726 148.093 59.0708 149.876 Q60.9921 151.658 64.3254 151.658 Q67.6587 151.658 69.58 149.876 Q71.5013 148.07 71.5013 144.968 Q71.5013 141.843 69.58 140.061 Q67.6819 138.278 64.3254 138.278 M59.6495 136.288 Q56.6402 135.547 54.9504 133.487 Q53.2838 131.427 53.2838 128.464 Q53.2838 124.32 56.2236 121.913 Q59.1865 119.505 64.3254 119.505 Q69.4874 119.505 72.4272 121.913 Q75.367 124.32 75.367 128.464 Q75.367 131.427 73.6772 133.487 Q72.0105 135.547 69.0244 136.288 Q72.404 137.075 74.279 139.366 Q76.1772 141.658 76.1772 144.968 Q76.1772 149.991 73.0985 152.676 Q70.0429 155.362 64.3254 155.362 Q58.6078 155.362 55.5291 152.676 Q52.4736 149.991 52.4736 144.968 Q52.4736 141.658 54.3717 139.366 Q56.2699 137.075 59.6495 136.288 M57.9365 128.903 Q57.9365 131.589 59.6032 133.093 Q61.293 134.598 64.3254 134.598 Q67.3346 134.598 69.0244 133.093 Q70.7374 131.589 70.7374 128.903 Q70.7374 126.218 69.0244 124.714 Q67.3346 123.209 64.3254 123.209 Q61.293 123.209 59.6032 124.714 Q57.9365 126.218 57.9365 128.903 Z\" fill=\"#000000\" fill-rule=\"nonzero\" fill-opacity=\"1\" /><polyline clip-path=\"url(#clip332)\" style=\"stroke:#009af9; stroke-linecap:round; stroke-linejoin:round; stroke-width:4; stroke-opacity:1; fill:none\" points=\"175.59,87.9763 1232.47,917.671 2289.34,1445.72 \"/>\n",
       "<path clip-path=\"url(#clip330)\" d=\"M2001.58 198.898 L2278.07 198.898 L2278.07 95.2176 L2001.58 95.2176  Z\" fill=\"#ffffff\" fill-rule=\"evenodd\" fill-opacity=\"1\"/>\n",
       "<polyline clip-path=\"url(#clip330)\" style=\"stroke:#000000; stroke-linecap:round; stroke-linejoin:round; stroke-width:4; stroke-opacity:1; fill:none\" points=\"2001.58,198.898 2278.07,198.898 2278.07,95.2176 2001.58,95.2176 2001.58,198.898 \"/>\n",
       "<polyline clip-path=\"url(#clip330)\" style=\"stroke:#009af9; stroke-linecap:round; stroke-linejoin:round; stroke-width:4; stroke-opacity:1; fill:none\" points=\"2026.48,147.058 2175.85,147.058 \"/>\n",
       "<path clip-path=\"url(#clip330)\" d=\"M2214.59 166.745 Q2212.78 171.375 2211.07 172.787 Q2209.36 174.199 2206.49 174.199 L2203.08 174.199 L2203.08 170.634 L2205.58 170.634 Q2207.34 170.634 2208.31 169.8 Q2209.29 168.967 2210.47 165.865 L2211.23 163.921 L2200.74 138.412 L2205.26 138.412 L2213.36 158.689 L2221.46 138.412 L2225.98 138.412 L2214.59 166.745 Z\" fill=\"#000000\" fill-rule=\"nonzero\" fill-opacity=\"1\" /><path clip-path=\"url(#clip330)\" d=\"M2233.27 160.402 L2240.91 160.402 L2240.91 134.037 L2232.6 135.703 L2232.6 131.444 L2240.86 129.778 L2245.54 129.778 L2245.54 160.402 L2253.17 160.402 L2253.17 164.338 L2233.27 164.338 L2233.27 160.402 Z\" fill=\"#000000\" fill-rule=\"nonzero\" fill-opacity=\"1\" /></svg>\n"
      ],
      "text/html": [
       "<img src=\"data:image/png;base64,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\" />"
      ]
     },
     "metadata": {},
     "output_type": "display_data"
    }
   ],
   "source": [
    "using Plots;\n",
    "\n",
    "plot(sort(values,rev=true))"
   ]
  },
  {
   "cell_type": "code",
   "execution_count": 24,
   "metadata": {},
   "outputs": [
    {
     "data": {
      "text/plain": [
       "2.7733362266239673e-15"
      ]
     },
     "metadata": {},
     "output_type": "display_data"
    }
   ],
   "source": [
    "norm(X-X_r)"
   ]
  },
  {
   "cell_type": "markdown",
   "metadata": {},
   "source": [
    "# EigenFaces\n",
    "\n",
    "En el caso del reconocimiento facial, el algoritmo Eigenfaces utiliza esta representación de baja dimensionalidad para comparar caras nuevas (no utilizadas para ajustar los valores y vectores propios). Sin embargo, una de los problemas al utlizar esta técnica es determinar la dimensionalidad \\emph{intrinsica} de los datos. Esto quiere decir que el número de componentes principales es desconocido y debe determinarse mediante un compromiso entre el error de reconstrucción $E=\\sum_i^n (\\mathbf{x_i}-\\tilde{\\mathbf{x_i}})^2$ y la capacidad de comprimir y explicar los datos.\n",
    "\n",
    "https://bio322.epfl.ch/notebooks/pca.html"
   ]
  },
  {
   "cell_type": "code",
   "execution_count": 25,
   "metadata": {},
   "outputs": [
    {
     "ename": "ArgumentError",
     "evalue": "ArgumentError: Package Images not found in current path.\n- Run `import Pkg; Pkg.add(\"Images\")` to install the Images package.",
     "output_type": "error",
     "traceback": [
      "ArgumentError: Package Images not found in current path.\n",
      "- Run `import Pkg; Pkg.add(\"Images\")` to install the Images package.\n",
      "\n",
      "Stacktrace:\n",
      "  [1] macro expansion\n",
      "    @ ./loading.jl:2296 [inlined]\n",
      "  [2] macro expansion\n",
      "    @ ./lock.jl:273 [inlined]\n",
      "  [3] __require(into::Module, mod::Symbol)\n",
      "    @ Base ./loading.jl:2271\n",
      "  [4] #invoke_in_world#3\n",
      "    @ ./essentials.jl:1089 [inlined]\n",
      "  [5] invoke_in_world\n",
      "    @ ./essentials.jl:1086 [inlined]\n",
      "  [6] require(into::Module, mod::Symbol)\n",
      "    @ Base ./loading.jl:2260\n",
      "  [7] eval\n",
      "    @ ./boot.jl:430 [inlined]\n",
      "  [8] include_string(mapexpr::typeof(REPL.softscope), mod::Module, code::String, filename::String)\n",
      "    @ Base ./loading.jl:2734\n",
      "  [9] #invokelatest#2\n",
      "    @ ./essentials.jl:1055 [inlined]\n",
      " [10] invokelatest\n",
      "    @ ./essentials.jl:1052 [inlined]\n",
      " [11] (::VSCodeServer.var\"#217#218\"{VSCodeServer.NotebookRunCellArguments, String})()\n",
      "    @ VSCodeServer ~/.vscode/extensions/julialang.language-julia-1.149.2/scripts/packages/VSCodeServer/src/serve_notebook.jl:24\n",
      " [12] withpath(f::VSCodeServer.var\"#217#218\"{VSCodeServer.NotebookRunCellArguments, String}, path::String)\n",
      "    @ VSCodeServer ~/.vscode/extensions/julialang.language-julia-1.149.2/scripts/packages/VSCodeServer/src/repl.jl:276\n",
      " [13] notebook_runcell_request(conn::VSCodeServer.JSONRPC.JSONRPCEndpoint{Base.PipeEndpoint, Base.PipeEndpoint, VSCodeServer.JSON.Serializations.StandardSerialization}, params::VSCodeServer.NotebookRunCellArguments, token::VSCodeServer.CancellationTokens.CancellationToken)\n",
      "    @ VSCodeServer ~/.vscode/extensions/julialang.language-julia-1.149.2/scripts/packages/VSCodeServer/src/serve_notebook.jl:13\n",
      " [14] dispatch_msg(x::VSCodeServer.JSONRPC.JSONRPCEndpoint{Base.PipeEndpoint, Base.PipeEndpoint, VSCodeServer.JSON.Serializations.StandardSerialization}, dispatcher::VSCodeServer.JSONRPC.MsgDispatcher, msg::VSCodeServer.JSONRPC.Request)\n",
      "    @ VSCodeServer.JSONRPC ~/.vscode/extensions/julialang.language-julia-1.149.2/scripts/packages/JSONRPC/src/typed.jl:68\n",
      " [15] serve_notebook(pipename::String, debugger_pipename::String, outputchannel_logger::Base.CoreLogging.SimpleLogger; error_handler::var\"#5#10\"{String})\n",
      "    @ VSCodeServer ~/.vscode/extensions/julialang.language-julia-1.149.2/scripts/packages/VSCodeServer/src/serve_notebook.jl:147\n",
      " [16] top-level scope\n",
      "    @ ~/.vscode/extensions/julialang.language-julia-1.149.2/scripts/notebook/notebook.jl:35"
     ]
    }
   ],
   "source": [
    "using Images,Colors\n",
    "using ImageTransformations\n",
    "\n",
    "path=\"eigenvalue_pics/\"\n",
    "dim=64\n",
    "\n",
    "function images_to_mat(pathlist,dim,data_type)\n",
    "    mat=zeros(data_type,length(pathlist),dim*dim)\n",
    "    for (index,images) in enumerate(pathlist)\n",
    "        img=load(images)\n",
    "        img_g=Gray.(img)\n",
    "        img_g=imresize(img_g,dim,dim)\n",
    "        img_g=data_type.(img_g)\n",
    "        img_g=reshape(img_g,(1,dim*dim))\n",
    "        mat[index,:]=img_g\n",
    "    end \n",
    "    return mat\n",
    "end\n",
    "\n"
   ]
  },
  {
   "cell_type": "code",
   "execution_count": 26,
   "metadata": {},
   "outputs": [
    {
     "ename": "UndefVarError",
     "evalue": "UndefVarError: `path` not defined in `Main`\nSuggestion: check for spelling errors or missing imports.\nHint: a global variable of this name may be made accessible by importing DataStructures in the current active module Main\nHint: a global variable of this name also exists in GR.",
     "output_type": "error",
     "traceback": [
      "UndefVarError: `path` not defined in `Main`\n",
      "Suggestion: check for spelling errors or missing imports.\n",
      "Hint: a global variable of this name may be made accessible by importing DataStructures in the current active module Main\n",
      "Hint: a global variable of this name also exists in GR.\n",
      "\n",
      "Stacktrace:\n",
      " [1] top-level scope\n",
      "   @ ~/Descargas/jl_notebook_cell_df34fa98e69747e1a8f8a730347b8e2f_X23sZmlsZQ==.jl:3"
     ]
    }
   ],
   "source": [
    "pathlist=[]\n",
    "names=[]\n",
    "for d in readdir(path)\n",
    "    for f in readdir(path*d)\n",
    "        file_path=path*d*\"/\"*f\n",
    "        push!(pathlist,file_path)\n",
    "        push!(names,d)\n",
    "    end \n",
    "end "
   ]
  },
  {
   "cell_type": "code",
   "execution_count": 27,
   "metadata": {},
   "outputs": [
    {
     "ename": "UndefVarError",
     "evalue": "UndefVarError: `images_to_mat` not defined in `Main`\nSuggestion: check for spelling errors or missing imports.",
     "output_type": "error",
     "traceback": [
      "UndefVarError: `images_to_mat` not defined in `Main`\n",
      "Suggestion: check for spelling errors or missing imports.\n",
      "\n",
      "Stacktrace:\n",
      " [1] top-level scope\n",
      "   @ ~/Descargas/jl_notebook_cell_df34fa98e69747e1a8f8a730347b8e2f_X24sZmlsZQ==.jl:6"
     ]
    }
   ],
   "source": [
    "using LinearAlgebra; \n",
    "using MultivariateStats;\n",
    "using Statistics;\n",
    "\n",
    "my_type=Float64\n",
    "mat=images_to_mat(pathlist,dim,my_type)\n",
    "mean_face=mean!(transpose(ones(dim*dim)),mat)\n",
    "centered_mat=mat.-my_type.(mean_face);"
   ]
  },
  {
   "cell_type": "code",
   "execution_count": 28,
   "metadata": {},
   "outputs": [
    {
     "ename": "UndefVarError",
     "evalue": "UndefVarError: `centered_mat` not defined in `Main`\nSuggestion: check for spelling errors or missing imports.",
     "output_type": "error",
     "traceback": [
      "UndefVarError: `centered_mat` not defined in `Main`\n",
      "Suggestion: check for spelling errors or missing imports.\n",
      "\n",
      "Stacktrace:\n",
      " [1] top-level scope\n",
      "   @ ~/Descargas/jl_notebook_cell_df34fa98e69747e1a8f8a730347b8e2f_X25sZmlsZQ==.jl:1"
     ]
    }
   ],
   "source": [
    "values,vectors=eigen(cov(centered_mat));"
   ]
  },
  {
   "cell_type": "code",
   "execution_count": 29,
   "metadata": {},
   "outputs": [
    {
     "data": {
      "text/plain": [
       "Matrix{Float64}\u001b[90m (alias for \u001b[39m\u001b[90mArray{Float64, 2}\u001b[39m\u001b[90m)\u001b[39m"
      ]
     },
     "metadata": {},
     "output_type": "display_data"
    }
   ],
   "source": [
    "typeof(vectors)"
   ]
  },
  {
   "cell_type": "code",
   "execution_count": 30,
   "metadata": {},
   "outputs": [],
   "source": [
    "sorted_values=sort(values,rev=true);"
   ]
  },
  {
   "cell_type": "code",
   "execution_count": 31,
   "metadata": {},
   "outputs": [
    {
     "data": {
      "text/plain": [
       "3"
      ]
     },
     "metadata": {},
     "output_type": "display_data"
    }
   ],
   "source": [
    "length(sorted_values)"
   ]
  },
  {
   "cell_type": "code",
   "execution_count": 32,
   "metadata": {},
   "outputs": [
    {
     "ename": "BoundsError",
     "evalue": "BoundsError: attempt to access 3-element Vector{Float64} at index [1:100]",
     "output_type": "error",
     "traceback": [
      "BoundsError: attempt to access 3-element Vector{Float64} at index [1:100]\n",
      "\n",
      "Stacktrace:\n",
      " [1] throw_boundserror(A::Vector{Float64}, I::Tuple{UnitRange{Int64}})\n",
      "   @ Base ./essentials.jl:14\n",
      " [2] checkbounds\n",
      "   @ ./abstractarray.jl:699 [inlined]\n",
      " [3] getindex(A::Vector{Float64}, I::UnitRange{Int64})\n",
      "   @ Base ./array.jl:936\n",
      " [4] top-level scope\n",
      "   @ ~/Descargas/jl_notebook_cell_df34fa98e69747e1a8f8a730347b8e2f_X32sZmlsZQ==.jl:4"
     ]
    }
   ],
   "source": [
    "using Plots;\n",
    "\n",
    "sorted_values=sorted_values./sum(sorted_values)\n",
    "plot(sorted_values[1:100],lw=3)"
   ]
  },
  {
   "cell_type": "code",
   "execution_count": 33,
   "metadata": {},
   "outputs": [
    {
     "data": {
      "text/plain": [
       "(3, 3)"
      ]
     },
     "metadata": {},
     "output_type": "display_data"
    }
   ],
   "source": [
    "size(vectors)"
   ]
  },
  {
   "cell_type": "code",
   "execution_count": 34,
   "metadata": {},
   "outputs": [
    {
     "data": {
      "text/plain": [
       "25"
      ]
     },
     "metadata": {},
     "output_type": "display_data"
    }
   ],
   "source": [
    "num_components=25"
   ]
  },
  {
   "cell_type": "code",
   "execution_count": 35,
   "metadata": {},
   "outputs": [
    {
     "ename": "UndefVarError",
     "evalue": "UndefVarError: `dim` not defined in `Main`\nSuggestion: check for spelling errors or missing imports.\nHint: a global variable of this name may be made accessible by importing PDMats in the current active module Main\nHint: a global variable of this name may be made accessible by importing Distributions in the current active module Main",
     "output_type": "error",
     "traceback": [
      "UndefVarError: `dim` not defined in `Main`\n",
      "Suggestion: check for spelling errors or missing imports.\n",
      "Hint: a global variable of this name may be made accessible by importing PDMats in the current active module Main\n",
      "Hint: a global variable of this name may be made accessible by importing Distributions in the current active module Main\n",
      "\n",
      "Stacktrace:\n",
      " [1] top-level scope\n",
      "   @ ~/Descargas/jl_notebook_cell_df34fa98e69747e1a8f8a730347b8e2f_X35sZmlsZQ==.jl:1"
     ]
    }
   ],
   "source": [
    "eigenfaces=vectors[:,dim*dim:-1:(dim*dim-num_components+1)];"
   ]
  },
  {
   "cell_type": "code",
   "execution_count": 36,
   "metadata": {},
   "outputs": [
    {
     "ename": "UndefVarError",
     "evalue": "UndefVarError: `eigenfaces` not defined in `Main`\nSuggestion: check for spelling errors or missing imports.",
     "output_type": "error",
     "traceback": [
      "UndefVarError: `eigenfaces` not defined in `Main`\n",
      "Suggestion: check for spelling errors or missing imports.\n",
      "\n",
      "Stacktrace:\n",
      " [1] top-level scope\n",
      "   @ ~/Descargas/jl_notebook_cell_df34fa98e69747e1a8f8a730347b8e2f_X36sZmlsZQ==.jl:1"
     ]
    }
   ],
   "source": [
    "size(eigenfaces)"
   ]
  },
  {
   "cell_type": "code",
   "execution_count": 37,
   "metadata": {},
   "outputs": [
    {
     "ename": "UndefVarError",
     "evalue": "UndefVarError: `eigenfaces` not defined in `Main`\nSuggestion: check for spelling errors or missing imports.",
     "output_type": "error",
     "traceback": [
      "UndefVarError: `eigenfaces` not defined in `Main`\n",
      "Suggestion: check for spelling errors or missing imports.\n",
      "\n",
      "Stacktrace:\n",
      " [1] top-level scope\n",
      "   @ ~/Descargas/jl_notebook_cell_df34fa98e69747e1a8f8a730347b8e2f_X40sZmlsZQ==.jl:1"
     ]
    }
   ],
   "source": [
    "P=transpose(eigenfaces)*transpose(centered_mat);"
   ]
  },
  {
   "cell_type": "code",
   "execution_count": 38,
   "metadata": {},
   "outputs": [
    {
     "ename": "UndefVarError",
     "evalue": "UndefVarError: `mat` not defined in `Main`\nSuggestion: check for spelling errors or missing imports.",
     "output_type": "error",
     "traceback": [
      "UndefVarError: `mat` not defined in `Main`\n",
      "Suggestion: check for spelling errors or missing imports.\n",
      "\n",
      "Stacktrace:\n",
      " [1] top-level scope\n",
      "   @ ~/Descargas/jl_notebook_cell_df34fa98e69747e1a8f8a730347b8e2f_X41sZmlsZQ==.jl:1"
     ]
    }
   ],
   "source": [
    "size(mat)"
   ]
  },
  {
   "cell_type": "code",
   "execution_count": 39,
   "metadata": {},
   "outputs": [
    {
     "ename": "UndefVarError",
     "evalue": "UndefVarError: `P` not defined in `Main`\nSuggestion: check for spelling errors or missing imports.",
     "output_type": "error",
     "traceback": [
      "UndefVarError: `P` not defined in `Main`\n",
      "Suggestion: check for spelling errors or missing imports.\n",
      "\n",
      "Stacktrace:\n",
      " [1] top-level scope\n",
      "   @ ~/Descargas/jl_notebook_cell_df34fa98e69747e1a8f8a730347b8e2f_X42sZmlsZQ==.jl:1"
     ]
    }
   ],
   "source": [
    "size(P)"
   ]
  },
  {
   "cell_type": "markdown",
   "metadata": {},
   "source": [
    "# Error de predicción"
   ]
  },
  {
   "cell_type": "code",
   "execution_count": 40,
   "metadata": {},
   "outputs": [
    {
     "ename": "UndefVarError",
     "evalue": "UndefVarError: `load` not defined in `Main`\nSuggestion: check for spelling errors or missing imports.",
     "output_type": "error",
     "traceback": [
      "UndefVarError: `load` not defined in `Main`\n",
      "Suggestion: check for spelling errors or missing imports.\n",
      "\n",
      "Stacktrace:\n",
      " [1] top-level scope\n",
      "   @ ~/Descargas/jl_notebook_cell_df34fa98e69747e1a8f8a730347b8e2f_X44sZmlsZQ==.jl:1"
     ]
    }
   ],
   "source": [
    "img=load(\"test.jpg\")\n",
    "img_g=Gray.(img)\n",
    "img_g=imresize(img_g,dim,dim)"
   ]
  },
  {
   "cell_type": "code",
   "execution_count": 41,
   "metadata": {},
   "outputs": [
    {
     "ename": "UndefVarError",
     "evalue": "UndefVarError: `img_g` not defined in `Main`\nSuggestion: check for spelling errors or missing imports.",
     "output_type": "error",
     "traceback": [
      "UndefVarError: `img_g` not defined in `Main`\n",
      "Suggestion: check for spelling errors or missing imports.\n",
      "\n",
      "Stacktrace:\n",
      " [1] top-level scope\n",
      "   @ ~/Descargas/jl_notebook_cell_df34fa98e69747e1a8f8a730347b8e2f_X45sZmlsZQ==.jl:1"
     ]
    }
   ],
   "source": [
    "x_i=reshape(my_type.(img_g),(1,dim*dim))-mean_face\n",
    "P_i=transpose(eigenfaces)*transpose(x_i);"
   ]
  },
  {
   "cell_type": "code",
   "execution_count": 42,
   "metadata": {},
   "outputs": [
    {
     "ename": "UndefVarError",
     "evalue": "UndefVarError: `eigenfaces` not defined in `Main`\nSuggestion: check for spelling errors or missing imports.",
     "output_type": "error",
     "traceback": [
      "UndefVarError: `eigenfaces` not defined in `Main`\n",
      "Suggestion: check for spelling errors or missing imports.\n",
      "\n",
      "Stacktrace:\n",
      " [1] top-level scope\n",
      "   @ ~/Descargas/jl_notebook_cell_df34fa98e69747e1a8f8a730347b8e2f_X46sZmlsZQ==.jl:1"
     ]
    }
   ],
   "source": [
    "size(eigenfaces)"
   ]
  },
  {
   "cell_type": "code",
   "execution_count": 43,
   "metadata": {},
   "outputs": [
    {
     "ename": "UndefVarError",
     "evalue": "UndefVarError: `eigenfaces` not defined in `Main`\nSuggestion: check for spelling errors or missing imports.",
     "output_type": "error",
     "traceback": [
      "UndefVarError: `eigenfaces` not defined in `Main`\n",
      "Suggestion: check for spelling errors or missing imports.\n"
     ]
    }
   ],
   "source": [
    "eigenfaces"
   ]
  },
  {
   "cell_type": "code",
   "execution_count": 44,
   "metadata": {},
   "outputs": [
    {
     "ename": "UndefVarError",
     "evalue": "UndefVarError: `P` not defined in `Main`\nSuggestion: check for spelling errors or missing imports.",
     "output_type": "error",
     "traceback": [
      "UndefVarError: `P` not defined in `Main`\n",
      "Suggestion: check for spelling errors or missing imports.\n",
      "\n",
      "Stacktrace:\n",
      " [1] top-level scope\n",
      "   @ ~/Descargas/jl_notebook_cell_df34fa98e69747e1a8f8a730347b8e2f_X51sZmlsZQ==.jl:3"
     ]
    }
   ],
   "source": [
    "dist=[]\n",
    "for i in 1:22\n",
    "    push!(dist,norm(P[:,i]-P_i))\n",
    "end\n",
    "pred=names[argmin(dist)]\n",
    "print(\"La persona es : $pred\")"
   ]
  },
  {
   "cell_type": "markdown",
   "metadata": {},
   "source": [
    "# Cuantización"
   ]
  },
  {
   "cell_type": "code",
   "execution_count": 45,
   "metadata": {},
   "outputs": [
    {
     "data": {
      "text/plain": [
       "generate_quantization_constants (generic function with 1 method)"
      ]
     },
     "metadata": {},
     "output_type": "display_data"
    }
   ],
   "source": [
    "function quantization(x, s, z, alpha_q, beta_q)\n",
    "    x_q=((1 / s) * x).+z\n",
    "    x_q = round.(x_q)\n",
    "    x_q = clamp.(x_q, alpha_q, beta_q)\n",
    "    return x_q\n",
    "end\n",
    "\n",
    "function quantization_int8(x, s, z)\n",
    "    x_q = quantization(x, s, z, alpha_q=-128, beta_q=127)\n",
    "    x_q = Int8.(x_q)\n",
    "    return x_q\n",
    "end\n",
    "\n",
    "function dequantization(x_q, s, z)\n",
    "    # x_q - z might go outside the quantization range.\n",
    "    x_q = Float32.(x_q)\n",
    "    x = s * (x_q .- z)\n",
    "    x = Float32.(x)\n",
    "    return x\n",
    "end\n",
    "\n",
    "function generate_quantization_constants(alpha, beta, alpha_q, beta_q)\n",
    "    # Affine quantization mapping\n",
    "    s = (beta - alpha) / (beta_q - alpha_q)\n",
    "    z = ((beta * alpha_q - alpha * beta_q) / (beta - alpha))\n",
    "    return s, z\n",
    "end"
   ]
  },
  {
   "cell_type": "code",
   "execution_count": 46,
   "metadata": {},
   "outputs": [],
   "source": [
    "b=8\n",
    "r=randn(10);\n",
    "\n",
    "alpha=minimum(r)\n",
    "beta=maximum(r)\n",
    "alpha_q = -2^(b - 1)\n",
    "beta_q = 2^(b - 1) - 1\n",
    "\n",
    "s,z=generate_quantization_constants(alpha,beta,alpha_q,beta_q)\n",
    "q_r=quantization(r,s,z,alpha_q,beta_q);"
   ]
  },
  {
   "cell_type": "code",
   "execution_count": 47,
   "metadata": {},
   "outputs": [
    {
     "data": {
      "text/plain": [
       "10-element Vector{Float64}:\n",
       "  -52.0\n",
       "   58.0\n",
       "   39.0\n",
       "   87.0\n",
       "   52.0\n",
       "   32.0\n",
       " -128.0\n",
       "   55.0\n",
       "   39.0\n",
       "  127.0"
      ]
     },
     "metadata": {},
     "output_type": "display_data"
    }
   ],
   "source": [
    "q_r"
   ]
  },
  {
   "cell_type": "code",
   "execution_count": 48,
   "metadata": {},
   "outputs": [
    {
     "name": "stdout",
     "output_type": "stream",
     "text": [
      "valor original : -0.6543491698770105, valor cuantizado -0.65656084, valor truncado : -1\n",
      "valor original : 0.21072416355067397, valor cuantizado 0.21288359, valor truncado : 0\n",
      "valor original : 0.06262479663971347, valor cuantizado 0.06270683, valor truncado : 0\n",
      "valor original : 0.44432793896376505, valor cuantizado 0.44210076, valor truncado : 0\n",
      "valor original : 0.16790135120328112, valor cuantizado 0.16545935, valor truncado : 0\n",
      "valor original : 0.010921737586252828, valor cuantizado 0.0073785447, valor truncado : 0\n",
      "valor original : -1.2572679271573648, valor cuantizado -1.257268, valor truncado : -1\n",
      "valor original : 0.18966399533097567, valor cuantizado 0.18917148, valor truncado : 0\n",
      "valor original : 0.0642543697725499, valor cuantizado 0.06270683, valor truncado : 0\n",
      "valor original : 0.758262387049606, valor cuantizado 0.7582624, valor truncado : 1\n"
     ]
    }
   ],
   "source": [
    "for (i,j,k) in zip( dequantization(q_r,s,z),r,Int8.(round.(r)))\n",
    "    println(\"valor original : $j, valor cuantizado $i, valor truncado : $k\")\n",
    "end"
   ]
  },
  {
   "cell_type": "code",
   "execution_count": 49,
   "metadata": {},
   "outputs": [
    {
     "data": {
      "text/plain": [
       "0.7471702718076809"
      ]
     },
     "metadata": {},
     "output_type": "display_data"
    }
   ],
   "source": [
    "error=norm(r-Int8.(round.(r)))"
   ]
  },
  {
   "cell_type": "code",
   "execution_count": 50,
   "metadata": {},
   "outputs": [
    {
     "data": {
      "text/plain": [
       "0.005972996958250884"
      ]
     },
     "metadata": {},
     "output_type": "display_data"
    }
   ],
   "source": [
    "error=norm(r-dequantization(q_r,s,z))"
   ]
  },
  {
   "cell_type": "code",
   "execution_count": 51,
   "metadata": {},
   "outputs": [
    {
     "ename": "UndefVarError",
     "evalue": "UndefVarError: `eigenfaces` not defined in `Main`\nSuggestion: check for spelling errors or missing imports.",
     "output_type": "error",
     "traceback": [
      "UndefVarError: `eigenfaces` not defined in `Main`\n",
      "Suggestion: check for spelling errors or missing imports.\n",
      "\n",
      "Stacktrace:\n",
      " [1] top-level scope\n",
      "   @ ~/Descargas/jl_notebook_cell_df34fa98e69747e1a8f8a730347b8e2f_X62sZmlsZQ==.jl:1"
     ]
    }
   ],
   "source": [
    "r=eigenfaces[:,1]\n",
    "alpha=minimum(r)\n",
    "beta=maximum(r)\n",
    "alpha_q = -2^(b - 1)\n",
    "beta_q = 2^(b - 1) - 1\n",
    "\n",
    "s,z=generate_quantization_constants(alpha,beta,alpha_q,beta_q)\n",
    "q_r=quantization(r,s,z,alpha_q,beta_q);\n",
    "q_r=Int8.(q_r)"
   ]
  },
  {
   "cell_type": "code",
   "execution_count": 52,
   "metadata": {},
   "outputs": [
    {
     "data": {
      "text/plain": [
       "10-element Vector{Float64}:\n",
       "  -52.0\n",
       "   58.0\n",
       "   39.0\n",
       "   87.0\n",
       "   52.0\n",
       "   32.0\n",
       " -128.0\n",
       "   55.0\n",
       "   39.0\n",
       "  127.0"
      ]
     },
     "metadata": {},
     "output_type": "display_data"
    }
   ],
   "source": [
    "q_r"
   ]
  },
  {
   "cell_type": "code",
   "execution_count": 53,
   "metadata": {},
   "outputs": [
    {
     "data": {
      "text/plain": [
       "0.005972996958250884"
      ]
     },
     "metadata": {},
     "output_type": "display_data"
    }
   ],
   "source": [
    "error=norm(r-dequantization(q_r,s,z))"
   ]
  },
  {
   "cell_type": "markdown",
   "metadata": {},
   "source": [
    "# Error de Reconstrucción"
   ]
  },
  {
   "cell_type": "code",
   "execution_count": 54,
   "metadata": {},
   "outputs": [
    {
     "ename": "UndefVarError",
     "evalue": "UndefVarError: `eigenfaces` not defined in `Main`\nSuggestion: check for spelling errors or missing imports.",
     "output_type": "error",
     "traceback": [
      "UndefVarError: `eigenfaces` not defined in `Main`\n",
      "Suggestion: check for spelling errors or missing imports.\n",
      "\n",
      "Stacktrace:\n",
      " [1] top-level scope\n",
      "   @ ~/Descargas/jl_notebook_cell_df34fa98e69747e1a8f8a730347b8e2f_X66sZmlsZQ==.jl:1"
     ]
    }
   ],
   "source": [
    "R=transpose(eigenfaces*P).+mean_face"
   ]
  },
  {
   "cell_type": "code",
   "execution_count": 55,
   "metadata": {},
   "outputs": [
    {
     "ename": "UndefVarError",
     "evalue": "UndefVarError: `eigenfaces` not defined in `Main`\nSuggestion: check for spelling errors or missing imports.",
     "output_type": "error",
     "traceback": [
      "UndefVarError: `eigenfaces` not defined in `Main`\n",
      "Suggestion: check for spelling errors or missing imports.\n",
      "\n",
      "Stacktrace:\n",
      " [1] top-level scope\n",
      "   @ ~/Descargas/jl_notebook_cell_df34fa98e69747e1a8f8a730347b8e2f_Y100sZmlsZQ==.jl:1"
     ]
    }
   ],
   "source": [
    "R_i=transpose(eigenfaces*P_i).+mean_face"
   ]
  },
  {
   "cell_type": "code",
   "execution_count": 56,
   "metadata": {},
   "outputs": [
    {
     "ename": "UndefVarError",
     "evalue": "UndefVarError: `mat` not defined in `Main`\nSuggestion: check for spelling errors or missing imports.",
     "output_type": "error",
     "traceback": [
      "UndefVarError: `mat` not defined in `Main`\n",
      "Suggestion: check for spelling errors or missing imports.\n",
      "\n",
      "Stacktrace:\n",
      " [1] top-level scope\n",
      "   @ ~/Descargas/jl_notebook_cell_df34fa98e69747e1a8f8a730347b8e2f_Y101sZmlsZQ==.jl:1"
     ]
    }
   ],
   "source": [
    "norm(mat-R)"
   ]
  },
  {
   "cell_type": "code",
   "execution_count": 57,
   "metadata": {},
   "outputs": [
    {
     "ename": "UndefVarError",
     "evalue": "UndefVarError: `mean_face` not defined in `Main`\nSuggestion: check for spelling errors or missing imports.",
     "output_type": "error",
     "traceback": [
      "UndefVarError: `mean_face` not defined in `Main`\n",
      "Suggestion: check for spelling errors or missing imports.\n",
      "\n",
      "Stacktrace:\n",
      " [1] top-level scope\n",
      "   @ ~/Descargas/jl_notebook_cell_df34fa98e69747e1a8f8a730347b8e2f_Y102sZmlsZQ==.jl:1"
     ]
    }
   ],
   "source": [
    "Gray.((reshape(mean_face,(dim,dim))))"
   ]
  },
  {
   "cell_type": "code",
   "execution_count": 58,
   "metadata": {},
   "outputs": [
    {
     "ename": "UndefVarError",
     "evalue": "UndefVarError: `R_i` not defined in `Main`\nSuggestion: check for spelling errors or missing imports.",
     "output_type": "error",
     "traceback": [
      "UndefVarError: `R_i` not defined in `Main`\n",
      "Suggestion: check for spelling errors or missing imports.\n",
      "\n",
      "Stacktrace:\n",
      " [1] top-level scope\n",
      "   @ ~/Descargas/jl_notebook_cell_df34fa98e69747e1a8f8a730347b8e2f_Y103sZmlsZQ==.jl:1"
     ]
    }
   ],
   "source": [
    "Gray.((reshape(R_i,(dim,dim))))"
   ]
  },
  {
   "cell_type": "code",
   "execution_count": 59,
   "metadata": {},
   "outputs": [
    {
     "ename": "MethodError",
     "evalue": "MethodError: objects of type Module are not callable\nThe object of type `Module` exists, but no method is defined for this combination of argument types when trying to treat it as a callable object.",
     "output_type": "error",
     "traceback": [
      "MethodError: objects of type Module are not callable\n",
      "The object of type `Module` exists, but no method is defined for this combination of argument types when trying to treat it as a callable object.\n",
      "\n",
      "Stacktrace:\n",
      " [1] |>(x::Tables.DictColumnTable, f::Module)\n",
      "   @ Base ./operators.jl:926\n",
      " [2] top-level scope\n",
      "   @ ~/Descargas/jl_notebook_cell_df34fa98e69747e1a8f8a730347b8e2f_Y104sZmlsZQ==.jl:2"
     ]
    }
   ],
   "source": [
    "using OpenML, DataFrames\n",
    "faces = OpenML.load(41083) |> DataFrames"
   ]
  }
 ],
 "metadata": {
  "kernelspec": {
   "display_name": "Julia 1.11.2",
   "language": "julia",
   "name": "julia-1.11"
  },
  "language_info": {
   "file_extension": ".jl",
   "mimetype": "application/julia",
   "name": "julia",
   "version": "1.11.2"
  },
  "orig_nbformat": 4
 },
 "nbformat": 4,
 "nbformat_minor": 2
}
