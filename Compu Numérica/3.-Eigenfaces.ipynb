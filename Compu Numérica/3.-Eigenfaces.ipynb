{
 "cells": [
  {
   "cell_type": "markdown",
   "metadata": {},
   "source": [
    "# Algoritmo PCA\n",
    "\n",
    "El algoritmo PCA (Análisis de Componentes Principales) permite encontrar una representación de baja dimensionalidad $\\mathbf{y_i}$ que explica la varianza de los datos originales $\\mathbf{x_i}$. \n",
    "\n",
    "\\begin{align*}\n",
    "\\mathbf{y_i}=U^T (\\mathbf{x_i}-\\mu)\\\\\n",
    "\\tilde{\\mathbf{x_i}}=U \\mathbf{y_i} +\\mu\n",
    "\\end{align*}"
   ]
  },
  {
   "cell_type": "code",
   "execution_count": 3,
   "metadata": {},
   "outputs": [
    {
     "data": {
      "text/plain": [
       "2.7733362266239673e-15"
      ]
     },
     "metadata": {},
     "output_type": "display_data"
    }
   ],
   "source": [
    "using LinearAlgebra; \n",
    "using MultivariateStats;\n",
    "using Statistics;\n",
    "\n",
    "X=[ 7  4  3;\n",
    "    4  1  8; \n",
    "    6  3  5;\n",
    "    8  6  1;\n",
    "    8  5  7;\n",
    "    7  2  9;\n",
    "    5  3  3;\n",
    "    9  5  8;\n",
    "    7  4  5;\n",
    "    8  2  2];\n",
    "μ=mean!([1. 1. 1.],X)\n",
    "X_m=(X.-μ)\n",
    "M = fit(PCA, transpose(X_m),maxoutdim=3)\n",
    "Yte = transform(M, transpose(X_m))\n",
    "X_r=transpose(reconstruct(M, Yte)).+μ\n",
    "E=norm(X-X_r)"
   ]
  },
  {
   "cell_type": "code",
   "execution_count": 4,
   "metadata": {},
   "outputs": [
    {
     "data": {
      "text/plain": [
       "PCA(indim = 3, outdim = 3, principalratio = 1.0)\n",
       "\n",
       "Pattern matrix (unstandardized loadings):\n",
       "──────────────────────────────────\n",
       "         PC1       PC2         PC3\n",
       "──────────────────────────────────\n",
       "1  -0.395715  1.34028   -0.607685\n",
       "2  -0.720434  1.26714    0.612646\n",
       "3   2.75651   0.523582   0.0728826\n",
       "──────────────────────────────────\n",
       "\n",
       "Importance of components:\n",
       "────────────────────────────────────────────────────────\n",
       "                                PC1       PC2        PC3\n",
       "────────────────────────────────────────────────────────\n",
       "SS Loadings (Eigenvalues)  8.27394   3.67613   0.749928\n",
       "Variance explained         0.651492  0.289459  0.0590495\n",
       "Cumulative variance        0.651492  0.940951  1.0\n",
       "Proportion explained       0.651492  0.289459  0.0590495\n",
       "Cumulative proportion      0.651492  0.940951  1.0\n",
       "────────────────────────────────────────────────────────"
      ]
     },
     "metadata": {},
     "output_type": "display_data"
    }
   ],
   "source": [
    "M"
   ]
  },
  {
   "cell_type": "code",
   "execution_count": 5,
   "metadata": {},
   "outputs": [
    {
     "data": {
      "text/plain": [
       "Matrix{Float64}\u001b[90m (alias for \u001b[39m\u001b[90mArray{Float64, 2}\u001b[39m\u001b[90m)\u001b[39m"
      ]
     },
     "metadata": {},
     "output_type": "display_data"
    }
   ],
   "source": [
    "typeof(X_m)"
   ]
  },
  {
   "cell_type": "code",
   "execution_count": 6,
   "metadata": {},
   "outputs": [
    {
     "ename": "ErrorException",
     "evalue": "cannot assign a value to imported variable Base.values from module Main",
     "output_type": "error",
     "traceback": [
      "cannot assign a value to imported variable Base.values from module Main\n",
      "\n",
      "Stacktrace:\n",
      " [1] top-level scope\n",
      "   @ c:\\Users\\juanr\\Documents\\GitHub\\UCM\\Compu Numérica\\jl_notebook_cell_df34fa98e69747e1a8f8a730347b8e2f_W4sZmlsZQ==.jl:1"
     ]
    }
   ],
   "source": [
    "values,vectors=eigen(cov(X_m));"
   ]
  },
  {
   "cell_type": "code",
   "execution_count": 7,
   "metadata": {},
   "outputs": [
    {
     "ename": "UndefVarError",
     "evalue": "UndefVarError: `vectors` not defined in `Main`\nSuggestion: check for spelling errors or missing imports.",
     "output_type": "error",
     "traceback": [
      "UndefVarError: `vectors` not defined in `Main`\n",
      "Suggestion: check for spelling errors or missing imports.\n",
      "\n",
      "Stacktrace:\n",
      " [1] top-level scope\n",
      "   @ c:\\Users\\juanr\\Documents\\GitHub\\UCM\\Compu Numérica\\jl_notebook_cell_df34fa98e69747e1a8f8a730347b8e2f_W5sZmlsZQ==.jl:1"
     ]
    }
   ],
   "source": [
    "U=[vectors[:,3] vectors[:,2]]\n",
    "V=sort(values[2:3],rev=true)\n",
    "U_s=sqrt.(V)'.*U"
   ]
  },
  {
   "cell_type": "code",
   "execution_count": 8,
   "metadata": {},
   "outputs": [
    {
     "ename": "UndefVarError",
     "evalue": "UndefVarError: `U` not defined in `Main`\nSuggestion: check for spelling errors or missing imports.",
     "output_type": "error",
     "traceback": [
      "UndefVarError: `U` not defined in `Main`\n",
      "Suggestion: check for spelling errors or missing imports.\n"
     ]
    }
   ],
   "source": [
    "U"
   ]
  },
  {
   "cell_type": "code",
   "execution_count": 9,
   "metadata": {},
   "outputs": [
    {
     "data": {
      "text/plain": [
       "3-element Vector{Float64}:\n",
       " 8.273942580407862\n",
       " 3.6761292667973366\n",
       " 0.7499281527948027"
      ]
     },
     "metadata": {},
     "output_type": "display_data"
    }
   ],
   "source": [
    "M.prinvars"
   ]
  },
  {
   "cell_type": "code",
   "execution_count": 10,
   "metadata": {},
   "outputs": [
    {
     "ename": "UndefVarError",
     "evalue": "UndefVarError: `V` not defined in `Main`\nSuggestion: check for spelling errors or missing imports.",
     "output_type": "error",
     "traceback": [
      "UndefVarError: `V` not defined in `Main`\n",
      "Suggestion: check for spelling errors or missing imports.\n"
     ]
    }
   ],
   "source": [
    "V"
   ]
  },
  {
   "cell_type": "code",
   "execution_count": 11,
   "metadata": {},
   "outputs": [
    {
     "data": {
      "text/plain": [
       "3×3 Matrix{Float64}:\n",
       " -0.137571  -0.699037   0.701727\n",
       " -0.25046   -0.660889  -0.707457\n",
       "  0.958303  -0.27308   -0.0841616"
      ]
     },
     "metadata": {},
     "output_type": "display_data"
    }
   ],
   "source": [
    "M.proj"
   ]
  },
  {
   "cell_type": "code",
   "execution_count": 12,
   "metadata": {},
   "outputs": [
    {
     "ename": "UndefVarError",
     "evalue": "UndefVarError: `V` not defined in `Main`\nSuggestion: check for spelling errors or missing imports.",
     "output_type": "error",
     "traceback": [
      "UndefVarError: `V` not defined in `Main`\n",
      "Suggestion: check for spelling errors or missing imports.\n",
      "\n",
      "Stacktrace:\n",
      " [1] top-level scope\n",
      "   @ c:\\Users\\juanr\\Documents\\GitHub\\UCM\\Compu Numérica\\jl_notebook_cell_df34fa98e69747e1a8f8a730347b8e2f_X13sZmlsZQ==.jl:1"
     ]
    }
   ],
   "source": [
    "imp=V./sum(V)\n",
    "print(\"Proportion explained : $imp\")"
   ]
  },
  {
   "cell_type": "code",
   "execution_count": 13,
   "metadata": {},
   "outputs": [
    {
     "ename": "UndefVarError",
     "evalue": "UndefVarError: `U` not defined in `Main`\nSuggestion: check for spelling errors or missing imports.",
     "output_type": "error",
     "traceback": [
      "UndefVarError: `U` not defined in `Main`\n",
      "Suggestion: check for spelling errors or missing imports.\n",
      "\n",
      "Stacktrace:\n",
      " [1] top-level scope\n",
      "   @ c:\\Users\\juanr\\Documents\\GitHub\\UCM\\Compu Numérica\\jl_notebook_cell_df34fa98e69747e1a8f8a730347b8e2f_X14sZmlsZQ==.jl:1"
     ]
    }
   ],
   "source": [
    "Y_t=transpose(U)*transpose(X_m)\n",
    "X_r2=transpose(U*Y_t).+μ"
   ]
  },
  {
   "cell_type": "code",
   "execution_count": 14,
   "metadata": {},
   "outputs": [
    {
     "ename": "UndefVarError",
     "evalue": "UndefVarError: `U` not defined in `Main`\nSuggestion: check for spelling errors or missing imports.",
     "output_type": "error",
     "traceback": [
      "UndefVarError: `U` not defined in `Main`\n",
      "Suggestion: check for spelling errors or missing imports.\n",
      "\n",
      "Stacktrace:\n",
      " [1] top-level scope\n",
      "   @ c:\\Users\\juanr\\Documents\\GitHub\\UCM\\Compu Numérica\\jl_notebook_cell_df34fa98e69747e1a8f8a730347b8e2f_X15sZmlsZQ==.jl:1"
     ]
    }
   ],
   "source": [
    "transpose(U)"
   ]
  },
  {
   "cell_type": "code",
   "execution_count": 15,
   "metadata": {},
   "outputs": [
    {
     "ename": "MethodError",
     "evalue": "MethodError: no method matching sort(::typeof(values); rev::Bool)\nThe function `sort` exists, but no method is defined for this combination of argument types.\n\nClosest candidates are:\n  sort(!Matched::AbstractUnitRange) got unsupported keyword argument \"rev\"\n   @ Base range.jl:1397\n  sort(!Matched::AbstractRange) got unsupported keyword argument \"rev\"\n   @ Base range.jl:1400\n  sort(!Matched::OrderedCollections.LittleSet{T, <:Tuple}; ks...) where T\n   @ OrderedCollections C:\\Users\\juanr\\.julia\\packages\\OrderedCollections\\Xihhq\\src\\little_set.jl:135\n  ...\n",
     "output_type": "error",
     "traceback": [
      "MethodError: no method matching sort(::typeof(values); rev::Bool)\n",
      "The function `sort` exists, but no method is defined for this combination of argument types.\n",
      "\n",
      "Closest candidates are:\n",
      "  sort(!Matched::AbstractUnitRange) got unsupported keyword argument \"rev\"\n",
      "   @ Base range.jl:1397\n",
      "  sort(!Matched::AbstractRange) got unsupported keyword argument \"rev\"\n",
      "   @ Base range.jl:1400\n",
      "  sort(!Matched::OrderedCollections.LittleSet{T, <:Tuple}; ks...) where T\n",
      "   @ OrderedCollections C:\\Users\\juanr\\.julia\\packages\\OrderedCollections\\Xihhq\\src\\little_set.jl:135\n",
      "  ...\n",
      "\n",
      "\n",
      "Stacktrace:\n",
      " [1] top-level scope\n",
      "   @ c:\\Users\\juanr\\Documents\\GitHub\\UCM\\Compu Numérica\\jl_notebook_cell_df34fa98e69747e1a8f8a730347b8e2f_X16sZmlsZQ==.jl:3"
     ]
    }
   ],
   "source": [
    "using Plots;\n",
    "\n",
    "plot(sort(values,rev=true))"
   ]
  },
  {
   "cell_type": "code",
   "execution_count": 16,
   "metadata": {},
   "outputs": [
    {
     "data": {
      "text/plain": [
       "2.7733362266239673e-15"
      ]
     },
     "metadata": {},
     "output_type": "display_data"
    }
   ],
   "source": [
    "norm(X-X_r)"
   ]
  },
  {
   "cell_type": "markdown",
   "metadata": {},
   "source": [
    "# EigenFaces\n",
    "\n",
    "En el caso del reconocimiento facial, el algoritmo Eigenfaces utiliza esta representación de baja dimensionalidad para comparar caras nuevas (no utilizadas para ajustar los valores y vectores propios). Sin embargo, una de los problemas al utlizar esta técnica es determinar la dimensionalidad \\emph{intrinsica} de los datos. Esto quiere decir que el número de componentes principales es desconocido y debe determinarse mediante un compromiso entre el error de reconstrucción $E=\\sum_i^n (\\mathbf{x_i}-\\tilde{\\mathbf{x_i}})^2$ y la capacidad de comprimir y explicar los datos.\n",
    "\n",
    "https://bio322.epfl.ch/notebooks/pca.html"
   ]
  },
  {
   "cell_type": "code",
   "execution_count": 17,
   "metadata": {},
   "outputs": [
    {
     "data": {
      "text/plain": [
       "images_to_mat (generic function with 1 method)"
      ]
     },
     "metadata": {},
     "output_type": "display_data"
    }
   ],
   "source": [
    "using Images,Colors\n",
    "using ImageTransformations\n",
    "\n",
    "path=\"eigenvalue_pics/\"\n",
    "dim=64\n",
    "\n",
    "function images_to_mat(pathlist,dim,data_type)\n",
    "    mat=zeros(data_type,length(pathlist),dim*dim)\n",
    "    for (index,images) in enumerate(pathlist)\n",
    "        img=load(images)\n",
    "        img_g=Gray.(img)\n",
    "        img_g=imresize(img_g,dim,dim)\n",
    "        img_g=data_type.(img_g)\n",
    "        img_g=reshape(img_g,(1,dim*dim))\n",
    "        mat[index,:]=img_g\n",
    "    end \n",
    "    return mat\n",
    "end\n",
    "\n"
   ]
  },
  {
   "cell_type": "code",
   "execution_count": 18,
   "metadata": {},
   "outputs": [
    {
     "ename": "Base.IOError",
     "evalue": "IOError: readdir(\"eigenvalue_pics/\"): no such file or directory (ENOENT)",
     "output_type": "error",
     "traceback": [
      "IOError: readdir(\"eigenvalue_pics/\"): no such file or directory (ENOENT)\n",
      "\n",
      "Stacktrace:\n",
      " [1] uv_error\n",
      "   @ .\\libuv.jl:106 [inlined]\n",
      " [2] _readdir(dir::String; return_objects::Bool, join::Bool, sort::Bool)\n",
      "   @ Base.Filesystem .\\file.jl:995\n",
      " [3] _readdir\n",
      "   @ .\\file.jl:988 [inlined]\n",
      " [4] readdir(dir::String)\n",
      "   @ Base.Filesystem .\\file.jl:917\n",
      " [5] top-level scope\n",
      "   @ c:\\Users\\juanr\\Documents\\GitHub\\UCM\\Compu Numérica\\jl_notebook_cell_df34fa98e69747e1a8f8a730347b8e2f_X23sZmlsZQ==.jl:3"
     ]
    }
   ],
   "source": [
    "pathlist=[]\n",
    "names=[]\n",
    "for d in readdir(path)\n",
    "    for f in readdir(path*d)\n",
    "        file_path=path*d*\"/\"*f\n",
    "        push!(pathlist,file_path)\n",
    "        push!(names,d)\n",
    "    end \n",
    "end "
   ]
  },
  {
   "cell_type": "code",
   "execution_count": 19,
   "metadata": {},
   "outputs": [],
   "source": [
    "using LinearAlgebra; \n",
    "using MultivariateStats;\n",
    "using Statistics;\n",
    "\n",
    "my_type=Float64\n",
    "mat=images_to_mat(pathlist,dim,my_type)\n",
    "mean_face=mean!(transpose(ones(dim*dim)),mat)\n",
    "centered_mat=mat.-my_type.(mean_face);"
   ]
  },
  {
   "cell_type": "code",
   "execution_count": 20,
   "metadata": {},
   "outputs": [
    {
     "ename": "ErrorException",
     "evalue": "cannot assign a value to imported variable Base.values from module Main",
     "output_type": "error",
     "traceback": [
      "cannot assign a value to imported variable Base.values from module Main\n",
      "\n",
      "Stacktrace:\n",
      " [1] top-level scope\n",
      "   @ c:\\Users\\juanr\\Documents\\GitHub\\UCM\\Compu Numérica\\jl_notebook_cell_df34fa98e69747e1a8f8a730347b8e2f_X25sZmlsZQ==.jl:1"
     ]
    }
   ],
   "source": [
    "values,vectors=eigen(cov(centered_mat));"
   ]
  },
  {
   "cell_type": "code",
   "execution_count": 21,
   "metadata": {},
   "outputs": [
    {
     "ename": "UndefVarError",
     "evalue": "UndefVarError: `vectors` not defined in `Main`\nSuggestion: check for spelling errors or missing imports.",
     "output_type": "error",
     "traceback": [
      "UndefVarError: `vectors` not defined in `Main`\n",
      "Suggestion: check for spelling errors or missing imports.\n",
      "\n",
      "Stacktrace:\n",
      " [1] top-level scope\n",
      "   @ c:\\Users\\juanr\\Documents\\GitHub\\UCM\\Compu Numérica\\jl_notebook_cell_df34fa98e69747e1a8f8a730347b8e2f_X26sZmlsZQ==.jl:1"
     ]
    }
   ],
   "source": [
    "typeof(vectors)"
   ]
  },
  {
   "cell_type": "code",
   "execution_count": 22,
   "metadata": {},
   "outputs": [
    {
     "ename": "MethodError",
     "evalue": "MethodError: no method matching sort(::typeof(values); rev::Bool)\nThe function `sort` exists, but no method is defined for this combination of argument types.\n\nClosest candidates are:\n  sort(!Matched::AbstractUnitRange) got unsupported keyword argument \"rev\"\n   @ Base range.jl:1397\n  sort(!Matched::AbstractRange) got unsupported keyword argument \"rev\"\n   @ Base range.jl:1400\n  sort(!Matched::OrderedCollections.LittleSet{T, <:Tuple}; ks...) where T\n   @ OrderedCollections C:\\Users\\juanr\\.julia\\packages\\OrderedCollections\\Xihhq\\src\\little_set.jl:135\n  ...\n",
     "output_type": "error",
     "traceback": [
      "MethodError: no method matching sort(::typeof(values); rev::Bool)\n",
      "The function `sort` exists, but no method is defined for this combination of argument types.\n",
      "\n",
      "Closest candidates are:\n",
      "  sort(!Matched::AbstractUnitRange) got unsupported keyword argument \"rev\"\n",
      "   @ Base range.jl:1397\n",
      "  sort(!Matched::AbstractRange) got unsupported keyword argument \"rev\"\n",
      "   @ Base range.jl:1400\n",
      "  sort(!Matched::OrderedCollections.LittleSet{T, <:Tuple}; ks...) where T\n",
      "   @ OrderedCollections C:\\Users\\juanr\\.julia\\packages\\OrderedCollections\\Xihhq\\src\\little_set.jl:135\n",
      "  ...\n",
      "\n",
      "\n",
      "Stacktrace:\n",
      " [1] top-level scope\n",
      "   @ c:\\Users\\juanr\\Documents\\GitHub\\UCM\\Compu Numérica\\jl_notebook_cell_df34fa98e69747e1a8f8a730347b8e2f_X30sZmlsZQ==.jl:1"
     ]
    }
   ],
   "source": [
    "sorted_values=sort(values,rev=true);"
   ]
  },
  {
   "cell_type": "code",
   "execution_count": 23,
   "metadata": {},
   "outputs": [
    {
     "ename": "UndefVarError",
     "evalue": "UndefVarError: `sorted_values` not defined in `Main`\nSuggestion: check for spelling errors or missing imports.",
     "output_type": "error",
     "traceback": [
      "UndefVarError: `sorted_values` not defined in `Main`\n",
      "Suggestion: check for spelling errors or missing imports.\n",
      "\n",
      "Stacktrace:\n",
      " [1] top-level scope\n",
      "   @ c:\\Users\\juanr\\Documents\\GitHub\\UCM\\Compu Numérica\\jl_notebook_cell_df34fa98e69747e1a8f8a730347b8e2f_X31sZmlsZQ==.jl:1"
     ]
    }
   ],
   "source": [
    "length(sorted_values)"
   ]
  },
  {
   "cell_type": "code",
   "execution_count": 24,
   "metadata": {},
   "outputs": [
    {
     "ename": "UndefVarError",
     "evalue": "UndefVarError: `sorted_values` not defined in `Main`\nSuggestion: check for spelling errors or missing imports.",
     "output_type": "error",
     "traceback": [
      "UndefVarError: `sorted_values` not defined in `Main`\n",
      "Suggestion: check for spelling errors or missing imports.\n",
      "\n",
      "Stacktrace:\n",
      " [1] top-level scope\n",
      "   @ c:\\Users\\juanr\\Documents\\GitHub\\UCM\\Compu Numérica\\jl_notebook_cell_df34fa98e69747e1a8f8a730347b8e2f_X32sZmlsZQ==.jl:3"
     ]
    }
   ],
   "source": [
    "using Plots;\n",
    "\n",
    "sorted_values=sorted_values./sum(sorted_values)\n",
    "plot(sorted_values[1:100],lw=3)"
   ]
  },
  {
   "cell_type": "code",
   "execution_count": 25,
   "metadata": {},
   "outputs": [
    {
     "ename": "UndefVarError",
     "evalue": "UndefVarError: `vectors` not defined in `Main`\nSuggestion: check for spelling errors or missing imports.",
     "output_type": "error",
     "traceback": [
      "UndefVarError: `vectors` not defined in `Main`\n",
      "Suggestion: check for spelling errors or missing imports.\n",
      "\n",
      "Stacktrace:\n",
      " [1] top-level scope\n",
      "   @ c:\\Users\\juanr\\Documents\\GitHub\\UCM\\Compu Numérica\\jl_notebook_cell_df34fa98e69747e1a8f8a730347b8e2f_X33sZmlsZQ==.jl:1"
     ]
    }
   ],
   "source": [
    "size(vectors)"
   ]
  },
  {
   "cell_type": "code",
   "execution_count": 26,
   "metadata": {},
   "outputs": [
    {
     "data": {
      "text/plain": [
       "25"
      ]
     },
     "metadata": {},
     "output_type": "display_data"
    }
   ],
   "source": [
    "num_components=25"
   ]
  },
  {
   "cell_type": "code",
   "execution_count": 27,
   "metadata": {},
   "outputs": [
    {
     "ename": "UndefVarError",
     "evalue": "UndefVarError: `vectors` not defined in `Main`\nSuggestion: check for spelling errors or missing imports.",
     "output_type": "error",
     "traceback": [
      "UndefVarError: `vectors` not defined in `Main`\n",
      "Suggestion: check for spelling errors or missing imports.\n",
      "\n",
      "Stacktrace:\n",
      " [1] top-level scope\n",
      "   @ c:\\Users\\juanr\\Documents\\GitHub\\UCM\\Compu Numérica\\jl_notebook_cell_df34fa98e69747e1a8f8a730347b8e2f_X35sZmlsZQ==.jl:1"
     ]
    }
   ],
   "source": [
    "eigenfaces=vectors[:,dim*dim:-1:(dim*dim-num_components+1)];"
   ]
  },
  {
   "cell_type": "code",
   "execution_count": 28,
   "metadata": {},
   "outputs": [
    {
     "ename": "UndefVarError",
     "evalue": "UndefVarError: `eigenfaces` not defined in `Main`\nSuggestion: check for spelling errors or missing imports.",
     "output_type": "error",
     "traceback": [
      "UndefVarError: `eigenfaces` not defined in `Main`\n",
      "Suggestion: check for spelling errors or missing imports.\n",
      "\n",
      "Stacktrace:\n",
      " [1] top-level scope\n",
      "   @ c:\\Users\\juanr\\Documents\\GitHub\\UCM\\Compu Numérica\\jl_notebook_cell_df34fa98e69747e1a8f8a730347b8e2f_X36sZmlsZQ==.jl:1"
     ]
    }
   ],
   "source": [
    "size(eigenfaces)"
   ]
  },
  {
   "cell_type": "code",
   "execution_count": 29,
   "metadata": {},
   "outputs": [
    {
     "ename": "UndefVarError",
     "evalue": "UndefVarError: `eigenfaces` not defined in `Main`\nSuggestion: check for spelling errors or missing imports.",
     "output_type": "error",
     "traceback": [
      "UndefVarError: `eigenfaces` not defined in `Main`\n",
      "Suggestion: check for spelling errors or missing imports.\n",
      "\n",
      "Stacktrace:\n",
      " [1] top-level scope\n",
      "   @ c:\\Users\\juanr\\Documents\\GitHub\\UCM\\Compu Numérica\\jl_notebook_cell_df34fa98e69747e1a8f8a730347b8e2f_X40sZmlsZQ==.jl:1"
     ]
    }
   ],
   "source": [
    "P=transpose(eigenfaces)*transpose(centered_mat);"
   ]
  },
  {
   "cell_type": "code",
   "execution_count": 30,
   "metadata": {},
   "outputs": [
    {
     "data": {
      "text/plain": [
       "(0, 4096)"
      ]
     },
     "metadata": {},
     "output_type": "display_data"
    }
   ],
   "source": [
    "size(mat)"
   ]
  },
  {
   "cell_type": "code",
   "execution_count": 31,
   "metadata": {},
   "outputs": [
    {
     "ename": "UndefVarError",
     "evalue": "UndefVarError: `P` not defined in `Main`\nSuggestion: check for spelling errors or missing imports.",
     "output_type": "error",
     "traceback": [
      "UndefVarError: `P` not defined in `Main`\n",
      "Suggestion: check for spelling errors or missing imports.\n",
      "\n",
      "Stacktrace:\n",
      " [1] top-level scope\n",
      "   @ c:\\Users\\juanr\\Documents\\GitHub\\UCM\\Compu Numérica\\jl_notebook_cell_df34fa98e69747e1a8f8a730347b8e2f_X42sZmlsZQ==.jl:1"
     ]
    }
   ],
   "source": [
    "size(P)"
   ]
  },
  {
   "cell_type": "markdown",
   "metadata": {},
   "source": [
    "# Error de predicción"
   ]
  },
  {
   "cell_type": "code",
   "execution_count": 55,
   "metadata": {},
   "outputs": [
    {
     "ename": "ArgumentError",
     "evalue": "ArgumentError: No file exists at given path: test.jpg",
     "output_type": "error",
     "traceback": [
      "ArgumentError: No file exists at given path: test.jpg\n",
      "\n",
      "Stacktrace:\n",
      " [1] checkpath_load(file::String)\n",
      "   @ FileIO C:\\Users\\juanr\\.julia\\packages\\FileIO\\EI2b8\\src\\loadsave.jl:167\n",
      " [2] load(::String; options::@Kwargs{})\n",
      "   @ FileIO C:\\Users\\juanr\\.julia\\packages\\FileIO\\EI2b8\\src\\loadsave.jl:110\n",
      " [3] load(::String)\n",
      "   @ FileIO C:\\Users\\juanr\\.julia\\packages\\FileIO\\EI2b8\\src\\loadsave.jl:109\n",
      " [4] top-level scope\n",
      "   @ c:\\Users\\juanr\\Documents\\GitHub\\UCM\\Compu Numérica\\jl_notebook_cell_df34fa98e69747e1a8f8a730347b8e2f_X44sZmlsZQ==.jl:1"
     ]
    }
   ],
   "source": [
    "img=load(\"test.jpg\")\n",
    "img_g=Gray.(img)\n",
    "img_g=imresize(img_g,dim,dim)"
   ]
  },
  {
   "cell_type": "code",
   "execution_count": 56,
   "metadata": {},
   "outputs": [
    {
     "ename": "UndefVarError",
     "evalue": "UndefVarError: `img_g` not defined in `Main`\nSuggestion: check for spelling errors or missing imports.",
     "output_type": "error",
     "traceback": [
      "UndefVarError: `img_g` not defined in `Main`\n",
      "Suggestion: check for spelling errors or missing imports.\n",
      "\n",
      "Stacktrace:\n",
      " [1] top-level scope\n",
      "   @ c:\\Users\\juanr\\Documents\\GitHub\\UCM\\Compu Numérica\\jl_notebook_cell_df34fa98e69747e1a8f8a730347b8e2f_X45sZmlsZQ==.jl:1"
     ]
    }
   ],
   "source": [
    "x_i=reshape(my_type.(img_g),(1,dim*dim))-mean_face\n",
    "P_i=transpose(eigenfaces)*transpose(x_i);"
   ]
  },
  {
   "cell_type": "code",
   "execution_count": 57,
   "metadata": {},
   "outputs": [
    {
     "ename": "UndefVarError",
     "evalue": "UndefVarError: `eigenfaces` not defined in `Main`\nSuggestion: check for spelling errors or missing imports.",
     "output_type": "error",
     "traceback": [
      "UndefVarError: `eigenfaces` not defined in `Main`\n",
      "Suggestion: check for spelling errors or missing imports.\n",
      "\n",
      "Stacktrace:\n",
      " [1] top-level scope\n",
      "   @ c:\\Users\\juanr\\Documents\\GitHub\\UCM\\Compu Numérica\\jl_notebook_cell_df34fa98e69747e1a8f8a730347b8e2f_X46sZmlsZQ==.jl:1"
     ]
    }
   ],
   "source": [
    "size(eigenfaces)"
   ]
  },
  {
   "cell_type": "code",
   "execution_count": 58,
   "metadata": {},
   "outputs": [
    {
     "ename": "UndefVarError",
     "evalue": "UndefVarError: `eigenfaces` not defined in `Main`\nSuggestion: check for spelling errors or missing imports.",
     "output_type": "error",
     "traceback": [
      "UndefVarError: `eigenfaces` not defined in `Main`\n",
      "Suggestion: check for spelling errors or missing imports.\n"
     ]
    }
   ],
   "source": [
    "eigenfaces"
   ]
  },
  {
   "cell_type": "code",
   "execution_count": 59,
   "metadata": {},
   "outputs": [
    {
     "ename": "UndefVarError",
     "evalue": "UndefVarError: `P` not defined in `Main`\nSuggestion: check for spelling errors or missing imports.",
     "output_type": "error",
     "traceback": [
      "UndefVarError: `P` not defined in `Main`\n",
      "Suggestion: check for spelling errors or missing imports.\n",
      "\n",
      "Stacktrace:\n",
      " [1] top-level scope\n",
      "   @ c:\\Users\\juanr\\Documents\\GitHub\\UCM\\Compu Numérica\\jl_notebook_cell_df34fa98e69747e1a8f8a730347b8e2f_X51sZmlsZQ==.jl:3"
     ]
    }
   ],
   "source": [
    "dist=[]\n",
    "for i in 1:22\n",
    "    push!(dist,norm(P[:,i]-P_i))\n",
    "end\n",
    "pred=names[argmin(dist)]\n",
    "print(\"La persona es : $pred\")"
   ]
  },
  {
   "cell_type": "markdown",
   "metadata": {},
   "source": [
    "# Cuantización"
   ]
  },
  {
   "cell_type": "code",
   "execution_count": 60,
   "metadata": {},
   "outputs": [
    {
     "data": {
      "text/plain": [
       "generate_quantization_constants (generic function with 1 method)"
      ]
     },
     "metadata": {},
     "output_type": "display_data"
    }
   ],
   "source": [
    "function quantization(x, s, z, alpha_q, beta_q)\n",
    "    x_q=((1 / s) * x).+z\n",
    "    x_q = round.(x_q)\n",
    "    x_q = clamp.(x_q, alpha_q, beta_q)\n",
    "    return x_q\n",
    "end\n",
    "\n",
    "function quantization_int8(x, s, z)\n",
    "    x_q = quantization(x, s, z, alpha_q=-128, beta_q=127)\n",
    "    x_q = Int8.(x_q)\n",
    "    return x_q\n",
    "end\n",
    "\n",
    "function dequantization(x_q, s, z)\n",
    "    # x_q - z might go outside the quantization range.\n",
    "    x_q = Float32.(x_q)\n",
    "    x = s * (x_q .- z)\n",
    "    x = Float32.(x)\n",
    "    return x\n",
    "end\n",
    "\n",
    "function generate_quantization_constants(alpha, beta, alpha_q, beta_q)\n",
    "    # Affine quantization mapping\n",
    "    s = (beta - alpha) / (beta_q - alpha_q)\n",
    "    z = ((beta * alpha_q - alpha * beta_q) / (beta - alpha))\n",
    "    return s, z\n",
    "end"
   ]
  },
  {
   "cell_type": "code",
   "execution_count": 61,
   "metadata": {},
   "outputs": [],
   "source": [
    "b=8\n",
    "r=randn(10);\n",
    "\n",
    "alpha=minimum(r)\n",
    "beta=maximum(r)\n",
    "alpha_q = -2^(b - 1)\n",
    "beta_q = 2^(b - 1) - 1\n",
    "\n",
    "s,z=generate_quantization_constants(alpha,beta,alpha_q,beta_q)\n",
    "q_r=quantization(r,s,z,alpha_q,beta_q);"
   ]
  },
  {
   "cell_type": "code",
   "execution_count": 62,
   "metadata": {},
   "outputs": [
    {
     "data": {
      "text/plain": [
       "10-element Vector{Float64}:\n",
       "  127.0\n",
       " -128.0\n",
       "  -35.0\n",
       "   -8.0\n",
       "   36.0\n",
       "   72.0\n",
       "   77.0\n",
       " -106.0\n",
       "   82.0\n",
       "   23.0"
      ]
     },
     "metadata": {},
     "output_type": "display_data"
    }
   ],
   "source": [
    "q_r"
   ]
  },
  {
   "cell_type": "code",
   "execution_count": 63,
   "metadata": {},
   "outputs": [
    {
     "name": "stdout",
     "output_type": "stream",
     "text": [
      "valor original : 1.612651964678017, valor cuantizado 1.612652, valor truncado : 2\n",
      "valor original : -1.8850188431090997, valor cuantizado -1.8850188, valor truncado : -2\n",
      "valor original : -0.6090383589357415, valor cuantizado -0.6093977, valor truncado : -1\n",
      "valor original : -0.2322480093920132, valor cuantizado -0.23905611, valor truncado : 0\n",
      "valor original : 0.36559625942121143, valor cuantizado 0.36446357, valor truncado : 0\n",
      "valor original : 0.8625172267293458, valor cuantizado 0.8582524, valor truncado : 1\n",
      "valor original : 0.929410604108245, valor cuantizado 0.92683417, valor truncado : 1\n",
      "valor original : -1.5832763306117354, valor cuantizado -1.583259, valor truncado : -2\n",
      "valor original : 0.999354509454743, valor cuantizado 0.9954159, valor truncado : 1\n",
      "valor original : 0.18780091416329392, valor cuantizado 0.18615092, valor truncado : 0\n"
     ]
    }
   ],
   "source": [
    "for (i,j,k) in zip( dequantization(q_r,s,z),r,Int8.(round.(r)))\n",
    "    println(\"valor original : $j, valor cuantizado $i, valor truncado : $k\")\n",
    "end"
   ]
  },
  {
   "cell_type": "code",
   "execution_count": 64,
   "metadata": {},
   "outputs": [
    {
     "data": {
      "text/plain": [
       "0.8582089063079852"
      ]
     },
     "metadata": {},
     "output_type": "display_data"
    }
   ],
   "source": [
    "error=norm(r-Int8.(round.(r)))"
   ]
  },
  {
   "cell_type": "code",
   "execution_count": 65,
   "metadata": {},
   "outputs": [
    {
     "data": {
      "text/plain": [
       "0.009530178403560918"
      ]
     },
     "metadata": {},
     "output_type": "display_data"
    }
   ],
   "source": [
    "error=norm(r-dequantization(q_r,s,z))"
   ]
  },
  {
   "cell_type": "code",
   "execution_count": 66,
   "metadata": {},
   "outputs": [
    {
     "ename": "UndefVarError",
     "evalue": "UndefVarError: `eigenfaces` not defined in `Main`\nSuggestion: check for spelling errors or missing imports.",
     "output_type": "error",
     "traceback": [
      "UndefVarError: `eigenfaces` not defined in `Main`\n",
      "Suggestion: check for spelling errors or missing imports.\n",
      "\n",
      "Stacktrace:\n",
      " [1] top-level scope\n",
      "   @ c:\\Users\\juanr\\Documents\\GitHub\\UCM\\Compu Numérica\\jl_notebook_cell_df34fa98e69747e1a8f8a730347b8e2f_X62sZmlsZQ==.jl:1"
     ]
    }
   ],
   "source": [
    "r=eigenfaces[:,1]\n",
    "alpha=minimum(r)\n",
    "beta=maximum(r)\n",
    "alpha_q = -2^(b - 1)\n",
    "beta_q = 2^(b - 1) - 1\n",
    "\n",
    "s,z=generate_quantization_constants(alpha,beta,alpha_q,beta_q)\n",
    "q_r=quantization(r,s,z,alpha_q,beta_q);\n",
    "q_r=Int8.(q_r)"
   ]
  },
  {
   "cell_type": "code",
   "execution_count": 67,
   "metadata": {},
   "outputs": [
    {
     "data": {
      "text/plain": [
       "10-element Vector{Float64}:\n",
       "  127.0\n",
       " -128.0\n",
       "  -35.0\n",
       "   -8.0\n",
       "   36.0\n",
       "   72.0\n",
       "   77.0\n",
       " -106.0\n",
       "   82.0\n",
       "   23.0"
      ]
     },
     "metadata": {},
     "output_type": "display_data"
    }
   ],
   "source": [
    "q_r"
   ]
  },
  {
   "cell_type": "code",
   "execution_count": 68,
   "metadata": {},
   "outputs": [
    {
     "data": {
      "text/plain": [
       "0.009530178403560918"
      ]
     },
     "metadata": {},
     "output_type": "display_data"
    }
   ],
   "source": [
    "error=norm(r-dequantization(q_r,s,z))"
   ]
  },
  {
   "cell_type": "markdown",
   "metadata": {},
   "source": [
    "# Error de Reconstrucción"
   ]
  },
  {
   "cell_type": "code",
   "execution_count": 69,
   "metadata": {},
   "outputs": [
    {
     "ename": "UndefVarError",
     "evalue": "UndefVarError: `eigenfaces` not defined in `Main`\nSuggestion: check for spelling errors or missing imports.",
     "output_type": "error",
     "traceback": [
      "UndefVarError: `eigenfaces` not defined in `Main`\n",
      "Suggestion: check for spelling errors or missing imports.\n",
      "\n",
      "Stacktrace:\n",
      " [1] top-level scope\n",
      "   @ c:\\Users\\juanr\\Documents\\GitHub\\UCM\\Compu Numérica\\jl_notebook_cell_df34fa98e69747e1a8f8a730347b8e2f_X66sZmlsZQ==.jl:1"
     ]
    }
   ],
   "source": [
    "R=transpose(eigenfaces*P).+mean_face"
   ]
  },
  {
   "cell_type": "code",
   "execution_count": 70,
   "metadata": {},
   "outputs": [
    {
     "ename": "UndefVarError",
     "evalue": "UndefVarError: `eigenfaces` not defined in `Main`\nSuggestion: check for spelling errors or missing imports.",
     "output_type": "error",
     "traceback": [
      "UndefVarError: `eigenfaces` not defined in `Main`\n",
      "Suggestion: check for spelling errors or missing imports.\n",
      "\n",
      "Stacktrace:\n",
      " [1] top-level scope\n",
      "   @ c:\\Users\\juanr\\Documents\\GitHub\\UCM\\Compu Numérica\\jl_notebook_cell_df34fa98e69747e1a8f8a730347b8e2f_Y100sZmlsZQ==.jl:1"
     ]
    }
   ],
   "source": [
    "R_i=transpose(eigenfaces*P_i).+mean_face"
   ]
  },
  {
   "cell_type": "code",
   "execution_count": 71,
   "metadata": {},
   "outputs": [
    {
     "ename": "UndefVarError",
     "evalue": "UndefVarError: `R` not defined in `Main`\nSuggestion: check for spelling errors or missing imports.",
     "output_type": "error",
     "traceback": [
      "UndefVarError: `R` not defined in `Main`\n",
      "Suggestion: check for spelling errors or missing imports.\n",
      "\n",
      "Stacktrace:\n",
      " [1] top-level scope\n",
      "   @ c:\\Users\\juanr\\Documents\\GitHub\\UCM\\Compu Numérica\\jl_notebook_cell_df34fa98e69747e1a8f8a730347b8e2f_Y101sZmlsZQ==.jl:1"
     ]
    }
   ],
   "source": [
    "norm(mat-R)"
   ]
  },
  {
   "cell_type": "code",
   "execution_count": 72,
   "metadata": {},
   "outputs": [
    {
     "data": {
      "image/png": "[encoded data removed]",
      "text/html": [
       "<img src=\"data:image/png;base64,iVBORw0KGgoAAAANSUhEUgAAAIAAAACACAAAAADmVT4XAAAAAXNSR0IArs4c6QAAAARnQU1BAACxjwv8YQUAAAAgY0hSTQAAeiYAAICEAAD6AAAAgOgAAHUwAADqYAAAOpgAABdwnLpRPAAAAMVJREFUeAHFwTEBAAAAQDCH/pnFsMlMZjKTmcxkJjOZyUxmMpOZzGQmM5nJTGYyk5nMZCYzmclMZjKTmcxkJjOZyUxmMpOZzGQmM5nJTGYyk5nMZCYzmclMZjKTmcxkJjOZyUxmMpOZzGQmM5nJTGYyk5nMZCYzmclMZjKTmcxkJjOZyUxmMpOZzGQmM5nJTGYyk5nMZCYzmclMZjKTmcxkJjOZyUxmMpOZzGQmM5nJTGYyk5nMZCYzmclMZjKTmcxkJjOZBUVPAgHg6sPzAAAAAElFTkSuQmCC\">"
      ],
      "text/plain": [
       "64×64 Matrix{Gray{Float64}}:\n",
       " NaN  NaN  NaN  NaN  NaN  NaN  NaN  NaN  …  NaN  NaN  NaN  NaN  NaN  NaN  NaN\n",
       " NaN  NaN  NaN  NaN  NaN  NaN  NaN  NaN     NaN  NaN  NaN  NaN  NaN  NaN  NaN\n",
       " NaN  NaN  NaN  NaN  NaN  NaN  NaN  NaN     NaN  NaN  NaN  NaN  NaN  NaN  NaN\n",
       " NaN  NaN  NaN  NaN  NaN  NaN  NaN  NaN     NaN  NaN  NaN  NaN  NaN  NaN  NaN\n",
       " NaN  NaN  NaN  NaN  NaN  NaN  NaN  NaN     NaN  NaN  NaN  NaN  NaN  NaN  NaN\n",
       " NaN  NaN  NaN  NaN  NaN  NaN  NaN  NaN  …  NaN  NaN  NaN  NaN  NaN  NaN  NaN\n",
       " NaN  NaN  NaN  NaN  NaN  NaN  NaN  NaN     NaN  NaN  NaN  NaN  NaN  NaN  NaN\n",
       " NaN  NaN  NaN  NaN  NaN  NaN  NaN  NaN     NaN  NaN  NaN  NaN  NaN  NaN  NaN\n",
       " NaN  NaN  NaN  NaN  NaN  NaN  NaN  NaN     NaN  NaN  NaN  NaN  NaN  NaN  NaN\n",
       " NaN  NaN  NaN  NaN  NaN  NaN  NaN  NaN     NaN  NaN  NaN  NaN  NaN  NaN  NaN\n",
       " ⋮                        ⋮              ⋱                 ⋮              \n",
       " NaN  NaN  NaN  NaN  NaN  NaN  NaN  NaN  …  NaN  NaN  NaN  NaN  NaN  NaN  NaN\n",
       " NaN  NaN  NaN  NaN  NaN  NaN  NaN  NaN     NaN  NaN  NaN  NaN  NaN  NaN  NaN\n",
       " NaN  NaN  NaN  NaN  NaN  NaN  NaN  NaN     NaN  NaN  NaN  NaN  NaN  NaN  NaN\n",
       " NaN  NaN  NaN  NaN  NaN  NaN  NaN  NaN     NaN  NaN  NaN  NaN  NaN  NaN  NaN\n",
       " NaN  NaN  NaN  NaN  NaN  NaN  NaN  NaN     NaN  NaN  NaN  NaN  NaN  NaN  NaN\n",
       " NaN  NaN  NaN  NaN  NaN  NaN  NaN  NaN  …  NaN  NaN  NaN  NaN  NaN  NaN  NaN\n",
       " NaN  NaN  NaN  NaN  NaN  NaN  NaN  NaN     NaN  NaN  NaN  NaN  NaN  NaN  NaN\n",
       " NaN  NaN  NaN  NaN  NaN  NaN  NaN  NaN     NaN  NaN  NaN  NaN  NaN  NaN  NaN\n",
       " NaN  NaN  NaN  NaN  NaN  NaN  NaN  NaN     NaN  NaN  NaN  NaN  NaN  NaN  NaN"
      ]
     },
     "metadata": {},
     "output_type": "display_data"
    }
   ],
   "source": [
    "Gray.((reshape(mean_face,(dim,dim))))"
   ]
  },
  {
   "cell_type": "code",
   "execution_count": 73,
   "metadata": {},
   "outputs": [
    {
     "ename": "UndefVarError",
     "evalue": "UndefVarError: `R_i` not defined in `Main`\nSuggestion: check for spelling errors or missing imports.",
     "output_type": "error",
     "traceback": [
      "UndefVarError: `R_i` not defined in `Main`\n",
      "Suggestion: check for spelling errors or missing imports.\n",
      "\n",
      "Stacktrace:\n",
      " [1] top-level scope\n",
      "   @ c:\\Users\\juanr\\Documents\\GitHub\\UCM\\Compu Numérica\\jl_notebook_cell_df34fa98e69747e1a8f8a730347b8e2f_Y103sZmlsZQ==.jl:1"
     ]
    }
   ],
   "source": [
    "Gray.((reshape(R_i,(dim,dim))))"
   ]
  },
  {
   "cell_type": "code",
   "execution_count": 74,
   "metadata": {},
   "outputs": [
    {
     "data": {
      "text/html": [
       "<div><div style = \"float: left;\"><span>400×4097 DataFrame</span></div><div style = \"float: right; font-style: italic;\"><span>3997 columns and 375 rows omitted</span></div><div style = \"clear: both;\"></div></div><div class = \"data-frame\" style = \"overflow-x: scroll;\"><table class = \"data-frame\" style = \"margin-bottom: 6px;\"><thead><tr class = \"columnLabelRow\"><th class = \"stubheadLabel\" style = \"font-weight: bold; text-align: right;\">Row</th><th style = \"text-align: left;\">pixel1</th><th style = \"text-align: left;\">pixel2</th><th style = \"text-align: left;\">pixel3</th><th style = \"text-align: left;\">pixel4</th><th style = \"text-align: left;\">pixel5</th><th style = \"text-align: left;\">pixel6</th><th style = \"text-align: left;\">pixel7</th><th style = \"text-align: left;\">pixel8</th><th style = \"text-align: left;\">pixel9</th><th style = \"text-align: left;\">pixel10</th><th style = \"text-align: left;\">pixel11</th><th style = \"text-align: left;\">pixel12</th><th style = \"text-align: left;\">pixel13</th><th style = \"text-align: left;\">pixel14</th><th style = \"text-align: left;\">pixel15</th><th style = \"text-align: left;\">pixel16</th><th style = \"text-align: left;\">pixel17</th><th style = \"text-align: left;\">pixel18</th><th style = \"text-align: left;\">pixel19</th><th style = \"text-align: left;\">pixel20</th><th style = \"text-align: left;\">pixel21</th><th style = \"text-align: left;\">pixel22</th><th style = \"text-align: left;\">pixel23</th><th style = \"text-align: left;\">pixel24</th><th style = \"text-align: left;\">pixel25</th><th style = \"text-align: left;\">pixel26</th><th style = \"text-align: left;\">pixel27</th><th style = \"text-align: left;\">pixel28</th><th style = \"text-align: left;\">pixel29</th><th style = \"text-align: left;\">pixel30</th><th style = \"text-align: left;\">pixel31</th><th style = \"text-align: left;\">pixel32</th><th style = \"text-align: left;\">pixel33</th><th style = \"text-align: left;\">pixel34</th><th style = \"text-align: left;\">pixel35</th><th style = \"text-align: left;\">pixel36</th><th style = \"text-align: left;\">pixel37</th><th style = \"text-align: left;\">pixel38</th><th style = \"text-align: left;\">pixel39</th><th style = \"text-align: left;\">pixel40</th><th style = \"text-align: left;\">pixel41</th><th style = \"text-align: left;\">pixel42</th><th style = \"text-align: left;\">pixel43</th><th style = \"text-align: left;\">pixel44</th><th style = \"text-align: left;\">pixel45</th><th style = \"text-align: left;\">pixel46</th><th style = \"text-align: left;\">pixel47</th><th style = \"text-align: left;\">pixel48</th><th style = \"text-align: left;\">pixel49</th><th style = \"text-align: left;\">pixel50</th><th style = \"text-align: left;\">pixel51</th><th style = \"text-align: left;\">pixel52</th><th style = \"text-align: left;\">pixel53</th><th style = \"text-align: left;\">pixel54</th><th style = \"text-align: left;\">pixel55</th><th style = \"text-align: left;\">pixel56</th><th style = \"text-align: left;\">pixel57</th><th style = \"text-align: left;\">pixel58</th><th style = \"text-align: left;\">pixel59</th><th style = \"text-align: left;\">pixel60</th><th style = \"text-align: left;\">pixel61</th><th style = \"text-align: left;\">pixel62</th><th style = \"text-align: left;\">pixel63</th><th style = \"text-align: left;\">pixel64</th><th style = \"text-align: left;\">pixel65</th><th style = \"text-align: left;\">pixel66</th><th style = \"text-align: left;\">pixel67</th><th style = \"text-align: left;\">pixel68</th><th style = \"text-align: left;\">pixel69</th><th style = \"text-align: left;\">pixel70</th><th style = \"text-align: left;\">pixel71</th><th style = \"text-align: left;\">pixel72</th><th style = \"text-align: left;\">pixel73</th><th style = \"text-align: left;\">pixel74</th><th style = \"text-align: left;\">pixel75</th><th style = \"text-align: left;\">pixel76</th><th style = \"text-align: left;\">pixel77</th><th style = \"text-align: left;\">pixel78</th><th style = \"text-align: left;\">pixel79</th><th style = \"text-align: left;\">pixel80</th><th style = \"text-align: left;\">pixel81</th><th style = \"text-align: left;\">pixel82</th><th style = \"text-align: left;\">pixel83</th><th style = \"text-align: left;\">pixel84</th><th style = \"text-align: left;\">pixel85</th><th style = \"text-align: left;\">pixel86</th><th style = \"text-align: left;\">pixel87</th><th style = \"text-align: left;\">pixel88</th><th style = \"text-align: left;\">pixel89</th><th style = \"text-align: left;\">pixel90</th><th style = \"text-align: left;\">pixel91</th><th style = \"text-align: left;\">pixel92</th><th style = \"text-align: left;\">pixel93</th><th style = \"text-align: left;\">pixel94</th><th style = \"text-align: left;\">pixel95</th><th style = \"text-align: left;\">pixel96</th><th style = \"text-align: left;\">pixel97</th><th style = \"text-align: left;\">pixel98</th><th style = \"text-align: left;\">pixel99</th><th style = \"text-align: left;\">pixel100</th><th>&ctdot;</th></tr><tr class = \"columnLabelRow\"><th class = \"stubheadLabel\" style = \"font-weight: bold; text-align: right;\"></th><th title = \"Float64\" style = \"text-align: left;\">Float64</th><th title = \"Float64\" style = \"text-align: left;\">Float64</th><th title = \"Float64\" style = \"text-align: left;\">Float64</th><th title = \"Float64\" style = \"text-align: left;\">Float64</th><th title = \"Float64\" style = \"text-align: left;\">Float64</th><th title = \"Float64\" style = \"text-align: left;\">Float64</th><th title = \"Float64\" style = \"text-align: left;\">Float64</th><th title = \"Float64\" style = \"text-align: left;\">Float64</th><th title = \"Float64\" style = \"text-align: left;\">Float64</th><th title = \"Float64\" style = \"text-align: left;\">Float64</th><th title = \"Float64\" style = \"text-align: left;\">Float64</th><th title = \"Float64\" style = \"text-align: left;\">Float64</th><th title = \"Float64\" style = \"text-align: left;\">Float64</th><th title = \"Float64\" style = \"text-align: left;\">Float64</th><th title = \"Float64\" style = \"text-align: left;\">Float64</th><th title = \"Float64\" style = \"text-align: left;\">Float64</th><th title = \"Float64\" style = \"text-align: left;\">Float64</th><th title = \"Float64\" style = \"text-align: left;\">Float64</th><th title = \"Float64\" style = \"text-align: left;\">Float64</th><th title = \"Float64\" style = \"text-align: left;\">Float64</th><th title = \"Float64\" style = \"text-align: left;\">Float64</th><th title = \"Float64\" style = \"text-align: left;\">Float64</th><th title = \"Float64\" style = \"text-align: left;\">Float64</th><th title = \"Float64\" style = \"text-align: left;\">Float64</th><th title = \"Float64\" style = \"text-align: left;\">Float64</th><th title = \"Float64\" style = \"text-align: left;\">Float64</th><th title = \"Float64\" style = \"text-align: left;\">Float64</th><th title = \"Float64\" style = \"text-align: left;\">Float64</th><th title = \"Float64\" style = \"text-align: left;\">Float64</th><th title = \"Float64\" style = \"text-align: left;\">Float64</th><th title = \"Float64\" style = \"text-align: left;\">Float64</th><th title = \"Float64\" style = \"text-align: left;\">Float64</th><th title = \"Float64\" style = \"text-align: left;\">Float64</th><th title = \"Float64\" style = \"text-align: left;\">Float64</th><th title = \"Float64\" style = \"text-align: left;\">Float64</th><th title = \"Float64\" style = \"text-align: left;\">Float64</th><th title = \"Float64\" style = \"text-align: left;\">Float64</th><th title = \"Float64\" style = \"text-align: left;\">Float64</th><th title = \"Float64\" style = \"text-align: left;\">Float64</th><th title = \"Float64\" style = \"text-align: left;\">Float64</th><th title = \"Float64\" style = \"text-align: left;\">Float64</th><th title = \"Float64\" style = \"text-align: left;\">Float64</th><th title = \"Float64\" style = \"text-align: left;\">Float64</th><th title = \"Float64\" style = \"text-align: left;\">Float64</th><th title = \"Float64\" style = \"text-align: left;\">Float64</th><th title = \"Float64\" style = \"text-align: left;\">Float64</th><th title = \"Float64\" style = \"text-align: left;\">Float64</th><th title = \"Float64\" style = \"text-align: left;\">Float64</th><th title = \"Float64\" style = \"text-align: left;\">Float64</th><th title = \"Float64\" style = \"text-align: left;\">Float64</th><th title = \"Float64\" style = \"text-align: left;\">Float64</th><th title = \"Float64\" style = \"text-align: left;\">Float64</th><th title = \"Float64\" style = \"text-align: left;\">Float64</th><th title = \"Float64\" style = \"text-align: left;\">Float64</th><th title = \"Float64\" style = \"text-align: left;\">Float64</th><th title = \"Float64\" style = \"text-align: left;\">Float64</th><th title = \"Float64\" style = \"text-align: left;\">Float64</th><th title = \"Float64\" style = \"text-align: left;\">Float64</th><th title = \"Float64\" style = \"text-align: left;\">Float64</th><th title = \"Float64\" style = \"text-align: left;\">Float64</th><th title = \"Float64\" style = \"text-align: left;\">Float64</th><th title = \"Float64\" style = \"text-align: left;\">Float64</th><th title = \"Float64\" style = \"text-align: left;\">Float64</th><th title = \"Float64\" style = \"text-align: left;\">Float64</th><th title = \"Float64\" style = \"text-align: left;\">Float64</th><th title = \"Float64\" style = \"text-align: left;\">Float64</th><th title = \"Float64\" style = \"text-align: left;\">Float64</th><th title = \"Float64\" style = \"text-align: left;\">Float64</th><th title = \"Float64\" style = \"text-align: left;\">Float64</th><th title = \"Float64\" style = \"text-align: left;\">Float64</th><th title = \"Float64\" style = \"text-align: left;\">Float64</th><th title = \"Float64\" style = \"text-align: left;\">Float64</th><th title = \"Float64\" style = \"text-align: left;\">Float64</th><th title = \"Float64\" style = \"text-align: left;\">Float64</th><th title = \"Float64\" style = \"text-align: left;\">Float64</th><th title = \"Float64\" style = \"text-align: left;\">Float64</th><th title = \"Float64\" style = \"text-align: left;\">Float64</th><th title = \"Float64\" style = \"text-align: left;\">Float64</th><th title = \"Float64\" style = \"text-align: left;\">Float64</th><th title = \"Float64\" style = \"text-align: left;\">Float64</th><th title = \"Float64\" style = \"text-align: left;\">Float64</th><th title = \"Float64\" style = \"text-align: left;\">Float64</th><th title = \"Float64\" style = \"text-align: left;\">Float64</th><th title = \"Float64\" style = \"text-align: left;\">Float64</th><th title = \"Float64\" style = \"text-align: left;\">Float64</th><th title = \"Float64\" style = \"text-align: left;\">Float64</th><th title = \"Float64\" style = \"text-align: left;\">Float64</th><th title = \"Float64\" style = \"text-align: left;\">Float64</th><th title = \"Float64\" style = \"text-align: left;\">Float64</th><th title = \"Float64\" style = \"text-align: left;\">Float64</th><th title = \"Float64\" style = \"text-align: left;\">Float64</th><th title = \"Float64\" style = \"text-align: left;\">Float64</th><th title = \"Float64\" style = \"text-align: left;\">Float64</th><th title = \"Float64\" style = \"text-align: left;\">Float64</th><th title = \"Float64\" style = \"text-align: left;\">Float64</th><th title = \"Float64\" style = \"text-align: left;\">Float64</th><th title = \"Float64\" style = \"text-align: left;\">Float64</th><th title = \"Float64\" style = \"text-align: left;\">Float64</th><th title = \"Float64\" style = \"text-align: left;\">Float64</th><th title = \"Float64\" style = \"text-align: left;\">Float64</th><th>&ctdot;</th></tr></thead><tbody><tr class = \"dataRow\"><td class = \"rowLabel\" style = \"font-weight: bold; text-align: right;\">1</td><td style = \"text-align: right;\">0.309917</td><td style = \"text-align: right;\">0.367769</td><td style = \"text-align: right;\">0.417355</td><td style = \"text-align: right;\">0.442149</td><td style = \"text-align: right;\">0.528926</td><td style = \"text-align: right;\">0.607438</td><td style = \"text-align: right;\">0.657025</td><td style = \"text-align: right;\">0.677686</td><td style = \"text-align: right;\">0.690083</td><td style = \"text-align: right;\">0.68595</td><td style = \"text-align: right;\">0.702479</td><td style = \"text-align: right;\">0.698347</td><td style = \"text-align: right;\">0.694215</td><td style = \"text-align: right;\">0.698347</td><td style = \"text-align: right;\">0.690083</td><td style = \"text-align: right;\">0.694215</td><td style = \"text-align: right;\">0.690083</td><td style = \"text-align: right;\">0.698347</td><td style = \"text-align: right;\">0.702479</td><td style = \"text-align: right;\">0.702479</td><td style = \"text-align: right;\">0.698347</td><td style = \"text-align: right;\">0.706612</td><td style = \"text-align: right;\">0.710744</td><td style = \"text-align: right;\">0.719008</td><td style = \"text-align: right;\">0.727273</td><td style = \"text-align: right;\">0.756198</td><td style = \"text-align: right;\">0.772727</td><td style = \"text-align: right;\">0.77686</td><td style = \"text-align: right;\">0.77686</td><td style = \"text-align: right;\">0.756198</td><td style = \"text-align: right;\">0.760331</td><td style = \"text-align: right;\">0.780992</td><td style = \"text-align: right;\">0.760331</td><td style = \"text-align: right;\">0.768595</td><td style = \"text-align: right;\">0.756198</td><td style = \"text-align: right;\">0.739669</td><td style = \"text-align: right;\">0.743802</td><td style = \"text-align: right;\">0.739669</td><td style = \"text-align: right;\">0.743802</td><td style = \"text-align: right;\">0.719008</td><td style = \"text-align: right;\">0.719008</td><td style = \"text-align: right;\">0.714876</td><td style = \"text-align: right;\">0.719008</td><td style = \"text-align: right;\">0.719008</td><td style = \"text-align: right;\">0.72314</td><td style = \"text-align: right;\">0.727273</td><td style = \"text-align: right;\">0.735537</td><td style = \"text-align: right;\">0.714876</td><td style = \"text-align: right;\">0.72314</td><td style = \"text-align: right;\">0.719008</td><td style = \"text-align: right;\">0.714876</td><td style = \"text-align: right;\">0.710744</td><td style = \"text-align: right;\">0.702479</td><td style = \"text-align: right;\">0.706612</td><td style = \"text-align: right;\">0.698347</td><td style = \"text-align: right;\">0.677686</td><td style = \"text-align: right;\">0.657025</td><td style = \"text-align: right;\">0.632231</td><td style = \"text-align: right;\">0.566116</td><td style = \"text-align: right;\">0.524793</td><td style = \"text-align: right;\">0.446281</td><td style = \"text-align: right;\">0.371901</td><td style = \"text-align: right;\">0.330578</td><td style = \"text-align: right;\">0.305785</td><td style = \"text-align: right;\">0.342975</td><td style = \"text-align: right;\">0.404959</td><td style = \"text-align: right;\">0.438017</td><td style = \"text-align: right;\">0.471074</td><td style = \"text-align: right;\">0.553719</td><td style = \"text-align: right;\">0.623967</td><td style = \"text-align: right;\">0.669422</td><td style = \"text-align: right;\">0.68595</td><td style = \"text-align: right;\">0.690083</td><td style = \"text-align: right;\">0.68595</td><td style = \"text-align: right;\">0.694215</td><td style = \"text-align: right;\">0.690083</td><td style = \"text-align: right;\">0.698347</td><td style = \"text-align: right;\">0.702479</td><td style = \"text-align: right;\">0.698347</td><td style = \"text-align: right;\">0.694215</td><td style = \"text-align: right;\">0.706612</td><td style = \"text-align: right;\">0.710744</td><td style = \"text-align: right;\">0.710744</td><td style = \"text-align: right;\">0.714876</td><td style = \"text-align: right;\">0.710744</td><td style = \"text-align: right;\">0.702479</td><td style = \"text-align: right;\">0.719008</td><td style = \"text-align: right;\">0.727273</td><td style = \"text-align: right;\">0.735537</td><td style = \"text-align: right;\">0.760331</td><td style = \"text-align: right;\">0.77686</td><td style = \"text-align: right;\">0.785124</td><td style = \"text-align: right;\">0.780992</td><td style = \"text-align: right;\">0.77686</td><td style = \"text-align: right;\">0.772727</td><td style = \"text-align: right;\">0.789256</td><td style = \"text-align: right;\">0.785124</td><td style = \"text-align: right;\">0.772727</td><td style = \"text-align: right;\">0.764463</td><td style = \"text-align: right;\">0.747934</td><td>&ctdot;</td></tr><tr class = \"dataRow\"><td class = \"rowLabel\" style = \"font-weight: bold; text-align: right;\">2</td><td style = \"text-align: right;\">0.454545</td><td style = \"text-align: right;\">0.471074</td><td style = \"text-align: right;\">0.512397</td><td style = \"text-align: right;\">0.557851</td><td style = \"text-align: right;\">0.595041</td><td style = \"text-align: right;\">0.640496</td><td style = \"text-align: right;\">0.681818</td><td style = \"text-align: right;\">0.702479</td><td style = \"text-align: right;\">0.710744</td><td style = \"text-align: right;\">0.702479</td><td style = \"text-align: right;\">0.710744</td><td style = \"text-align: right;\">0.698347</td><td style = \"text-align: right;\">0.702479</td><td style = \"text-align: right;\">0.706612</td><td style = \"text-align: right;\">0.706612</td><td style = \"text-align: right;\">0.714876</td><td style = \"text-align: right;\">0.714876</td><td style = \"text-align: right;\">0.706612</td><td style = \"text-align: right;\">0.698347</td><td style = \"text-align: right;\">0.714876</td><td style = \"text-align: right;\">0.698347</td><td style = \"text-align: right;\">0.72314</td><td style = \"text-align: right;\">0.731405</td><td style = \"text-align: right;\">0.743802</td><td style = \"text-align: right;\">0.756198</td><td style = \"text-align: right;\">0.772727</td><td style = \"text-align: right;\">0.768595</td><td style = \"text-align: right;\">0.785124</td><td style = \"text-align: right;\">0.764463</td><td style = \"text-align: right;\">0.756198</td><td style = \"text-align: right;\">0.731405</td><td style = \"text-align: right;\">0.743802</td><td style = \"text-align: right;\">0.735537</td><td style = \"text-align: right;\">0.719008</td><td style = \"text-align: right;\">0.706612</td><td style = \"text-align: right;\">0.714876</td><td style = \"text-align: right;\">0.719008</td><td style = \"text-align: right;\">0.710744</td><td style = \"text-align: right;\">0.710744</td><td style = \"text-align: right;\">0.706612</td><td style = \"text-align: right;\">0.702479</td><td style = \"text-align: right;\">0.702479</td><td style = \"text-align: right;\">0.702479</td><td style = \"text-align: right;\">0.690083</td><td style = \"text-align: right;\">0.681818</td><td style = \"text-align: right;\">0.690083</td><td style = \"text-align: right;\">0.68595</td><td style = \"text-align: right;\">0.669422</td><td style = \"text-align: right;\">0.677686</td><td style = \"text-align: right;\">0.665289</td><td style = \"text-align: right;\">0.652893</td><td style = \"text-align: right;\">0.657025</td><td style = \"text-align: right;\">0.640496</td><td style = \"text-align: right;\">0.619835</td><td style = \"text-align: right;\">0.615702</td><td style = \"text-align: right;\">0.578512</td><td style = \"text-align: right;\">0.5</td><td style = \"text-align: right;\">0.359504</td><td style = \"text-align: right;\">0.31405</td><td style = \"text-align: right;\">0.214876</td><td style = \"text-align: right;\">0.194215</td><td style = \"text-align: right;\">0.190083</td><td style = \"text-align: right;\">0.18595</td><td style = \"text-align: right;\">0.18595</td><td style = \"text-align: right;\">0.446281</td><td style = \"text-align: right;\">0.483471</td><td style = \"text-align: right;\">0.520661</td><td style = \"text-align: right;\">0.566116</td><td style = \"text-align: right;\">0.619835</td><td style = \"text-align: right;\">0.665289</td><td style = \"text-align: right;\">0.706612</td><td style = \"text-align: right;\">0.710744</td><td style = \"text-align: right;\">0.719008</td><td style = \"text-align: right;\">0.714876</td><td style = \"text-align: right;\">0.706612</td><td style = \"text-align: right;\">0.698347</td><td style = \"text-align: right;\">0.706612</td><td style = \"text-align: right;\">0.702479</td><td style = \"text-align: right;\">0.702479</td><td style = \"text-align: right;\">0.694215</td><td style = \"text-align: right;\">0.710744</td><td style = \"text-align: right;\">0.710744</td><td style = \"text-align: right;\">0.714876</td><td style = \"text-align: right;\">0.72314</td><td style = \"text-align: right;\">0.710744</td><td style = \"text-align: right;\">0.727273</td><td style = \"text-align: right;\">0.739669</td><td style = \"text-align: right;\">0.743802</td><td style = \"text-align: right;\">0.764463</td><td style = \"text-align: right;\">0.756198</td><td style = \"text-align: right;\">0.768595</td><td style = \"text-align: right;\">0.768595</td><td style = \"text-align: right;\">0.772727</td><td style = \"text-align: right;\">0.752066</td><td style = \"text-align: right;\">0.739669</td><td style = \"text-align: right;\">0.735537</td><td style = \"text-align: right;\">0.72314</td><td style = \"text-align: right;\">0.714876</td><td style = \"text-align: right;\">0.710744</td><td style = \"text-align: right;\">0.690083</td><td>&ctdot;</td></tr><tr class = \"dataRow\"><td class = \"rowLabel\" style = \"font-weight: bold; text-align: right;\">3</td><td style = \"text-align: right;\">0.318182</td><td style = \"text-align: right;\">0.400826</td><td style = \"text-align: right;\">0.491736</td><td style = \"text-align: right;\">0.528926</td><td style = \"text-align: right;\">0.586777</td><td style = \"text-align: right;\">0.657025</td><td style = \"text-align: right;\">0.681818</td><td style = \"text-align: right;\">0.68595</td><td style = \"text-align: right;\">0.702479</td><td style = \"text-align: right;\">0.698347</td><td style = \"text-align: right;\">0.702479</td><td style = \"text-align: right;\">0.706612</td><td style = \"text-align: right;\">0.706612</td><td style = \"text-align: right;\">0.714876</td><td style = \"text-align: right;\">0.710744</td><td style = \"text-align: right;\">0.706612</td><td style = \"text-align: right;\">0.706612</td><td style = \"text-align: right;\">0.706612</td><td style = \"text-align: right;\">0.72314</td><td style = \"text-align: right;\">0.719008</td><td style = \"text-align: right;\">0.719008</td><td style = \"text-align: right;\">0.710744</td><td style = \"text-align: right;\">0.710744</td><td style = \"text-align: right;\">0.752066</td><td style = \"text-align: right;\">0.756198</td><td style = \"text-align: right;\">0.764463</td><td style = \"text-align: right;\">0.785124</td><td style = \"text-align: right;\">0.797521</td><td style = \"text-align: right;\">0.838843</td><td style = \"text-align: right;\">0.826446</td><td style = \"text-align: right;\">0.842975</td><td style = \"text-align: right;\">0.847107</td><td style = \"text-align: right;\">0.830578</td><td style = \"text-align: right;\">0.818182</td><td style = \"text-align: right;\">0.793388</td><td style = \"text-align: right;\">0.768595</td><td style = \"text-align: right;\">0.760331</td><td style = \"text-align: right;\">0.756198</td><td style = \"text-align: right;\">0.739669</td><td style = \"text-align: right;\">0.710744</td><td style = \"text-align: right;\">0.719008</td><td style = \"text-align: right;\">0.702479</td><td style = \"text-align: right;\">0.702479</td><td style = \"text-align: right;\">0.702479</td><td style = \"text-align: right;\">0.706612</td><td style = \"text-align: right;\">0.706612</td><td style = \"text-align: right;\">0.719008</td><td style = \"text-align: right;\">0.706612</td><td style = \"text-align: right;\">0.710744</td><td style = \"text-align: right;\">0.710744</td><td style = \"text-align: right;\">0.706612</td><td style = \"text-align: right;\">0.710744</td><td style = \"text-align: right;\">0.702479</td><td style = \"text-align: right;\">0.694215</td><td style = \"text-align: right;\">0.690083</td><td style = \"text-align: right;\">0.669422</td><td style = \"text-align: right;\">0.636364</td><td style = \"text-align: right;\">0.636364</td><td style = \"text-align: right;\">0.599174</td><td style = \"text-align: right;\">0.545455</td><td style = \"text-align: right;\">0.475207</td><td style = \"text-align: right;\">0.400826</td><td style = \"text-align: right;\">0.355372</td><td style = \"text-align: right;\">0.309917</td><td style = \"text-align: right;\">0.309917</td><td style = \"text-align: right;\">0.396694</td><td style = \"text-align: right;\">0.479339</td><td style = \"text-align: right;\">0.561983</td><td style = \"text-align: right;\">0.623967</td><td style = \"text-align: right;\">0.665289</td><td style = \"text-align: right;\">0.673554</td><td style = \"text-align: right;\">0.68595</td><td style = \"text-align: right;\">0.698347</td><td style = \"text-align: right;\">0.702479</td><td style = \"text-align: right;\">0.710744</td><td style = \"text-align: right;\">0.702479</td><td style = \"text-align: right;\">0.710744</td><td style = \"text-align: right;\">0.72314</td><td style = \"text-align: right;\">0.719008</td><td style = \"text-align: right;\">0.710744</td><td style = \"text-align: right;\">0.719008</td><td style = \"text-align: right;\">0.719008</td><td style = \"text-align: right;\">0.727273</td><td style = \"text-align: right;\">0.72314</td><td style = \"text-align: right;\">0.714876</td><td style = \"text-align: right;\">0.706612</td><td style = \"text-align: right;\">0.714876</td><td style = \"text-align: right;\">0.747934</td><td style = \"text-align: right;\">0.743802</td><td style = \"text-align: right;\">0.77686</td><td style = \"text-align: right;\">0.805785</td><td style = \"text-align: right;\">0.789256</td><td style = \"text-align: right;\">0.801653</td><td style = \"text-align: right;\">0.789256</td><td style = \"text-align: right;\">0.809917</td><td style = \"text-align: right;\">0.822314</td><td style = \"text-align: right;\">0.818182</td><td style = \"text-align: right;\">0.81405</td><td style = \"text-align: right;\">0.772727</td><td style = \"text-align: right;\">0.768595</td><td>&ctdot;</td></tr><tr class = \"dataRow\"><td class = \"rowLabel\" style = \"font-weight: bold; text-align: right;\">4</td><td style = \"text-align: right;\">0.198347</td><td style = \"text-align: right;\">0.194215</td><td style = \"text-align: right;\">0.194215</td><td style = \"text-align: right;\">0.194215</td><td style = \"text-align: right;\">0.190083</td><td style = \"text-align: right;\">0.190083</td><td style = \"text-align: right;\">0.243802</td><td style = \"text-align: right;\">0.404959</td><td style = \"text-align: right;\">0.483471</td><td style = \"text-align: right;\">0.516529</td><td style = \"text-align: right;\">0.53719</td><td style = \"text-align: right;\">0.566116</td><td style = \"text-align: right;\">0.57438</td><td style = \"text-align: right;\">0.586777</td><td style = \"text-align: right;\">0.61157</td><td style = \"text-align: right;\">0.632231</td><td style = \"text-align: right;\">0.640496</td><td style = \"text-align: right;\">0.657025</td><td style = \"text-align: right;\">0.673554</td><td style = \"text-align: right;\">0.694215</td><td style = \"text-align: right;\">0.702479</td><td style = \"text-align: right;\">0.719008</td><td style = \"text-align: right;\">0.727273</td><td style = \"text-align: right;\">0.719008</td><td style = \"text-align: right;\">0.72314</td><td style = \"text-align: right;\">0.710744</td><td style = \"text-align: right;\">0.739669</td><td style = \"text-align: right;\">0.747934</td><td style = \"text-align: right;\">0.756198</td><td style = \"text-align: right;\">0.756198</td><td style = \"text-align: right;\">0.764463</td><td style = \"text-align: right;\">0.772727</td><td style = \"text-align: right;\">0.785124</td><td style = \"text-align: right;\">0.785124</td><td style = \"text-align: right;\">0.805785</td><td style = \"text-align: right;\">0.818182</td><td style = \"text-align: right;\">0.805785</td><td style = \"text-align: right;\">0.809917</td><td style = \"text-align: right;\">0.793388</td><td style = \"text-align: right;\">0.789256</td><td style = \"text-align: right;\">0.785124</td><td style = \"text-align: right;\">0.77686</td><td style = \"text-align: right;\">0.785124</td><td style = \"text-align: right;\">0.768595</td><td style = \"text-align: right;\">0.785124</td><td style = \"text-align: right;\">0.77686</td><td style = \"text-align: right;\">0.780992</td><td style = \"text-align: right;\">0.789256</td><td style = \"text-align: right;\">0.780992</td><td style = \"text-align: right;\">0.77686</td><td style = \"text-align: right;\">0.77686</td><td style = \"text-align: right;\">0.77686</td><td style = \"text-align: right;\">0.768595</td><td style = \"text-align: right;\">0.768595</td><td style = \"text-align: right;\">0.756198</td><td style = \"text-align: right;\">0.743802</td><td style = \"text-align: right;\">0.735537</td><td style = \"text-align: right;\">0.727273</td><td style = \"text-align: right;\">0.68595</td><td style = \"text-align: right;\">0.673554</td><td style = \"text-align: right;\">0.615702</td><td style = \"text-align: right;\">0.582645</td><td style = \"text-align: right;\">0.512397</td><td style = \"text-align: right;\">0.458678</td><td style = \"text-align: right;\">0.219008</td><td style = \"text-align: right;\">0.219008</td><td style = \"text-align: right;\">0.214876</td><td style = \"text-align: right;\">0.214876</td><td style = \"text-align: right;\">0.210744</td><td style = \"text-align: right;\">0.210744</td><td style = \"text-align: right;\">0.268595</td><td style = \"text-align: right;\">0.421488</td><td style = \"text-align: right;\">0.483471</td><td style = \"text-align: right;\">0.524793</td><td style = \"text-align: right;\">0.533058</td><td style = \"text-align: right;\">0.570248</td><td style = \"text-align: right;\">0.578512</td><td style = \"text-align: right;\">0.599174</td><td style = \"text-align: right;\">0.623967</td><td style = \"text-align: right;\">0.640496</td><td style = \"text-align: right;\">0.652893</td><td style = \"text-align: right;\">0.661157</td><td style = \"text-align: right;\">0.681818</td><td style = \"text-align: right;\">0.68595</td><td style = \"text-align: right;\">0.706612</td><td style = \"text-align: right;\">0.714876</td><td style = \"text-align: right;\">0.731405</td><td style = \"text-align: right;\">0.714876</td><td style = \"text-align: right;\">0.735537</td><td style = \"text-align: right;\">0.727273</td><td style = \"text-align: right;\">0.739669</td><td style = \"text-align: right;\">0.739669</td><td style = \"text-align: right;\">0.752066</td><td style = \"text-align: right;\">0.752066</td><td style = \"text-align: right;\">0.743802</td><td style = \"text-align: right;\">0.789256</td><td style = \"text-align: right;\">0.789256</td><td style = \"text-align: right;\">0.793388</td><td style = \"text-align: right;\">0.805785</td><td style = \"text-align: right;\">0.809917</td><td>&ctdot;</td></tr><tr class = \"dataRow\"><td class = \"rowLabel\" style = \"font-weight: bold; text-align: right;\">5</td><td style = \"text-align: right;\">0.5</td><td style = \"text-align: right;\">0.545455</td><td style = \"text-align: right;\">0.582645</td><td style = \"text-align: right;\">0.623967</td><td style = \"text-align: right;\">0.64876</td><td style = \"text-align: right;\">0.690083</td><td style = \"text-align: right;\">0.694215</td><td style = \"text-align: right;\">0.714876</td><td style = \"text-align: right;\">0.72314</td><td style = \"text-align: right;\">0.731405</td><td style = \"text-align: right;\">0.739669</td><td style = \"text-align: right;\">0.739669</td><td style = \"text-align: right;\">0.764463</td><td style = \"text-align: right;\">0.756198</td><td style = \"text-align: right;\">0.764463</td><td style = \"text-align: right;\">0.785124</td><td style = \"text-align: right;\">0.793388</td><td style = \"text-align: right;\">0.797521</td><td style = \"text-align: right;\">0.81405</td><td style = \"text-align: right;\">0.809917</td><td style = \"text-align: right;\">0.809917</td><td style = \"text-align: right;\">0.818182</td><td style = \"text-align: right;\">0.830578</td><td style = \"text-align: right;\">0.830578</td><td style = \"text-align: right;\">0.842975</td><td style = \"text-align: right;\">0.838843</td><td style = \"text-align: right;\">0.838843</td><td style = \"text-align: right;\">0.838843</td><td style = \"text-align: right;\">0.830578</td><td style = \"text-align: right;\">0.818182</td><td style = \"text-align: right;\">0.805785</td><td style = \"text-align: right;\">0.801653</td><td style = \"text-align: right;\">0.797521</td><td style = \"text-align: right;\">0.793388</td><td style = \"text-align: right;\">0.793388</td><td style = \"text-align: right;\">0.785124</td><td style = \"text-align: right;\">0.797521</td><td style = \"text-align: right;\">0.801653</td><td style = \"text-align: right;\">0.793388</td><td style = \"text-align: right;\">0.793388</td><td style = \"text-align: right;\">0.789256</td><td style = \"text-align: right;\">0.797521</td><td style = \"text-align: right;\">0.785124</td><td style = \"text-align: right;\">0.785124</td><td style = \"text-align: right;\">0.772727</td><td style = \"text-align: right;\">0.764463</td><td style = \"text-align: right;\">0.764463</td><td style = \"text-align: right;\">0.747934</td><td style = \"text-align: right;\">0.739669</td><td style = \"text-align: right;\">0.739669</td><td style = \"text-align: right;\">0.72314</td><td style = \"text-align: right;\">0.710744</td><td style = \"text-align: right;\">0.702479</td><td style = \"text-align: right;\">0.68595</td><td style = \"text-align: right;\">0.673554</td><td style = \"text-align: right;\">0.590909</td><td style = \"text-align: right;\">0.433884</td><td style = \"text-align: right;\">0.35124</td><td style = \"text-align: right;\">0.227273</td><td style = \"text-align: right;\">0.219008</td><td style = \"text-align: right;\">0.210744</td><td style = \"text-align: right;\">0.22314</td><td style = \"text-align: right;\">0.22314</td><td style = \"text-align: right;\">0.22314</td><td style = \"text-align: right;\">0.479339</td><td style = \"text-align: right;\">0.512397</td><td style = \"text-align: right;\">0.582645</td><td style = \"text-align: right;\">0.628099</td><td style = \"text-align: right;\">0.665289</td><td style = \"text-align: right;\">0.690083</td><td style = \"text-align: right;\">0.694215</td><td style = \"text-align: right;\">0.706612</td><td style = \"text-align: right;\">0.719008</td><td style = \"text-align: right;\">0.727273</td><td style = \"text-align: right;\">0.739669</td><td style = \"text-align: right;\">0.752066</td><td style = \"text-align: right;\">0.760331</td><td style = \"text-align: right;\">0.768595</td><td style = \"text-align: right;\">0.764463</td><td style = \"text-align: right;\">0.793388</td><td style = \"text-align: right;\">0.793388</td><td style = \"text-align: right;\">0.805785</td><td style = \"text-align: right;\">0.822314</td><td style = \"text-align: right;\">0.805785</td><td style = \"text-align: right;\">0.818182</td><td style = \"text-align: right;\">0.822314</td><td style = \"text-align: right;\">0.834711</td><td style = \"text-align: right;\">0.834711</td><td style = \"text-align: right;\">0.842975</td><td style = \"text-align: right;\">0.842975</td><td style = \"text-align: right;\">0.842975</td><td style = \"text-align: right;\">0.834711</td><td style = \"text-align: right;\">0.826446</td><td style = \"text-align: right;\">0.818182</td><td style = \"text-align: right;\">0.809917</td><td style = \"text-align: right;\">0.801653</td><td style = \"text-align: right;\">0.797521</td><td style = \"text-align: right;\">0.789256</td><td style = \"text-align: right;\">0.81405</td><td style = \"text-align: right;\">0.818182</td><td>&ctdot;</td></tr><tr class = \"dataRow\"><td class = \"rowLabel\" style = \"font-weight: bold; text-align: right;\">6</td><td style = \"text-align: right;\">0.549587</td><td style = \"text-align: right;\">0.545455</td><td style = \"text-align: right;\">0.541322</td><td style = \"text-align: right;\">0.53719</td><td style = \"text-align: right;\">0.53719</td><td style = \"text-align: right;\">0.533058</td><td style = \"text-align: right;\">0.528926</td><td style = \"text-align: right;\">0.533058</td><td style = \"text-align: right;\">0.590909</td><td style = \"text-align: right;\">0.61157</td><td style = \"text-align: right;\">0.603306</td><td style = \"text-align: right;\">0.628099</td><td style = \"text-align: right;\">0.619835</td><td style = \"text-align: right;\">0.623967</td><td style = \"text-align: right;\">0.644628</td><td style = \"text-align: right;\">0.665289</td><td style = \"text-align: right;\">0.665289</td><td style = \"text-align: right;\">0.669422</td><td style = \"text-align: right;\">0.673554</td><td style = \"text-align: right;\">0.677686</td><td style = \"text-align: right;\">0.669422</td><td style = \"text-align: right;\">0.68595</td><td style = \"text-align: right;\">0.68595</td><td style = \"text-align: right;\">0.68595</td><td style = \"text-align: right;\">0.665289</td><td style = \"text-align: right;\">0.681818</td><td style = \"text-align: right;\">0.68595</td><td style = \"text-align: right;\">0.694215</td><td style = \"text-align: right;\">0.694215</td><td style = \"text-align: right;\">0.702479</td><td style = \"text-align: right;\">0.702479</td><td style = \"text-align: right;\">0.706612</td><td style = \"text-align: right;\">0.706612</td><td style = \"text-align: right;\">0.735537</td><td style = \"text-align: right;\">0.756198</td><td style = \"text-align: right;\">0.752066</td><td style = \"text-align: right;\">0.747934</td><td style = \"text-align: right;\">0.752066</td><td style = \"text-align: right;\">0.735537</td><td style = \"text-align: right;\">0.735537</td><td style = \"text-align: right;\">0.727273</td><td style = \"text-align: right;\">0.731405</td><td style = \"text-align: right;\">0.727273</td><td style = \"text-align: right;\">0.719008</td><td style = \"text-align: right;\">0.72314</td><td style = \"text-align: right;\">0.731405</td><td style = \"text-align: right;\">0.731405</td><td style = \"text-align: right;\">0.719008</td><td style = \"text-align: right;\">0.72314</td><td style = \"text-align: right;\">0.719008</td><td style = \"text-align: right;\">0.714876</td><td style = \"text-align: right;\">0.719008</td><td style = \"text-align: right;\">0.719008</td><td style = \"text-align: right;\">0.719008</td><td style = \"text-align: right;\">0.702479</td><td style = \"text-align: right;\">0.694215</td><td style = \"text-align: right;\">0.681818</td><td style = \"text-align: right;\">0.673554</td><td style = \"text-align: right;\">0.636364</td><td style = \"text-align: right;\">0.61157</td><td style = \"text-align: right;\">0.561983</td><td style = \"text-align: right;\">0.533058</td><td style = \"text-align: right;\">0.46281</td><td style = \"text-align: right;\">0.42562</td><td style = \"text-align: right;\">0.549587</td><td style = \"text-align: right;\">0.549587</td><td style = \"text-align: right;\">0.549587</td><td style = \"text-align: right;\">0.549587</td><td style = \"text-align: right;\">0.549587</td><td style = \"text-align: right;\">0.549587</td><td style = \"text-align: right;\">0.549587</td><td style = \"text-align: right;\">0.557851</td><td style = \"text-align: right;\">0.599174</td><td style = \"text-align: right;\">0.615702</td><td style = \"text-align: right;\">0.615702</td><td style = \"text-align: right;\">0.623967</td><td style = \"text-align: right;\">0.628099</td><td style = \"text-align: right;\">0.640496</td><td style = \"text-align: right;\">0.652893</td><td style = \"text-align: right;\">0.669422</td><td style = \"text-align: right;\">0.665289</td><td style = \"text-align: right;\">0.665289</td><td style = \"text-align: right;\">0.677686</td><td style = \"text-align: right;\">0.673554</td><td style = \"text-align: right;\">0.673554</td><td style = \"text-align: right;\">0.68595</td><td style = \"text-align: right;\">0.673554</td><td style = \"text-align: right;\">0.698347</td><td style = \"text-align: right;\">0.661157</td><td style = \"text-align: right;\">0.681818</td><td style = \"text-align: right;\">0.694215</td><td style = \"text-align: right;\">0.690083</td><td style = \"text-align: right;\">0.706612</td><td style = \"text-align: right;\">0.702479</td><td style = \"text-align: right;\">0.706612</td><td style = \"text-align: right;\">0.719008</td><td style = \"text-align: right;\">0.710744</td><td style = \"text-align: right;\">0.739669</td><td style = \"text-align: right;\">0.752066</td><td style = \"text-align: right;\">0.752066</td><td>&ctdot;</td></tr><tr class = \"dataRow\"><td class = \"rowLabel\" style = \"font-weight: bold; text-align: right;\">7</td><td style = \"text-align: right;\">0.330578</td><td style = \"text-align: right;\">0.305785</td><td style = \"text-align: right;\">0.330578</td><td style = \"text-align: right;\">0.35124</td><td style = \"text-align: right;\">0.42562</td><td style = \"text-align: right;\">0.5</td><td style = \"text-align: right;\">0.603306</td><td style = \"text-align: right;\">0.632231</td><td style = \"text-align: right;\">0.644628</td><td style = \"text-align: right;\">0.644628</td><td style = \"text-align: right;\">0.640496</td><td style = \"text-align: right;\">0.636364</td><td style = \"text-align: right;\">0.64876</td><td style = \"text-align: right;\">0.661157</td><td style = \"text-align: right;\">0.665289</td><td style = \"text-align: right;\">0.665289</td><td style = \"text-align: right;\">0.673554</td><td style = \"text-align: right;\">0.681818</td><td style = \"text-align: right;\">0.677686</td><td style = \"text-align: right;\">0.665289</td><td style = \"text-align: right;\">0.681818</td><td style = \"text-align: right;\">0.694215</td><td style = \"text-align: right;\">0.698347</td><td style = \"text-align: right;\">0.706612</td><td style = \"text-align: right;\">0.706612</td><td style = \"text-align: right;\">0.727273</td><td style = \"text-align: right;\">0.743802</td><td style = \"text-align: right;\">0.743802</td><td style = \"text-align: right;\">0.743802</td><td style = \"text-align: right;\">0.747934</td><td style = \"text-align: right;\">0.735537</td><td style = \"text-align: right;\">0.743802</td><td style = \"text-align: right;\">0.735537</td><td style = \"text-align: right;\">0.735537</td><td style = \"text-align: right;\">0.743802</td><td style = \"text-align: right;\">0.760331</td><td style = \"text-align: right;\">0.756198</td><td style = \"text-align: right;\">0.756198</td><td style = \"text-align: right;\">0.747934</td><td style = \"text-align: right;\">0.743802</td><td style = \"text-align: right;\">0.739669</td><td style = \"text-align: right;\">0.743802</td><td style = \"text-align: right;\">0.739669</td><td style = \"text-align: right;\">0.743802</td><td style = \"text-align: right;\">0.764463</td><td style = \"text-align: right;\">0.743802</td><td style = \"text-align: right;\">0.764463</td><td style = \"text-align: right;\">0.768595</td><td style = \"text-align: right;\">0.756198</td><td style = \"text-align: right;\">0.747934</td><td style = \"text-align: right;\">0.735537</td><td style = \"text-align: right;\">0.719008</td><td style = \"text-align: right;\">0.694215</td><td style = \"text-align: right;\">0.694215</td><td style = \"text-align: right;\">0.673554</td><td style = \"text-align: right;\">0.665289</td><td style = \"text-align: right;\">0.640496</td><td style = \"text-align: right;\">0.636364</td><td style = \"text-align: right;\">0.590909</td><td style = \"text-align: right;\">0.545455</td><td style = \"text-align: right;\">0.487603</td><td style = \"text-align: right;\">0.396694</td><td style = \"text-align: right;\">0.371901</td><td style = \"text-align: right;\">0.285124</td><td style = \"text-align: right;\">0.322314</td><td style = \"text-align: right;\">0.322314</td><td style = \"text-align: right;\">0.297521</td><td style = \"text-align: right;\">0.359504</td><td style = \"text-align: right;\">0.433884</td><td style = \"text-align: right;\">0.524793</td><td style = \"text-align: right;\">0.623967</td><td style = \"text-align: right;\">0.636364</td><td style = \"text-align: right;\">0.640496</td><td style = \"text-align: right;\">0.636364</td><td style = \"text-align: right;\">0.628099</td><td style = \"text-align: right;\">0.628099</td><td style = \"text-align: right;\">0.64876</td><td style = \"text-align: right;\">0.657025</td><td style = \"text-align: right;\">0.665289</td><td style = \"text-align: right;\">0.665289</td><td style = \"text-align: right;\">0.681818</td><td style = \"text-align: right;\">0.698347</td><td style = \"text-align: right;\">0.677686</td><td style = \"text-align: right;\">0.669422</td><td style = \"text-align: right;\">0.677686</td><td style = \"text-align: right;\">0.68595</td><td style = \"text-align: right;\">0.698347</td><td style = \"text-align: right;\">0.710744</td><td style = \"text-align: right;\">0.710744</td><td style = \"text-align: right;\">0.735537</td><td style = \"text-align: right;\">0.739669</td><td style = \"text-align: right;\">0.752066</td><td style = \"text-align: right;\">0.747934</td><td style = \"text-align: right;\">0.739669</td><td style = \"text-align: right;\">0.747934</td><td style = \"text-align: right;\">0.735537</td><td style = \"text-align: right;\">0.735537</td><td style = \"text-align: right;\">0.735537</td><td style = \"text-align: right;\">0.739669</td><td style = \"text-align: right;\">0.756198</td><td>&ctdot;</td></tr><tr class = \"dataRow\"><td class = \"rowLabel\" style = \"font-weight: bold; text-align: right;\">8</td><td style = \"text-align: right;\">0.128099</td><td style = \"text-align: right;\">0.18595</td><td style = \"text-align: right;\">0.247934</td><td style = \"text-align: right;\">0.31405</td><td style = \"text-align: right;\">0.38843</td><td style = \"text-align: right;\">0.46281</td><td style = \"text-align: right;\">0.520661</td><td style = \"text-align: right;\">0.557851</td><td style = \"text-align: right;\">0.590909</td><td style = \"text-align: right;\">0.623967</td><td style = \"text-align: right;\">0.640496</td><td style = \"text-align: right;\">0.652893</td><td style = \"text-align: right;\">0.673554</td><td style = \"text-align: right;\">0.694215</td><td style = \"text-align: right;\">0.710744</td><td style = \"text-align: right;\">0.727273</td><td style = \"text-align: right;\">0.727273</td><td style = \"text-align: right;\">0.747934</td><td style = \"text-align: right;\">0.747934</td><td style = \"text-align: right;\">0.747934</td><td style = \"text-align: right;\">0.764463</td><td style = \"text-align: right;\">0.772727</td><td style = \"text-align: right;\">0.764463</td><td style = \"text-align: right;\">0.780992</td><td style = \"text-align: right;\">0.805785</td><td style = \"text-align: right;\">0.809917</td><td style = \"text-align: right;\">0.838843</td><td style = \"text-align: right;\">0.847107</td><td style = \"text-align: right;\">0.838843</td><td style = \"text-align: right;\">0.838843</td><td style = \"text-align: right;\">0.834711</td><td style = \"text-align: right;\">0.834711</td><td style = \"text-align: right;\">0.842975</td><td style = \"text-align: right;\">0.834711</td><td style = \"text-align: right;\">0.822314</td><td style = \"text-align: right;\">0.818182</td><td style = \"text-align: right;\">0.822314</td><td style = \"text-align: right;\">0.81405</td><td style = \"text-align: right;\">0.801653</td><td style = \"text-align: right;\">0.785124</td><td style = \"text-align: right;\">0.785124</td><td style = \"text-align: right;\">0.780992</td><td style = \"text-align: right;\">0.785124</td><td style = \"text-align: right;\">0.772727</td><td style = \"text-align: right;\">0.785124</td><td style = \"text-align: right;\">0.793388</td><td style = \"text-align: right;\">0.789256</td><td style = \"text-align: right;\">0.785124</td><td style = \"text-align: right;\">0.780992</td><td style = \"text-align: right;\">0.77686</td><td style = \"text-align: right;\">0.772727</td><td style = \"text-align: right;\">0.768595</td><td style = \"text-align: right;\">0.756198</td><td style = \"text-align: right;\">0.747934</td><td style = \"text-align: right;\">0.743802</td><td style = \"text-align: right;\">0.719008</td><td style = \"text-align: right;\">0.702479</td><td style = \"text-align: right;\">0.673554</td><td style = \"text-align: right;\">0.586777</td><td style = \"text-align: right;\">0.516529</td><td style = \"text-align: right;\">0.438017</td><td style = \"text-align: right;\">0.371901</td><td style = \"text-align: right;\">0.355372</td><td style = \"text-align: right;\">0.359504</td><td style = \"text-align: right;\">0.132231</td><td style = \"text-align: right;\">0.181818</td><td style = \"text-align: right;\">0.243802</td><td style = \"text-align: right;\">0.318182</td><td style = \"text-align: right;\">0.396694</td><td style = \"text-align: right;\">0.479339</td><td style = \"text-align: right;\">0.528926</td><td style = \"text-align: right;\">0.557851</td><td style = \"text-align: right;\">0.590909</td><td style = \"text-align: right;\">0.615702</td><td style = \"text-align: right;\">0.644628</td><td style = \"text-align: right;\">0.665289</td><td style = \"text-align: right;\">0.681818</td><td style = \"text-align: right;\">0.702479</td><td style = \"text-align: right;\">0.719008</td><td style = \"text-align: right;\">0.735537</td><td style = \"text-align: right;\">0.72314</td><td style = \"text-align: right;\">0.747934</td><td style = \"text-align: right;\">0.743802</td><td style = \"text-align: right;\">0.747934</td><td style = \"text-align: right;\">0.747934</td><td style = \"text-align: right;\">0.756198</td><td style = \"text-align: right;\">0.780992</td><td style = \"text-align: right;\">0.785124</td><td style = \"text-align: right;\">0.805785</td><td style = \"text-align: right;\">0.81405</td><td style = \"text-align: right;\">0.842975</td><td style = \"text-align: right;\">0.85124</td><td style = \"text-align: right;\">0.85124</td><td style = \"text-align: right;\">0.855372</td><td style = \"text-align: right;\">0.830578</td><td style = \"text-align: right;\">0.838843</td><td style = \"text-align: right;\">0.842975</td><td style = \"text-align: right;\">0.838843</td><td style = \"text-align: right;\">0.838843</td><td style = \"text-align: right;\">0.826446</td><td>&ctdot;</td></tr><tr class = \"dataRow\"><td class = \"rowLabel\" style = \"font-weight: bold; text-align: right;\">9</td><td style = \"text-align: right;\">0.243802</td><td style = \"text-align: right;\">0.297521</td><td style = \"text-align: right;\">0.367769</td><td style = \"text-align: right;\">0.454545</td><td style = \"text-align: right;\">0.495868</td><td style = \"text-align: right;\">0.53719</td><td style = \"text-align: right;\">0.578512</td><td style = \"text-align: right;\">0.603306</td><td style = \"text-align: right;\">0.61157</td><td style = \"text-align: right;\">0.632231</td><td style = \"text-align: right;\">0.64876</td><td style = \"text-align: right;\">0.652893</td><td style = \"text-align: right;\">0.68595</td><td style = \"text-align: right;\">0.714876</td><td style = \"text-align: right;\">0.731405</td><td style = \"text-align: right;\">0.72314</td><td style = \"text-align: right;\">0.760331</td><td style = \"text-align: right;\">0.756198</td><td style = \"text-align: right;\">0.760331</td><td style = \"text-align: right;\">0.752066</td><td style = \"text-align: right;\">0.747934</td><td style = \"text-align: right;\">0.747934</td><td style = \"text-align: right;\">0.77686</td><td style = \"text-align: right;\">0.768595</td><td style = \"text-align: right;\">0.780992</td><td style = \"text-align: right;\">0.785124</td><td style = \"text-align: right;\">0.801653</td><td style = \"text-align: right;\">0.81405</td><td style = \"text-align: right;\">0.809917</td><td style = \"text-align: right;\">0.818182</td><td style = \"text-align: right;\">0.809917</td><td style = \"text-align: right;\">0.805785</td><td style = \"text-align: right;\">0.81405</td><td style = \"text-align: right;\">0.801653</td><td style = \"text-align: right;\">0.801653</td><td style = \"text-align: right;\">0.797521</td><td style = \"text-align: right;\">0.797521</td><td style = \"text-align: right;\">0.793388</td><td style = \"text-align: right;\">0.789256</td><td style = \"text-align: right;\">0.797521</td><td style = \"text-align: right;\">0.789256</td><td style = \"text-align: right;\">0.793388</td><td style = \"text-align: right;\">0.805785</td><td style = \"text-align: right;\">0.789256</td><td style = \"text-align: right;\">0.797521</td><td style = \"text-align: right;\">0.801653</td><td style = \"text-align: right;\">0.797521</td><td style = \"text-align: right;\">0.801653</td><td style = \"text-align: right;\">0.809917</td><td style = \"text-align: right;\">0.77686</td><td style = \"text-align: right;\">0.760331</td><td style = \"text-align: right;\">0.735537</td><td style = \"text-align: right;\">0.727273</td><td style = \"text-align: right;\">0.698347</td><td style = \"text-align: right;\">0.673554</td><td style = \"text-align: right;\">0.64876</td><td style = \"text-align: right;\">0.640496</td><td style = \"text-align: right;\">0.570248</td><td style = \"text-align: right;\">0.442149</td><td style = \"text-align: right;\">0.380165</td><td style = \"text-align: right;\">0.309917</td><td style = \"text-align: right;\">0.326446</td><td style = \"text-align: right;\">0.247934</td><td style = \"text-align: right;\">0.227273</td><td style = \"text-align: right;\">0.219008</td><td style = \"text-align: right;\">0.318182</td><td style = \"text-align: right;\">0.371901</td><td style = \"text-align: right;\">0.438017</td><td style = \"text-align: right;\">0.491736</td><td style = \"text-align: right;\">0.549587</td><td style = \"text-align: right;\">0.578512</td><td style = \"text-align: right;\">0.586777</td><td style = \"text-align: right;\">0.607438</td><td style = \"text-align: right;\">0.623967</td><td style = \"text-align: right;\">0.636364</td><td style = \"text-align: right;\">0.661157</td><td style = \"text-align: right;\">0.694215</td><td style = \"text-align: right;\">0.714876</td><td style = \"text-align: right;\">0.735537</td><td style = \"text-align: right;\">0.739669</td><td style = \"text-align: right;\">0.760331</td><td style = \"text-align: right;\">0.756198</td><td style = \"text-align: right;\">0.747934</td><td style = \"text-align: right;\">0.752066</td><td style = \"text-align: right;\">0.739669</td><td style = \"text-align: right;\">0.747934</td><td style = \"text-align: right;\">0.760331</td><td style = \"text-align: right;\">0.752066</td><td style = \"text-align: right;\">0.77686</td><td style = \"text-align: right;\">0.768595</td><td style = \"text-align: right;\">0.789256</td><td style = \"text-align: right;\">0.801653</td><td style = \"text-align: right;\">0.805785</td><td style = \"text-align: right;\">0.805785</td><td style = \"text-align: right;\">0.81405</td><td style = \"text-align: right;\">0.805785</td><td style = \"text-align: right;\">0.805785</td><td style = \"text-align: right;\">0.793388</td><td style = \"text-align: right;\">0.793388</td><td style = \"text-align: right;\">0.793388</td><td>&ctdot;</td></tr><tr class = \"dataRow\"><td class = \"rowLabel\" style = \"font-weight: bold; text-align: right;\">10</td><td style = \"text-align: right;\">0.380165</td><td style = \"text-align: right;\">0.442149</td><td style = \"text-align: right;\">0.483471</td><td style = \"text-align: right;\">0.545455</td><td style = \"text-align: right;\">0.582645</td><td style = \"text-align: right;\">0.628099</td><td style = \"text-align: right;\">0.64876</td><td style = \"text-align: right;\">0.677686</td><td style = \"text-align: right;\">0.690083</td><td style = \"text-align: right;\">0.710744</td><td style = \"text-align: right;\">0.727273</td><td style = \"text-align: right;\">0.747934</td><td style = \"text-align: right;\">0.760331</td><td style = \"text-align: right;\">0.760331</td><td style = \"text-align: right;\">0.768595</td><td style = \"text-align: right;\">0.780992</td><td style = \"text-align: right;\">0.780992</td><td style = \"text-align: right;\">0.797521</td><td style = \"text-align: right;\">0.764463</td><td style = \"text-align: right;\">0.797521</td><td style = \"text-align: right;\">0.801653</td><td style = \"text-align: right;\">0.809917</td><td style = \"text-align: right;\">0.834711</td><td style = \"text-align: right;\">0.834711</td><td style = \"text-align: right;\">0.859504</td><td style = \"text-align: right;\">0.876033</td><td style = \"text-align: right;\">0.880165</td><td style = \"text-align: right;\">0.880165</td><td style = \"text-align: right;\">0.880165</td><td style = \"text-align: right;\">0.871901</td><td style = \"text-align: right;\">0.867769</td><td style = \"text-align: right;\">0.842975</td><td style = \"text-align: right;\">0.826446</td><td style = \"text-align: right;\">0.81405</td><td style = \"text-align: right;\">0.797521</td><td style = \"text-align: right;\">0.801653</td><td style = \"text-align: right;\">0.797521</td><td style = \"text-align: right;\">0.793388</td><td style = \"text-align: right;\">0.793388</td><td style = \"text-align: right;\">0.77686</td><td style = \"text-align: right;\">0.764463</td><td style = \"text-align: right;\">0.764463</td><td style = \"text-align: right;\">0.77686</td><td style = \"text-align: right;\">0.768595</td><td style = \"text-align: right;\">0.764463</td><td style = \"text-align: right;\">0.772727</td><td style = \"text-align: right;\">0.760331</td><td style = \"text-align: right;\">0.752066</td><td style = \"text-align: right;\">0.752066</td><td style = \"text-align: right;\">0.756198</td><td style = \"text-align: right;\">0.739669</td><td style = \"text-align: right;\">0.735537</td><td style = \"text-align: right;\">0.735537</td><td style = \"text-align: right;\">0.72314</td><td style = \"text-align: right;\">0.719008</td><td style = \"text-align: right;\">0.710744</td><td style = \"text-align: right;\">0.677686</td><td style = \"text-align: right;\">0.636364</td><td style = \"text-align: right;\">0.561983</td><td style = \"text-align: right;\">0.421488</td><td style = \"text-align: right;\">0.404959</td><td style = \"text-align: right;\">0.264463</td><td style = \"text-align: right;\">0.272727</td><td style = \"text-align: right;\">0.276859</td><td style = \"text-align: right;\">0.38843</td><td style = \"text-align: right;\">0.446281</td><td style = \"text-align: right;\">0.491736</td><td style = \"text-align: right;\">0.545455</td><td style = \"text-align: right;\">0.607438</td><td style = \"text-align: right;\">0.640496</td><td style = \"text-align: right;\">0.652893</td><td style = \"text-align: right;\">0.665289</td><td style = \"text-align: right;\">0.694215</td><td style = \"text-align: right;\">0.710744</td><td style = \"text-align: right;\">0.719008</td><td style = \"text-align: right;\">0.727273</td><td style = \"text-align: right;\">0.756198</td><td style = \"text-align: right;\">0.760331</td><td style = \"text-align: right;\">0.768595</td><td style = \"text-align: right;\">0.780992</td><td style = \"text-align: right;\">0.780992</td><td style = \"text-align: right;\">0.772727</td><td style = \"text-align: right;\">0.780992</td><td style = \"text-align: right;\">0.780992</td><td style = \"text-align: right;\">0.805785</td><td style = \"text-align: right;\">0.809917</td><td style = \"text-align: right;\">0.842975</td><td style = \"text-align: right;\">0.842975</td><td style = \"text-align: right;\">0.859504</td><td style = \"text-align: right;\">0.867769</td><td style = \"text-align: right;\">0.876033</td><td style = \"text-align: right;\">0.880165</td><td style = \"text-align: right;\">0.880165</td><td style = \"text-align: right;\">0.863636</td><td style = \"text-align: right;\">0.863636</td><td style = \"text-align: right;\">0.85124</td><td style = \"text-align: right;\">0.826446</td><td style = \"text-align: right;\">0.81405</td><td style = \"text-align: right;\">0.805785</td><td style = \"text-align: right;\">0.789256</td><td>&ctdot;</td></tr><tr class = \"dataRow\"><td class = \"rowLabel\" style = \"font-weight: bold; text-align: right;\">11</td><td style = \"text-align: right;\">0.541322</td><td style = \"text-align: right;\">0.586777</td><td style = \"text-align: right;\">0.640496</td><td style = \"text-align: right;\">0.661157</td><td style = \"text-align: right;\">0.68595</td><td style = \"text-align: right;\">0.68595</td><td style = \"text-align: right;\">0.690083</td><td style = \"text-align: right;\">0.698347</td><td style = \"text-align: right;\">0.694215</td><td style = \"text-align: right;\">0.690083</td><td style = \"text-align: right;\">0.698347</td><td style = \"text-align: right;\">0.727273</td><td style = \"text-align: right;\">0.743802</td><td style = \"text-align: right;\">0.752066</td><td style = \"text-align: right;\">0.756198</td><td style = \"text-align: right;\">0.764463</td><td style = \"text-align: right;\">0.760331</td><td style = \"text-align: right;\">0.760331</td><td style = \"text-align: right;\">0.760331</td><td style = \"text-align: right;\">0.768595</td><td style = \"text-align: right;\">0.768595</td><td style = \"text-align: right;\">0.756198</td><td style = \"text-align: right;\">0.760331</td><td style = \"text-align: right;\">0.752066</td><td style = \"text-align: right;\">0.743802</td><td style = \"text-align: right;\">0.719008</td><td style = \"text-align: right;\">0.727273</td><td style = \"text-align: right;\">0.727273</td><td style = \"text-align: right;\">0.747934</td><td style = \"text-align: right;\">0.760331</td><td style = \"text-align: right;\">0.743802</td><td style = \"text-align: right;\">0.756198</td><td style = \"text-align: right;\">0.756198</td><td style = \"text-align: right;\">0.764463</td><td style = \"text-align: right;\">0.743802</td><td style = \"text-align: right;\">0.752066</td><td style = \"text-align: right;\">0.768595</td><td style = \"text-align: right;\">0.768595</td><td style = \"text-align: right;\">0.731405</td><td style = \"text-align: right;\">0.694215</td><td style = \"text-align: right;\">0.731405</td><td style = \"text-align: right;\">0.694215</td><td style = \"text-align: right;\">0.677686</td><td style = \"text-align: right;\">0.690083</td><td style = \"text-align: right;\">0.681818</td><td style = \"text-align: right;\">0.681818</td><td style = \"text-align: right;\">0.677686</td><td style = \"text-align: right;\">0.669422</td><td style = \"text-align: right;\">0.669422</td><td style = \"text-align: right;\">0.652893</td><td style = \"text-align: right;\">0.64876</td><td style = \"text-align: right;\">0.644628</td><td style = \"text-align: right;\">0.64876</td><td style = \"text-align: right;\">0.644628</td><td style = \"text-align: right;\">0.632231</td><td style = \"text-align: right;\">0.61157</td><td style = \"text-align: right;\">0.599174</td><td style = \"text-align: right;\">0.599174</td><td style = \"text-align: right;\">0.623967</td><td style = \"text-align: right;\">0.607438</td><td style = \"text-align: right;\">0.541322</td><td style = \"text-align: right;\">0.545455</td><td style = \"text-align: right;\">0.553719</td><td style = \"text-align: right;\">0.557851</td><td style = \"text-align: right;\">0.553719</td><td style = \"text-align: right;\">0.615702</td><td style = \"text-align: right;\">0.657025</td><td style = \"text-align: right;\">0.673554</td><td style = \"text-align: right;\">0.677686</td><td style = \"text-align: right;\">0.669422</td><td style = \"text-align: right;\">0.690083</td><td style = \"text-align: right;\">0.710744</td><td style = \"text-align: right;\">0.706612</td><td style = \"text-align: right;\">0.714876</td><td style = \"text-align: right;\">0.727273</td><td style = \"text-align: right;\">0.743802</td><td style = \"text-align: right;\">0.743802</td><td style = \"text-align: right;\">0.764463</td><td style = \"text-align: right;\">0.772727</td><td style = \"text-align: right;\">0.77686</td><td style = \"text-align: right;\">0.77686</td><td style = \"text-align: right;\">0.760331</td><td style = \"text-align: right;\">0.747934</td><td style = \"text-align: right;\">0.768595</td><td style = \"text-align: right;\">0.764463</td><td style = \"text-align: right;\">0.756198</td><td style = \"text-align: right;\">0.780992</td><td style = \"text-align: right;\">0.785124</td><td style = \"text-align: right;\">0.768595</td><td style = \"text-align: right;\">0.764463</td><td style = \"text-align: right;\">0.756198</td><td style = \"text-align: right;\">0.735537</td><td style = \"text-align: right;\">0.764463</td><td style = \"text-align: right;\">0.768595</td><td style = \"text-align: right;\">0.768595</td><td style = \"text-align: right;\">0.760331</td><td style = \"text-align: right;\">0.760331</td><td style = \"text-align: right;\">0.772727</td><td style = \"text-align: right;\">0.772727</td><td style = \"text-align: right;\">0.764463</td><td>&ctdot;</td></tr><tr class = \"dataRow\"><td class = \"rowLabel\" style = \"font-weight: bold; text-align: right;\">12</td><td style = \"text-align: right;\">0.644628</td><td style = \"text-align: right;\">0.690083</td><td style = \"text-align: right;\">0.702479</td><td style = \"text-align: right;\">0.702479</td><td style = \"text-align: right;\">0.706612</td><td style = \"text-align: right;\">0.719008</td><td style = \"text-align: right;\">0.727273</td><td style = \"text-align: right;\">0.739669</td><td style = \"text-align: right;\">0.719008</td><td style = \"text-align: right;\">0.719008</td><td style = \"text-align: right;\">0.735537</td><td style = \"text-align: right;\">0.743802</td><td style = \"text-align: right;\">0.747934</td><td style = \"text-align: right;\">0.747934</td><td style = \"text-align: right;\">0.756198</td><td style = \"text-align: right;\">0.760331</td><td style = \"text-align: right;\">0.768595</td><td style = \"text-align: right;\">0.760331</td><td style = \"text-align: right;\">0.756198</td><td style = \"text-align: right;\">0.760331</td><td style = \"text-align: right;\">0.760331</td><td style = \"text-align: right;\">0.768595</td><td style = \"text-align: right;\">0.756198</td><td style = \"text-align: right;\">0.764463</td><td style = \"text-align: right;\">0.747934</td><td style = \"text-align: right;\">0.727273</td><td style = \"text-align: right;\">0.706612</td><td style = \"text-align: right;\">0.706612</td><td style = \"text-align: right;\">0.706612</td><td style = \"text-align: right;\">0.706612</td><td style = \"text-align: right;\">0.72314</td><td style = \"text-align: right;\">0.719008</td><td style = \"text-align: right;\">0.710744</td><td style = \"text-align: right;\">0.731405</td><td style = \"text-align: right;\">0.739669</td><td style = \"text-align: right;\">0.735537</td><td style = \"text-align: right;\">0.727273</td><td style = \"text-align: right;\">0.72314</td><td style = \"text-align: right;\">0.727273</td><td style = \"text-align: right;\">0.714876</td><td style = \"text-align: right;\">0.694215</td><td style = \"text-align: right;\">0.68595</td><td style = \"text-align: right;\">0.68595</td><td style = \"text-align: right;\">0.681818</td><td style = \"text-align: right;\">0.677686</td><td style = \"text-align: right;\">0.673554</td><td style = \"text-align: right;\">0.665289</td><td style = \"text-align: right;\">0.657025</td><td style = \"text-align: right;\">0.661157</td><td style = \"text-align: right;\">0.644628</td><td style = \"text-align: right;\">0.623967</td><td style = \"text-align: right;\">0.61157</td><td style = \"text-align: right;\">0.615702</td><td style = \"text-align: right;\">0.628099</td><td style = \"text-align: right;\">0.615702</td><td style = \"text-align: right;\">0.590909</td><td style = \"text-align: right;\">0.570248</td><td style = \"text-align: right;\">0.578512</td><td style = \"text-align: right;\">0.603306</td><td style = \"text-align: right;\">0.566116</td><td style = \"text-align: right;\">0.466942</td><td style = \"text-align: right;\">0.533058</td><td style = \"text-align: right;\">0.512397</td><td style = \"text-align: right;\">0.570248</td><td style = \"text-align: right;\">0.681818</td><td style = \"text-align: right;\">0.694215</td><td style = \"text-align: right;\">0.706612</td><td style = \"text-align: right;\">0.68595</td><td style = \"text-align: right;\">0.698347</td><td style = \"text-align: right;\">0.710744</td><td style = \"text-align: right;\">0.72314</td><td style = \"text-align: right;\">0.735537</td><td style = \"text-align: right;\">0.719008</td><td style = \"text-align: right;\">0.727273</td><td style = \"text-align: right;\">0.743802</td><td style = \"text-align: right;\">0.735537</td><td style = \"text-align: right;\">0.739669</td><td style = \"text-align: right;\">0.747934</td><td style = \"text-align: right;\">0.760331</td><td style = \"text-align: right;\">0.764463</td><td style = \"text-align: right;\">0.764463</td><td style = \"text-align: right;\">0.756198</td><td style = \"text-align: right;\">0.743802</td><td style = \"text-align: right;\">0.768595</td><td style = \"text-align: right;\">0.772727</td><td style = \"text-align: right;\">0.768595</td><td style = \"text-align: right;\">0.764463</td><td style = \"text-align: right;\">0.780992</td><td style = \"text-align: right;\">0.77686</td><td style = \"text-align: right;\">0.752066</td><td style = \"text-align: right;\">0.735537</td><td style = \"text-align: right;\">0.727273</td><td style = \"text-align: right;\">0.710744</td><td style = \"text-align: right;\">0.719008</td><td style = \"text-align: right;\">0.735537</td><td style = \"text-align: right;\">0.735537</td><td style = \"text-align: right;\">0.727273</td><td style = \"text-align: right;\">0.731405</td><td style = \"text-align: right;\">0.760331</td><td style = \"text-align: right;\">0.764463</td><td>&ctdot;</td></tr><tr class = \"dataRow\"><td class = \"rowLabel\" style = \"font-weight: bold; text-align: right;\">13</td><td style = \"text-align: right;\">0.657025</td><td style = \"text-align: right;\">0.677686</td><td style = \"text-align: right;\">0.698347</td><td style = \"text-align: right;\">0.706612</td><td style = \"text-align: right;\">0.702479</td><td style = \"text-align: right;\">0.710744</td><td style = \"text-align: right;\">0.702479</td><td style = \"text-align: right;\">0.681818</td><td style = \"text-align: right;\">0.681818</td><td style = \"text-align: right;\">0.714876</td><td style = \"text-align: right;\">0.747934</td><td style = \"text-align: right;\">0.764463</td><td style = \"text-align: right;\">0.772727</td><td style = \"text-align: right;\">0.780992</td><td style = \"text-align: right;\">0.77686</td><td style = \"text-align: right;\">0.768595</td><td style = \"text-align: right;\">0.77686</td><td style = \"text-align: right;\">0.77686</td><td style = \"text-align: right;\">0.780992</td><td style = \"text-align: right;\">0.772727</td><td style = \"text-align: right;\">0.764463</td><td style = \"text-align: right;\">0.756198</td><td style = \"text-align: right;\">0.768595</td><td style = \"text-align: right;\">0.752066</td><td style = \"text-align: right;\">0.756198</td><td style = \"text-align: right;\">0.752066</td><td style = \"text-align: right;\">0.743802</td><td style = \"text-align: right;\">0.739669</td><td style = \"text-align: right;\">0.752066</td><td style = \"text-align: right;\">0.760331</td><td style = \"text-align: right;\">0.768595</td><td style = \"text-align: right;\">0.760331</td><td style = \"text-align: right;\">0.756198</td><td style = \"text-align: right;\">0.752066</td><td style = \"text-align: right;\">0.768595</td><td style = \"text-align: right;\">0.756198</td><td style = \"text-align: right;\">0.739669</td><td style = \"text-align: right;\">0.714876</td><td style = \"text-align: right;\">0.706612</td><td style = \"text-align: right;\">0.710744</td><td style = \"text-align: right;\">0.694215</td><td style = \"text-align: right;\">0.698347</td><td style = \"text-align: right;\">0.694215</td><td style = \"text-align: right;\">0.669422</td><td style = \"text-align: right;\">0.673554</td><td style = \"text-align: right;\">0.681818</td><td style = \"text-align: right;\">0.673554</td><td style = \"text-align: right;\">0.657025</td><td style = \"text-align: right;\">0.640496</td><td style = \"text-align: right;\">0.64876</td><td style = \"text-align: right;\">0.652893</td><td style = \"text-align: right;\">0.665289</td><td style = \"text-align: right;\">0.652893</td><td style = \"text-align: right;\">0.628099</td><td style = \"text-align: right;\">0.61157</td><td style = \"text-align: right;\">0.603306</td><td style = \"text-align: right;\">0.623967</td><td style = \"text-align: right;\">0.623967</td><td style = \"text-align: right;\">0.553719</td><td style = \"text-align: right;\">0.557851</td><td style = \"text-align: right;\">0.57438</td><td style = \"text-align: right;\">0.557851</td><td style = \"text-align: right;\">0.570248</td><td style = \"text-align: right;\">0.545455</td><td style = \"text-align: right;\">0.677686</td><td style = \"text-align: right;\">0.68595</td><td style = \"text-align: right;\">0.690083</td><td style = \"text-align: right;\">0.698347</td><td style = \"text-align: right;\">0.714876</td><td style = \"text-align: right;\">0.727273</td><td style = \"text-align: right;\">0.719008</td><td style = \"text-align: right;\">0.719008</td><td style = \"text-align: right;\">0.735537</td><td style = \"text-align: right;\">0.756198</td><td style = \"text-align: right;\">0.764463</td><td style = \"text-align: right;\">0.77686</td><td style = \"text-align: right;\">0.780992</td><td style = \"text-align: right;\">0.789256</td><td style = \"text-align: right;\">0.772727</td><td style = \"text-align: right;\">0.77686</td><td style = \"text-align: right;\">0.77686</td><td style = \"text-align: right;\">0.77686</td><td style = \"text-align: right;\">0.780992</td><td style = \"text-align: right;\">0.77686</td><td style = \"text-align: right;\">0.785124</td><td style = \"text-align: right;\">0.797521</td><td style = \"text-align: right;\">0.77686</td><td style = \"text-align: right;\">0.760331</td><td style = \"text-align: right;\">0.764463</td><td style = \"text-align: right;\">0.760331</td><td style = \"text-align: right;\">0.760331</td><td style = \"text-align: right;\">0.772727</td><td style = \"text-align: right;\">0.77686</td><td style = \"text-align: right;\">0.785124</td><td style = \"text-align: right;\">0.780992</td><td style = \"text-align: right;\">0.780992</td><td style = \"text-align: right;\">0.772727</td><td style = \"text-align: right;\">0.772727</td><td style = \"text-align: right;\">0.793388</td><td style = \"text-align: right;\">0.77686</td><td>&ctdot;</td></tr><tr><td style = \"text-align: right;\">&vellip;</td><td style = \"text-align: right;\">&vellip;</td><td style = \"text-align: right;\">&vellip;</td><td style = \"text-align: right;\">&vellip;</td><td style = \"text-align: right;\">&vellip;</td><td style = \"text-align: right;\">&vellip;</td><td style = \"text-align: right;\">&vellip;</td><td style = \"text-align: right;\">&vellip;</td><td style = \"text-align: right;\">&vellip;</td><td style = \"text-align: right;\">&vellip;</td><td style = \"text-align: right;\">&vellip;</td><td style = \"text-align: right;\">&vellip;</td><td style = \"text-align: right;\">&vellip;</td><td style = \"text-align: right;\">&vellip;</td><td style = \"text-align: right;\">&vellip;</td><td style = \"text-align: right;\">&vellip;</td><td style = \"text-align: right;\">&vellip;</td><td style = \"text-align: right;\">&vellip;</td><td style = \"text-align: right;\">&vellip;</td><td style = \"text-align: right;\">&vellip;</td><td style = \"text-align: right;\">&vellip;</td><td style = \"text-align: right;\">&vellip;</td><td style = \"text-align: right;\">&vellip;</td><td style = \"text-align: right;\">&vellip;</td><td style = \"text-align: right;\">&vellip;</td><td style = \"text-align: right;\">&vellip;</td><td style = \"text-align: right;\">&vellip;</td><td style = \"text-align: right;\">&vellip;</td><td style = \"text-align: right;\">&vellip;</td><td style = \"text-align: right;\">&vellip;</td><td style = \"text-align: right;\">&vellip;</td><td style = \"text-align: right;\">&vellip;</td><td style = \"text-align: right;\">&vellip;</td><td style = \"text-align: right;\">&vellip;</td><td style = \"text-align: right;\">&vellip;</td><td style = \"text-align: right;\">&vellip;</td><td style = \"text-align: right;\">&vellip;</td><td style = \"text-align: right;\">&vellip;</td><td style = \"text-align: right;\">&vellip;</td><td style = \"text-align: right;\">&vellip;</td><td style = \"text-align: right;\">&vellip;</td><td style = \"text-align: right;\">&vellip;</td><td style = \"text-align: right;\">&vellip;</td><td style = \"text-align: right;\">&vellip;</td><td style = \"text-align: right;\">&vellip;</td><td style = \"text-align: right;\">&vellip;</td><td style = \"text-align: right;\">&vellip;</td><td style = \"text-align: right;\">&vellip;</td><td style = \"text-align: right;\">&vellip;</td><td style = \"text-align: right;\">&vellip;</td><td style = \"text-align: right;\">&vellip;</td><td style = \"text-align: right;\">&vellip;</td><td style = \"text-align: right;\">&vellip;</td><td style = \"text-align: right;\">&vellip;</td><td style = \"text-align: right;\">&vellip;</td><td style = \"text-align: right;\">&vellip;</td><td style = \"text-align: right;\">&vellip;</td><td style = \"text-align: right;\">&vellip;</td><td style = \"text-align: right;\">&vellip;</td><td style = \"text-align: right;\">&vellip;</td><td style = \"text-align: right;\">&vellip;</td><td style = \"text-align: right;\">&vellip;</td><td style = \"text-align: right;\">&vellip;</td><td style = \"text-align: right;\">&vellip;</td><td style = \"text-align: right;\">&vellip;</td><td style = \"text-align: right;\">&vellip;</td><td style = \"text-align: right;\">&vellip;</td><td style = \"text-align: right;\">&vellip;</td><td style = \"text-align: right;\">&vellip;</td><td style = \"text-align: right;\">&vellip;</td><td style = \"text-align: right;\">&vellip;</td><td style = \"text-align: right;\">&vellip;</td><td style = \"text-align: right;\">&vellip;</td><td style = \"text-align: right;\">&vellip;</td><td style = \"text-align: right;\">&vellip;</td><td style = \"text-align: right;\">&vellip;</td><td style = \"text-align: right;\">&vellip;</td><td style = \"text-align: right;\">&vellip;</td><td style = \"text-align: right;\">&vellip;</td><td style = \"text-align: right;\">&vellip;</td><td style = \"text-align: right;\">&vellip;</td><td style = \"text-align: right;\">&vellip;</td><td style = \"text-align: right;\">&vellip;</td><td style = \"text-align: right;\">&vellip;</td><td style = \"text-align: right;\">&vellip;</td><td style = \"text-align: right;\">&vellip;</td><td style = \"text-align: right;\">&vellip;</td><td style = \"text-align: right;\">&vellip;</td><td style = \"text-align: right;\">&vellip;</td><td style = \"text-align: right;\">&vellip;</td><td style = \"text-align: right;\">&vellip;</td><td style = \"text-align: right;\">&vellip;</td><td style = \"text-align: right;\">&vellip;</td><td style = \"text-align: right;\">&vellip;</td><td style = \"text-align: right;\">&vellip;</td><td style = \"text-align: right;\">&vellip;</td><td style = \"text-align: right;\">&vellip;</td><td style = \"text-align: right;\">&vellip;</td><td style = \"text-align: right;\">&vellip;</td><td style = \"text-align: right;\">&vellip;</td><td style = \"text-align: right;\">&vellip;</td><td style = \"text-align: right;\">&dtdot;</td></tr><tr class = \"dataRow\"><td class = \"rowLabel\" style = \"font-weight: bold; text-align: right;\">389</td><td style = \"text-align: right;\">0.305785</td><td style = \"text-align: right;\">0.31405</td><td style = \"text-align: right;\">0.219008</td><td style = \"text-align: right;\">0.260331</td><td style = \"text-align: right;\">0.309917</td><td style = \"text-align: right;\">0.359504</td><td style = \"text-align: right;\">0.380165</td><td style = \"text-align: right;\">0.450413</td><td style = \"text-align: right;\">0.487603</td><td style = \"text-align: right;\">0.491736</td><td style = \"text-align: right;\">0.504132</td><td style = \"text-align: right;\">0.520661</td><td style = \"text-align: right;\">0.566116</td><td style = \"text-align: right;\">0.599174</td><td style = \"text-align: right;\">0.61157</td><td style = \"text-align: right;\">0.632231</td><td style = \"text-align: right;\">0.644628</td><td style = \"text-align: right;\">0.640496</td><td style = \"text-align: right;\">0.64876</td><td style = \"text-align: right;\">0.665289</td><td style = \"text-align: right;\">0.673554</td><td style = \"text-align: right;\">0.690083</td><td style = \"text-align: right;\">0.694215</td><td style = \"text-align: right;\">0.694215</td><td style = \"text-align: right;\">0.698347</td><td style = \"text-align: right;\">0.690083</td><td style = \"text-align: right;\">0.681818</td><td style = \"text-align: right;\">0.681818</td><td style = \"text-align: right;\">0.669422</td><td style = \"text-align: right;\">0.640496</td><td style = \"text-align: right;\">0.590909</td><td style = \"text-align: right;\">0.566116</td><td style = \"text-align: right;\">0.582645</td><td style = \"text-align: right;\">0.595041</td><td style = \"text-align: right;\">0.57438</td><td style = \"text-align: right;\">0.549587</td><td style = \"text-align: right;\">0.524793</td><td style = \"text-align: right;\">0.508265</td><td style = \"text-align: right;\">0.458678</td><td style = \"text-align: right;\">0.413223</td><td style = \"text-align: right;\">0.371901</td><td style = \"text-align: right;\">0.305785</td><td style = \"text-align: right;\">0.252066</td><td style = \"text-align: right;\">0.227273</td><td style = \"text-align: right;\">0.214876</td><td style = \"text-align: right;\">0.231405</td><td style = \"text-align: right;\">0.214876</td><td style = \"text-align: right;\">0.169422</td><td style = \"text-align: right;\">0.169422</td><td style = \"text-align: right;\">0.161157</td><td style = \"text-align: right;\">0.140496</td><td style = \"text-align: right;\">0.144628</td><td style = \"text-align: right;\">0.115702</td><td style = \"text-align: right;\">0.115702</td><td style = \"text-align: right;\">0.103306</td><td style = \"text-align: right;\">0.115702</td><td style = \"text-align: right;\">0.115702</td><td style = \"text-align: right;\">0.115702</td><td style = \"text-align: right;\">0.123967</td><td style = \"text-align: right;\">0.152893</td><td style = \"text-align: right;\">0.169422</td><td style = \"text-align: right;\">0.0991735</td><td style = \"text-align: right;\">0.11157</td><td style = \"text-align: right;\">0.11157</td><td style = \"text-align: right;\">0.338843</td><td style = \"text-align: right;\">0.247934</td><td style = \"text-align: right;\">0.247934</td><td style = \"text-align: right;\">0.309917</td><td style = \"text-align: right;\">0.347107</td><td style = \"text-align: right;\">0.384298</td><td style = \"text-align: right;\">0.409091</td><td style = \"text-align: right;\">0.46281</td><td style = \"text-align: right;\">0.487603</td><td style = \"text-align: right;\">0.508265</td><td style = \"text-align: right;\">0.528926</td><td style = \"text-align: right;\">0.549587</td><td style = \"text-align: right;\">0.578512</td><td style = \"text-align: right;\">0.603306</td><td style = \"text-align: right;\">0.61157</td><td style = \"text-align: right;\">0.623967</td><td style = \"text-align: right;\">0.64876</td><td style = \"text-align: right;\">0.665289</td><td style = \"text-align: right;\">0.673554</td><td style = \"text-align: right;\">0.677686</td><td style = \"text-align: right;\">0.677686</td><td style = \"text-align: right;\">0.673554</td><td style = \"text-align: right;\">0.677686</td><td style = \"text-align: right;\">0.677686</td><td style = \"text-align: right;\">0.681818</td><td style = \"text-align: right;\">0.677686</td><td style = \"text-align: right;\">0.673554</td><td style = \"text-align: right;\">0.681818</td><td style = \"text-align: right;\">0.669422</td><td style = \"text-align: right;\">0.644628</td><td style = \"text-align: right;\">0.61157</td><td style = \"text-align: right;\">0.595041</td><td style = \"text-align: right;\">0.586777</td><td style = \"text-align: right;\">0.595041</td><td style = \"text-align: right;\">0.586777</td><td style = \"text-align: right;\">0.566116</td><td>&ctdot;</td></tr><tr class = \"dataRow\"><td class = \"rowLabel\" style = \"font-weight: bold; text-align: right;\">390</td><td style = \"text-align: right;\">0.14876</td><td style = \"text-align: right;\">0.206612</td><td style = \"text-align: right;\">0.194215</td><td style = \"text-align: right;\">0.194215</td><td style = \"text-align: right;\">0.260331</td><td style = \"text-align: right;\">0.342975</td><td style = \"text-align: right;\">0.400826</td><td style = \"text-align: right;\">0.417355</td><td style = \"text-align: right;\">0.471074</td><td style = \"text-align: right;\">0.545455</td><td style = \"text-align: right;\">0.570248</td><td style = \"text-align: right;\">0.582645</td><td style = \"text-align: right;\">0.603306</td><td style = \"text-align: right;\">0.595041</td><td style = \"text-align: right;\">0.595041</td><td style = \"text-align: right;\">0.603306</td><td style = \"text-align: right;\">0.628099</td><td style = \"text-align: right;\">0.64876</td><td style = \"text-align: right;\">0.640496</td><td style = \"text-align: right;\">0.652893</td><td style = \"text-align: right;\">0.652893</td><td style = \"text-align: right;\">0.652893</td><td style = \"text-align: right;\">0.644628</td><td style = \"text-align: right;\">0.632231</td><td style = \"text-align: right;\">0.636364</td><td style = \"text-align: right;\">0.561983</td><td style = \"text-align: right;\">0.557851</td><td style = \"text-align: right;\">0.623967</td><td style = \"text-align: right;\">0.628099</td><td style = \"text-align: right;\">0.623967</td><td style = \"text-align: right;\">0.586777</td><td style = \"text-align: right;\">0.561983</td><td style = \"text-align: right;\">0.557851</td><td style = \"text-align: right;\">0.533058</td><td style = \"text-align: right;\">0.46281</td><td style = \"text-align: right;\">0.417355</td><td style = \"text-align: right;\">0.380165</td><td style = \"text-align: right;\">0.322314</td><td style = \"text-align: right;\">0.260331</td><td style = \"text-align: right;\">0.247934</td><td style = \"text-align: right;\">0.239669</td><td style = \"text-align: right;\">0.227273</td><td style = \"text-align: right;\">0.214876</td><td style = \"text-align: right;\">0.177686</td><td style = \"text-align: right;\">0.165289</td><td style = \"text-align: right;\">0.165289</td><td style = \"text-align: right;\">0.136364</td><td style = \"text-align: right;\">0.161157</td><td style = \"text-align: right;\">0.144628</td><td style = \"text-align: right;\">0.123967</td><td style = \"text-align: right;\">0.119835</td><td style = \"text-align: right;\">0.115702</td><td style = \"text-align: right;\">0.115702</td><td style = \"text-align: right;\">0.128099</td><td style = \"text-align: right;\">0.103306</td><td style = \"text-align: right;\">0.128099</td><td style = \"text-align: right;\">0.14876</td><td style = \"text-align: right;\">0.132231</td><td style = \"text-align: right;\">0.144628</td><td style = \"text-align: right;\">0.14876</td><td style = \"text-align: right;\">0.157025</td><td style = \"text-align: right;\">0.152893</td><td style = \"text-align: right;\">0.14876</td><td style = \"text-align: right;\">0.157025</td><td style = \"text-align: right;\">0.181818</td><td style = \"text-align: right;\">0.194215</td><td style = \"text-align: right;\">0.194215</td><td style = \"text-align: right;\">0.247934</td><td style = \"text-align: right;\">0.309917</td><td style = \"text-align: right;\">0.367769</td><td style = \"text-align: right;\">0.42562</td><td style = \"text-align: right;\">0.458678</td><td style = \"text-align: right;\">0.512397</td><td style = \"text-align: right;\">0.545455</td><td style = \"text-align: right;\">0.566116</td><td style = \"text-align: right;\">0.553719</td><td style = \"text-align: right;\">0.578512</td><td style = \"text-align: right;\">0.595041</td><td style = \"text-align: right;\">0.61157</td><td style = \"text-align: right;\">0.615702</td><td style = \"text-align: right;\">0.61157</td><td style = \"text-align: right;\">0.632231</td><td style = \"text-align: right;\">0.632231</td><td style = \"text-align: right;\">0.636364</td><td style = \"text-align: right;\">0.644628</td><td style = \"text-align: right;\">0.652893</td><td style = \"text-align: right;\">0.657025</td><td style = \"text-align: right;\">0.652893</td><td style = \"text-align: right;\">0.632231</td><td style = \"text-align: right;\">0.61157</td><td style = \"text-align: right;\">0.557851</td><td style = \"text-align: right;\">0.603306</td><td style = \"text-align: right;\">0.636364</td><td style = \"text-align: right;\">0.640496</td><td style = \"text-align: right;\">0.607438</td><td style = \"text-align: right;\">0.578512</td><td style = \"text-align: right;\">0.566116</td><td style = \"text-align: right;\">0.57438</td><td style = \"text-align: right;\">0.541322</td><td style = \"text-align: right;\">0.483471</td><td>&ctdot;</td></tr><tr class = \"dataRow\"><td class = \"rowLabel\" style = \"font-weight: bold; text-align: right;\">391</td><td style = \"text-align: right;\">0.545455</td><td style = \"text-align: right;\">0.61157</td><td style = \"text-align: right;\">0.640496</td><td style = \"text-align: right;\">0.657025</td><td style = \"text-align: right;\">0.636364</td><td style = \"text-align: right;\">0.64876</td><td style = \"text-align: right;\">0.690083</td><td style = \"text-align: right;\">0.669422</td><td style = \"text-align: right;\">0.665289</td><td style = \"text-align: right;\">0.710744</td><td style = \"text-align: right;\">0.710744</td><td style = \"text-align: right;\">0.719008</td><td style = \"text-align: right;\">0.694215</td><td style = \"text-align: right;\">0.677686</td><td style = \"text-align: right;\">0.731405</td><td style = \"text-align: right;\">0.756198</td><td style = \"text-align: right;\">0.77686</td><td style = \"text-align: right;\">0.789256</td><td style = \"text-align: right;\">0.789256</td><td style = \"text-align: right;\">0.793388</td><td style = \"text-align: right;\">0.809917</td><td style = \"text-align: right;\">0.81405</td><td style = \"text-align: right;\">0.818182</td><td style = \"text-align: right;\">0.822314</td><td style = \"text-align: right;\">0.822314</td><td style = \"text-align: right;\">0.818182</td><td style = \"text-align: right;\">0.81405</td><td style = \"text-align: right;\">0.801653</td><td style = \"text-align: right;\">0.797521</td><td style = \"text-align: right;\">0.801653</td><td style = \"text-align: right;\">0.801653</td><td style = \"text-align: right;\">0.805785</td><td style = \"text-align: right;\">0.818182</td><td style = \"text-align: right;\">0.818182</td><td style = \"text-align: right;\">0.809917</td><td style = \"text-align: right;\">0.805785</td><td style = \"text-align: right;\">0.797521</td><td style = \"text-align: right;\">0.793388</td><td style = \"text-align: right;\">0.789256</td><td style = \"text-align: right;\">0.77686</td><td style = \"text-align: right;\">0.772727</td><td style = \"text-align: right;\">0.772727</td><td style = \"text-align: right;\">0.772727</td><td style = \"text-align: right;\">0.785124</td><td style = \"text-align: right;\">0.789256</td><td style = \"text-align: right;\">0.789256</td><td style = \"text-align: right;\">0.780992</td><td style = \"text-align: right;\">0.772727</td><td style = \"text-align: right;\">0.756198</td><td style = \"text-align: right;\">0.747934</td><td style = \"text-align: right;\">0.719008</td><td style = \"text-align: right;\">0.673554</td><td style = \"text-align: right;\">0.615702</td><td style = \"text-align: right;\">0.61157</td><td style = \"text-align: right;\">0.586777</td><td style = \"text-align: right;\">0.566116</td><td style = \"text-align: right;\">0.545455</td><td style = \"text-align: right;\">0.5</td><td style = \"text-align: right;\">0.508265</td><td style = \"text-align: right;\">0.471074</td><td style = \"text-align: right;\">0.363636</td><td style = \"text-align: right;\">0.330578</td><td style = \"text-align: right;\">0.235537</td><td style = \"text-align: right;\">0.206612</td><td style = \"text-align: right;\">0.545455</td><td style = \"text-align: right;\">0.619835</td><td style = \"text-align: right;\">0.628099</td><td style = \"text-align: right;\">0.669422</td><td style = \"text-align: right;\">0.657025</td><td style = \"text-align: right;\">0.644628</td><td style = \"text-align: right;\">0.669422</td><td style = \"text-align: right;\">0.677686</td><td style = \"text-align: right;\">0.690083</td><td style = \"text-align: right;\">0.72314</td><td style = \"text-align: right;\">0.731405</td><td style = \"text-align: right;\">0.739669</td><td style = \"text-align: right;\">0.719008</td><td style = \"text-align: right;\">0.719008</td><td style = \"text-align: right;\">0.768595</td><td style = \"text-align: right;\">0.772727</td><td style = \"text-align: right;\">0.785124</td><td style = \"text-align: right;\">0.801653</td><td style = \"text-align: right;\">0.809917</td><td style = \"text-align: right;\">0.809917</td><td style = \"text-align: right;\">0.822314</td><td style = \"text-align: right;\">0.822314</td><td style = \"text-align: right;\">0.822314</td><td style = \"text-align: right;\">0.826446</td><td style = \"text-align: right;\">0.826446</td><td style = \"text-align: right;\">0.822314</td><td style = \"text-align: right;\">0.81405</td><td style = \"text-align: right;\">0.805785</td><td style = \"text-align: right;\">0.805785</td><td style = \"text-align: right;\">0.809917</td><td style = \"text-align: right;\">0.809917</td><td style = \"text-align: right;\">0.805785</td><td style = \"text-align: right;\">0.801653</td><td style = \"text-align: right;\">0.801653</td><td style = \"text-align: right;\">0.801653</td><td style = \"text-align: right;\">0.801653</td><td>&ctdot;</td></tr><tr class = \"dataRow\"><td class = \"rowLabel\" style = \"font-weight: bold; text-align: right;\">392</td><td style = \"text-align: right;\">0.334711</td><td style = \"text-align: right;\">0.404959</td><td style = \"text-align: right;\">0.475207</td><td style = \"text-align: right;\">0.53719</td><td style = \"text-align: right;\">0.561983</td><td style = \"text-align: right;\">0.553719</td><td style = \"text-align: right;\">0.586777</td><td style = \"text-align: right;\">0.623967</td><td style = \"text-align: right;\">0.669422</td><td style = \"text-align: right;\">0.690083</td><td style = \"text-align: right;\">0.690083</td><td style = \"text-align: right;\">0.690083</td><td style = \"text-align: right;\">0.719008</td><td style = \"text-align: right;\">0.72314</td><td style = \"text-align: right;\">0.747934</td><td style = \"text-align: right;\">0.768595</td><td style = \"text-align: right;\">0.780992</td><td style = \"text-align: right;\">0.789256</td><td style = \"text-align: right;\">0.805785</td><td style = \"text-align: right;\">0.818182</td><td style = \"text-align: right;\">0.822314</td><td style = \"text-align: right;\">0.830578</td><td style = \"text-align: right;\">0.834711</td><td style = \"text-align: right;\">0.830578</td><td style = \"text-align: right;\">0.834711</td><td style = \"text-align: right;\">0.830578</td><td style = \"text-align: right;\">0.834711</td><td style = \"text-align: right;\">0.838843</td><td style = \"text-align: right;\">0.834711</td><td style = \"text-align: right;\">0.834711</td><td style = \"text-align: right;\">0.834711</td><td style = \"text-align: right;\">0.834711</td><td style = \"text-align: right;\">0.830578</td><td style = \"text-align: right;\">0.834711</td><td style = \"text-align: right;\">0.834711</td><td style = \"text-align: right;\">0.834711</td><td style = \"text-align: right;\">0.834711</td><td style = \"text-align: right;\">0.830578</td><td style = \"text-align: right;\">0.830578</td><td style = \"text-align: right;\">0.834711</td><td style = \"text-align: right;\">0.830578</td><td style = \"text-align: right;\">0.830578</td><td style = \"text-align: right;\">0.830578</td><td style = \"text-align: right;\">0.826446</td><td style = \"text-align: right;\">0.826446</td><td style = \"text-align: right;\">0.822314</td><td style = \"text-align: right;\">0.809917</td><td style = \"text-align: right;\">0.809917</td><td style = \"text-align: right;\">0.801653</td><td style = \"text-align: right;\">0.789256</td><td style = \"text-align: right;\">0.768595</td><td style = \"text-align: right;\">0.768595</td><td style = \"text-align: right;\">0.768595</td><td style = \"text-align: right;\">0.756198</td><td style = \"text-align: right;\">0.756198</td><td style = \"text-align: right;\">0.694215</td><td style = \"text-align: right;\">0.632231</td><td style = \"text-align: right;\">0.603306</td><td style = \"text-align: right;\">0.599174</td><td style = \"text-align: right;\">0.578512</td><td style = \"text-align: right;\">0.549587</td><td style = \"text-align: right;\">0.495868</td><td style = \"text-align: right;\">0.417355</td><td style = \"text-align: right;\">0.326446</td><td style = \"text-align: right;\">0.334711</td><td style = \"text-align: right;\">0.396694</td><td style = \"text-align: right;\">0.475207</td><td style = \"text-align: right;\">0.53719</td><td style = \"text-align: right;\">0.566116</td><td style = \"text-align: right;\">0.561983</td><td style = \"text-align: right;\">0.586777</td><td style = \"text-align: right;\">0.619835</td><td style = \"text-align: right;\">0.673554</td><td style = \"text-align: right;\">0.694215</td><td style = \"text-align: right;\">0.706612</td><td style = \"text-align: right;\">0.714876</td><td style = \"text-align: right;\">0.735537</td><td style = \"text-align: right;\">0.739669</td><td style = \"text-align: right;\">0.756198</td><td style = \"text-align: right;\">0.772727</td><td style = \"text-align: right;\">0.789256</td><td style = \"text-align: right;\">0.801653</td><td style = \"text-align: right;\">0.809917</td><td style = \"text-align: right;\">0.822314</td><td style = \"text-align: right;\">0.822314</td><td style = \"text-align: right;\">0.830578</td><td style = \"text-align: right;\">0.834711</td><td style = \"text-align: right;\">0.830578</td><td style = \"text-align: right;\">0.830578</td><td style = \"text-align: right;\">0.830578</td><td style = \"text-align: right;\">0.830578</td><td style = \"text-align: right;\">0.834711</td><td style = \"text-align: right;\">0.838843</td><td style = \"text-align: right;\">0.834711</td><td style = \"text-align: right;\">0.826446</td><td style = \"text-align: right;\">0.834711</td><td style = \"text-align: right;\">0.830578</td><td style = \"text-align: right;\">0.830578</td><td style = \"text-align: right;\">0.830578</td><td style = \"text-align: right;\">0.834711</td><td>&ctdot;</td></tr><tr class = \"dataRow\"><td class = \"rowLabel\" style = \"font-weight: bold; text-align: right;\">393</td><td style = \"text-align: right;\">0.454545</td><td style = \"text-align: right;\">0.495868</td><td style = \"text-align: right;\">0.545455</td><td style = \"text-align: right;\">0.595041</td><td style = \"text-align: right;\">0.619835</td><td style = \"text-align: right;\">0.599174</td><td style = \"text-align: right;\">0.599174</td><td style = \"text-align: right;\">0.632231</td><td style = \"text-align: right;\">0.665289</td><td style = \"text-align: right;\">0.698347</td><td style = \"text-align: right;\">0.72314</td><td style = \"text-align: right;\">0.735537</td><td style = \"text-align: right;\">0.739669</td><td style = \"text-align: right;\">0.756198</td><td style = \"text-align: right;\">0.760331</td><td style = \"text-align: right;\">0.764463</td><td style = \"text-align: right;\">0.780992</td><td style = \"text-align: right;\">0.785124</td><td style = \"text-align: right;\">0.797521</td><td style = \"text-align: right;\">0.81405</td><td style = \"text-align: right;\">0.81405</td><td style = \"text-align: right;\">0.826446</td><td style = \"text-align: right;\">0.834711</td><td style = \"text-align: right;\">0.830578</td><td style = \"text-align: right;\">0.834711</td><td style = \"text-align: right;\">0.834711</td><td style = \"text-align: right;\">0.834711</td><td style = \"text-align: right;\">0.834711</td><td style = \"text-align: right;\">0.830578</td><td style = \"text-align: right;\">0.838843</td><td style = \"text-align: right;\">0.838843</td><td style = \"text-align: right;\">0.834711</td><td style = \"text-align: right;\">0.830578</td><td style = \"text-align: right;\">0.830578</td><td style = \"text-align: right;\">0.834711</td><td style = \"text-align: right;\">0.834711</td><td style = \"text-align: right;\">0.834711</td><td style = \"text-align: right;\">0.834711</td><td style = \"text-align: right;\">0.830578</td><td style = \"text-align: right;\">0.834711</td><td style = \"text-align: right;\">0.834711</td><td style = \"text-align: right;\">0.818182</td><td style = \"text-align: right;\">0.830578</td><td style = \"text-align: right;\">0.822314</td><td style = \"text-align: right;\">0.826446</td><td style = \"text-align: right;\">0.822314</td><td style = \"text-align: right;\">0.818182</td><td style = \"text-align: right;\">0.809917</td><td style = \"text-align: right;\">0.801653</td><td style = \"text-align: right;\">0.793388</td><td style = \"text-align: right;\">0.772727</td><td style = \"text-align: right;\">0.739669</td><td style = \"text-align: right;\">0.731405</td><td style = \"text-align: right;\">0.727273</td><td style = \"text-align: right;\">0.702479</td><td style = \"text-align: right;\">0.652893</td><td style = \"text-align: right;\">0.590909</td><td style = \"text-align: right;\">0.561983</td><td style = \"text-align: right;\">0.533058</td><td style = \"text-align: right;\">0.471074</td><td style = \"text-align: right;\">0.371901</td><td style = \"text-align: right;\">0.305785</td><td style = \"text-align: right;\">0.247934</td><td style = \"text-align: right;\">0.214876</td><td style = \"text-align: right;\">0.450413</td><td style = \"text-align: right;\">0.495868</td><td style = \"text-align: right;\">0.553719</td><td style = \"text-align: right;\">0.599174</td><td style = \"text-align: right;\">0.619835</td><td style = \"text-align: right;\">0.590909</td><td style = \"text-align: right;\">0.595041</td><td style = \"text-align: right;\">0.632231</td><td style = \"text-align: right;\">0.665289</td><td style = \"text-align: right;\">0.702479</td><td style = \"text-align: right;\">0.727273</td><td style = \"text-align: right;\">0.739669</td><td style = \"text-align: right;\">0.752066</td><td style = \"text-align: right;\">0.764463</td><td style = \"text-align: right;\">0.772727</td><td style = \"text-align: right;\">0.768595</td><td style = \"text-align: right;\">0.785124</td><td style = \"text-align: right;\">0.793388</td><td style = \"text-align: right;\">0.805785</td><td style = \"text-align: right;\">0.81405</td><td style = \"text-align: right;\">0.826446</td><td style = \"text-align: right;\">0.818182</td><td style = \"text-align: right;\">0.834711</td><td style = \"text-align: right;\">0.830578</td><td style = \"text-align: right;\">0.834711</td><td style = \"text-align: right;\">0.834711</td><td style = \"text-align: right;\">0.834711</td><td style = \"text-align: right;\">0.830578</td><td style = \"text-align: right;\">0.830578</td><td style = \"text-align: right;\">0.834711</td><td style = \"text-align: right;\">0.834711</td><td style = \"text-align: right;\">0.834711</td><td style = \"text-align: right;\">0.830578</td><td style = \"text-align: right;\">0.834711</td><td style = \"text-align: right;\">0.838843</td><td style = \"text-align: right;\">0.834711</td><td>&ctdot;</td></tr><tr class = \"dataRow\"><td class = \"rowLabel\" style = \"font-weight: bold; text-align: right;\">394</td><td style = \"text-align: right;\">0.516529</td><td style = \"text-align: right;\">0.458678</td><td style = \"text-align: right;\">0.297521</td><td style = \"text-align: right;\">0.272727</td><td style = \"text-align: right;\">0.206612</td><td style = \"text-align: right;\">0.376033</td><td style = \"text-align: right;\">0.566116</td><td style = \"text-align: right;\">0.644628</td><td style = \"text-align: right;\">0.632231</td><td style = \"text-align: right;\">0.640496</td><td style = \"text-align: right;\">0.698347</td><td style = \"text-align: right;\">0.731405</td><td style = \"text-align: right;\">0.743802</td><td style = \"text-align: right;\">0.752066</td><td style = \"text-align: right;\">0.760331</td><td style = \"text-align: right;\">0.785124</td><td style = \"text-align: right;\">0.793388</td><td style = \"text-align: right;\">0.797521</td><td style = \"text-align: right;\">0.805785</td><td style = \"text-align: right;\">0.81405</td><td style = \"text-align: right;\">0.818182</td><td style = \"text-align: right;\">0.822314</td><td style = \"text-align: right;\">0.830578</td><td style = \"text-align: right;\">0.826446</td><td style = \"text-align: right;\">0.826446</td><td style = \"text-align: right;\">0.826446</td><td style = \"text-align: right;\">0.826446</td><td style = \"text-align: right;\">0.826446</td><td style = \"text-align: right;\">0.826446</td><td style = \"text-align: right;\">0.826446</td><td style = \"text-align: right;\">0.826446</td><td style = \"text-align: right;\">0.826446</td><td style = \"text-align: right;\">0.826446</td><td style = \"text-align: right;\">0.830578</td><td style = \"text-align: right;\">0.834711</td><td style = \"text-align: right;\">0.830578</td><td style = \"text-align: right;\">0.830578</td><td style = \"text-align: right;\">0.834711</td><td style = \"text-align: right;\">0.830578</td><td style = \"text-align: right;\">0.826446</td><td style = \"text-align: right;\">0.826446</td><td style = \"text-align: right;\">0.822314</td><td style = \"text-align: right;\">0.822314</td><td style = \"text-align: right;\">0.81405</td><td style = \"text-align: right;\">0.809917</td><td style = \"text-align: right;\">0.809917</td><td style = \"text-align: right;\">0.801653</td><td style = \"text-align: right;\">0.793388</td><td style = \"text-align: right;\">0.780992</td><td style = \"text-align: right;\">0.768595</td><td style = \"text-align: right;\">0.764463</td><td style = \"text-align: right;\">0.768595</td><td style = \"text-align: right;\">0.756198</td><td style = \"text-align: right;\">0.747934</td><td style = \"text-align: right;\">0.731405</td><td style = \"text-align: right;\">0.727273</td><td style = \"text-align: right;\">0.702479</td><td style = \"text-align: right;\">0.677686</td><td style = \"text-align: right;\">0.64876</td><td style = \"text-align: right;\">0.619835</td><td style = \"text-align: right;\">0.623967</td><td style = \"text-align: right;\">0.595041</td><td style = \"text-align: right;\">0.599174</td><td style = \"text-align: right;\">0.586777</td><td style = \"text-align: right;\">0.512397</td><td style = \"text-align: right;\">0.483471</td><td style = \"text-align: right;\">0.31405</td><td style = \"text-align: right;\">0.280992</td><td style = \"text-align: right;\">0.219008</td><td style = \"text-align: right;\">0.392562</td><td style = \"text-align: right;\">0.586777</td><td style = \"text-align: right;\">0.644628</td><td style = \"text-align: right;\">0.661157</td><td style = \"text-align: right;\">0.677686</td><td style = \"text-align: right;\">0.714876</td><td style = \"text-align: right;\">0.739669</td><td style = \"text-align: right;\">0.760331</td><td style = \"text-align: right;\">0.772727</td><td style = \"text-align: right;\">0.780992</td><td style = \"text-align: right;\">0.793388</td><td style = \"text-align: right;\">0.805785</td><td style = \"text-align: right;\">0.809917</td><td style = \"text-align: right;\">0.81405</td><td style = \"text-align: right;\">0.818182</td><td style = \"text-align: right;\">0.818182</td><td style = \"text-align: right;\">0.822314</td><td style = \"text-align: right;\">0.830578</td><td style = \"text-align: right;\">0.830578</td><td style = \"text-align: right;\">0.822314</td><td style = \"text-align: right;\">0.809917</td><td style = \"text-align: right;\">0.809917</td><td style = \"text-align: right;\">0.81405</td><td style = \"text-align: right;\">0.818182</td><td style = \"text-align: right;\">0.822314</td><td style = \"text-align: right;\">0.818182</td><td style = \"text-align: right;\">0.818182</td><td style = \"text-align: right;\">0.822314</td><td style = \"text-align: right;\">0.830578</td><td style = \"text-align: right;\">0.830578</td><td style = \"text-align: right;\">0.830578</td><td>&ctdot;</td></tr><tr class = \"dataRow\"><td class = \"rowLabel\" style = \"font-weight: bold; text-align: right;\">395</td><td style = \"text-align: right;\">0.289256</td><td style = \"text-align: right;\">0.338843</td><td style = \"text-align: right;\">0.417355</td><td style = \"text-align: right;\">0.504132</td><td style = \"text-align: right;\">0.553719</td><td style = \"text-align: right;\">0.561983</td><td style = \"text-align: right;\">0.582645</td><td style = \"text-align: right;\">0.628099</td><td style = \"text-align: right;\">0.669422</td><td style = \"text-align: right;\">0.690083</td><td style = \"text-align: right;\">0.702479</td><td style = \"text-align: right;\">0.698347</td><td style = \"text-align: right;\">0.727273</td><td style = \"text-align: right;\">0.731405</td><td style = \"text-align: right;\">0.752066</td><td style = \"text-align: right;\">0.77686</td><td style = \"text-align: right;\">0.793388</td><td style = \"text-align: right;\">0.801653</td><td style = \"text-align: right;\">0.818182</td><td style = \"text-align: right;\">0.830578</td><td style = \"text-align: right;\">0.830578</td><td style = \"text-align: right;\">0.834711</td><td style = \"text-align: right;\">0.834711</td><td style = \"text-align: right;\">0.834711</td><td style = \"text-align: right;\">0.830578</td><td style = \"text-align: right;\">0.838843</td><td style = \"text-align: right;\">0.834711</td><td style = \"text-align: right;\">0.838843</td><td style = \"text-align: right;\">0.838843</td><td style = \"text-align: right;\">0.838843</td><td style = \"text-align: right;\">0.834711</td><td style = \"text-align: right;\">0.838843</td><td style = \"text-align: right;\">0.838843</td><td style = \"text-align: right;\">0.838843</td><td style = \"text-align: right;\">0.838843</td><td style = \"text-align: right;\">0.834711</td><td style = \"text-align: right;\">0.834711</td><td style = \"text-align: right;\">0.830578</td><td style = \"text-align: right;\">0.834711</td><td style = \"text-align: right;\">0.830578</td><td style = \"text-align: right;\">0.830578</td><td style = \"text-align: right;\">0.830578</td><td style = \"text-align: right;\">0.834711</td><td style = \"text-align: right;\">0.830578</td><td style = \"text-align: right;\">0.826446</td><td style = \"text-align: right;\">0.822314</td><td style = \"text-align: right;\">0.81405</td><td style = \"text-align: right;\">0.809917</td><td style = \"text-align: right;\">0.797521</td><td style = \"text-align: right;\">0.77686</td><td style = \"text-align: right;\">0.760331</td><td style = \"text-align: right;\">0.764463</td><td style = \"text-align: right;\">0.764463</td><td style = \"text-align: right;\">0.756198</td><td style = \"text-align: right;\">0.735537</td><td style = \"text-align: right;\">0.702479</td><td style = \"text-align: right;\">0.657025</td><td style = \"text-align: right;\">0.628099</td><td style = \"text-align: right;\">0.603306</td><td style = \"text-align: right;\">0.599174</td><td style = \"text-align: right;\">0.607438</td><td style = \"text-align: right;\">0.586777</td><td style = \"text-align: right;\">0.561983</td><td style = \"text-align: right;\">0.491736</td><td style = \"text-align: right;\">0.293388</td><td style = \"text-align: right;\">0.338843</td><td style = \"text-align: right;\">0.421488</td><td style = \"text-align: right;\">0.5</td><td style = \"text-align: right;\">0.553719</td><td style = \"text-align: right;\">0.561983</td><td style = \"text-align: right;\">0.582645</td><td style = \"text-align: right;\">0.632231</td><td style = \"text-align: right;\">0.669422</td><td style = \"text-align: right;\">0.690083</td><td style = \"text-align: right;\">0.714876</td><td style = \"text-align: right;\">0.714876</td><td style = \"text-align: right;\">0.743802</td><td style = \"text-align: right;\">0.743802</td><td style = \"text-align: right;\">0.764463</td><td style = \"text-align: right;\">0.77686</td><td style = \"text-align: right;\">0.801653</td><td style = \"text-align: right;\">0.809917</td><td style = \"text-align: right;\">0.826446</td><td style = \"text-align: right;\">0.830578</td><td style = \"text-align: right;\">0.830578</td><td style = \"text-align: right;\">0.834711</td><td style = \"text-align: right;\">0.838843</td><td style = \"text-align: right;\">0.830578</td><td style = \"text-align: right;\">0.830578</td><td style = \"text-align: right;\">0.834711</td><td style = \"text-align: right;\">0.838843</td><td style = \"text-align: right;\">0.838843</td><td style = \"text-align: right;\">0.838843</td><td style = \"text-align: right;\">0.838843</td><td style = \"text-align: right;\">0.834711</td><td style = \"text-align: right;\">0.834711</td><td style = \"text-align: right;\">0.838843</td><td style = \"text-align: right;\">0.834711</td><td style = \"text-align: right;\">0.834711</td><td style = \"text-align: right;\">0.834711</td><td>&ctdot;</td></tr><tr class = \"dataRow\"><td class = \"rowLabel\" style = \"font-weight: bold; text-align: right;\">396</td><td style = \"text-align: right;\">0.400826</td><td style = \"text-align: right;\">0.495868</td><td style = \"text-align: right;\">0.570248</td><td style = \"text-align: right;\">0.632231</td><td style = \"text-align: right;\">0.64876</td><td style = \"text-align: right;\">0.640496</td><td style = \"text-align: right;\">0.661157</td><td style = \"text-align: right;\">0.636364</td><td style = \"text-align: right;\">0.665289</td><td style = \"text-align: right;\">0.698347</td><td style = \"text-align: right;\">0.702479</td><td style = \"text-align: right;\">0.657025</td><td style = \"text-align: right;\">0.665289</td><td style = \"text-align: right;\">0.731405</td><td style = \"text-align: right;\">0.747934</td><td style = \"text-align: right;\">0.768595</td><td style = \"text-align: right;\">0.768595</td><td style = \"text-align: right;\">0.768595</td><td style = \"text-align: right;\">0.780992</td><td style = \"text-align: right;\">0.809917</td><td style = \"text-align: right;\">0.809917</td><td style = \"text-align: right;\">0.81405</td><td style = \"text-align: right;\">0.818182</td><td style = \"text-align: right;\">0.81405</td><td style = \"text-align: right;\">0.809917</td><td style = \"text-align: right;\">0.818182</td><td style = \"text-align: right;\">0.805785</td><td style = \"text-align: right;\">0.809917</td><td style = \"text-align: right;\">0.805785</td><td style = \"text-align: right;\">0.822314</td><td style = \"text-align: right;\">0.81405</td><td style = \"text-align: right;\">0.818182</td><td style = \"text-align: right;\">0.81405</td><td style = \"text-align: right;\">0.805785</td><td style = \"text-align: right;\">0.797521</td><td style = \"text-align: right;\">0.793388</td><td style = \"text-align: right;\">0.789256</td><td style = \"text-align: right;\">0.780992</td><td style = \"text-align: right;\">0.785124</td><td style = \"text-align: right;\">0.772727</td><td style = \"text-align: right;\">0.789256</td><td style = \"text-align: right;\">0.797521</td><td style = \"text-align: right;\">0.801653</td><td style = \"text-align: right;\">0.801653</td><td style = \"text-align: right;\">0.797521</td><td style = \"text-align: right;\">0.789256</td><td style = \"text-align: right;\">0.789256</td><td style = \"text-align: right;\">0.77686</td><td style = \"text-align: right;\">0.764463</td><td style = \"text-align: right;\">0.727273</td><td style = \"text-align: right;\">0.644628</td><td style = \"text-align: right;\">0.665289</td><td style = \"text-align: right;\">0.640496</td><td style = \"text-align: right;\">0.619835</td><td style = \"text-align: right;\">0.595041</td><td style = \"text-align: right;\">0.557851</td><td style = \"text-align: right;\">0.541322</td><td style = \"text-align: right;\">0.549587</td><td style = \"text-align: right;\">0.533058</td><td style = \"text-align: right;\">0.495868</td><td style = \"text-align: right;\">0.454545</td><td style = \"text-align: right;\">0.347107</td><td style = \"text-align: right;\">0.297521</td><td style = \"text-align: right;\">0.210744</td><td style = \"text-align: right;\">0.421488</td><td style = \"text-align: right;\">0.479339</td><td style = \"text-align: right;\">0.570248</td><td style = \"text-align: right;\">0.619835</td><td style = \"text-align: right;\">0.64876</td><td style = \"text-align: right;\">0.652893</td><td style = \"text-align: right;\">0.657025</td><td style = \"text-align: right;\">0.665289</td><td style = \"text-align: right;\">0.694215</td><td style = \"text-align: right;\">0.719008</td><td style = \"text-align: right;\">0.719008</td><td style = \"text-align: right;\">0.681818</td><td style = \"text-align: right;\">0.710744</td><td style = \"text-align: right;\">0.772727</td><td style = \"text-align: right;\">0.764463</td><td style = \"text-align: right;\">0.780992</td><td style = \"text-align: right;\">0.793388</td><td style = \"text-align: right;\">0.797521</td><td style = \"text-align: right;\">0.801653</td><td style = \"text-align: right;\">0.809917</td><td style = \"text-align: right;\">0.818182</td><td style = \"text-align: right;\">0.822314</td><td style = \"text-align: right;\">0.818182</td><td style = \"text-align: right;\">0.822314</td><td style = \"text-align: right;\">0.81405</td><td style = \"text-align: right;\">0.809917</td><td style = \"text-align: right;\">0.818182</td><td style = \"text-align: right;\">0.805785</td><td style = \"text-align: right;\">0.81405</td><td style = \"text-align: right;\">0.805785</td><td style = \"text-align: right;\">0.797521</td><td style = \"text-align: right;\">0.801653</td><td style = \"text-align: right;\">0.805785</td><td style = \"text-align: right;\">0.801653</td><td style = \"text-align: right;\">0.793388</td><td style = \"text-align: right;\">0.793388</td><td>&ctdot;</td></tr><tr class = \"dataRow\"><td class = \"rowLabel\" style = \"font-weight: bold; text-align: right;\">397</td><td style = \"text-align: right;\">0.367769</td><td style = \"text-align: right;\">0.367769</td><td style = \"text-align: right;\">0.35124</td><td style = \"text-align: right;\">0.301653</td><td style = \"text-align: right;\">0.247934</td><td style = \"text-align: right;\">0.247934</td><td style = \"text-align: right;\">0.367769</td><td style = \"text-align: right;\">0.512397</td><td style = \"text-align: right;\">0.57438</td><td style = \"text-align: right;\">0.628099</td><td style = \"text-align: right;\">0.652893</td><td style = \"text-align: right;\">0.669422</td><td style = \"text-align: right;\">0.698347</td><td style = \"text-align: right;\">0.731405</td><td style = \"text-align: right;\">0.760331</td><td style = \"text-align: right;\">0.768595</td><td style = \"text-align: right;\">0.797521</td><td style = \"text-align: right;\">0.801653</td><td style = \"text-align: right;\">0.801653</td><td style = \"text-align: right;\">0.805785</td><td style = \"text-align: right;\">0.809917</td><td style = \"text-align: right;\">0.81405</td><td style = \"text-align: right;\">0.818182</td><td style = \"text-align: right;\">0.826446</td><td style = \"text-align: right;\">0.826446</td><td style = \"text-align: right;\">0.822314</td><td style = \"text-align: right;\">0.826446</td><td style = \"text-align: right;\">0.826446</td><td style = \"text-align: right;\">0.826446</td><td style = \"text-align: right;\">0.822314</td><td style = \"text-align: right;\">0.826446</td><td style = \"text-align: right;\">0.830578</td><td style = \"text-align: right;\">0.826446</td><td style = \"text-align: right;\">0.826446</td><td style = \"text-align: right;\">0.822314</td><td style = \"text-align: right;\">0.830578</td><td style = \"text-align: right;\">0.826446</td><td style = \"text-align: right;\">0.834711</td><td style = \"text-align: right;\">0.834711</td><td style = \"text-align: right;\">0.830578</td><td style = \"text-align: right;\">0.830578</td><td style = \"text-align: right;\">0.830578</td><td style = \"text-align: right;\">0.822314</td><td style = \"text-align: right;\">0.830578</td><td style = \"text-align: right;\">0.826446</td><td style = \"text-align: right;\">0.830578</td><td style = \"text-align: right;\">0.826446</td><td style = \"text-align: right;\">0.818182</td><td style = \"text-align: right;\">0.81405</td><td style = \"text-align: right;\">0.809917</td><td style = \"text-align: right;\">0.801653</td><td style = \"text-align: right;\">0.801653</td><td style = \"text-align: right;\">0.797521</td><td style = \"text-align: right;\">0.793388</td><td style = \"text-align: right;\">0.797521</td><td style = \"text-align: right;\">0.789256</td><td style = \"text-align: right;\">0.760331</td><td style = \"text-align: right;\">0.72314</td><td style = \"text-align: right;\">0.706612</td><td style = \"text-align: right;\">0.690083</td><td style = \"text-align: right;\">0.694215</td><td style = \"text-align: right;\">0.694215</td><td style = \"text-align: right;\">0.677686</td><td style = \"text-align: right;\">0.669422</td><td style = \"text-align: right;\">0.363636</td><td style = \"text-align: right;\">0.371901</td><td style = \"text-align: right;\">0.355372</td><td style = \"text-align: right;\">0.293388</td><td style = \"text-align: right;\">0.256198</td><td style = \"text-align: right;\">0.264463</td><td style = \"text-align: right;\">0.380165</td><td style = \"text-align: right;\">0.516529</td><td style = \"text-align: right;\">0.595041</td><td style = \"text-align: right;\">0.640496</td><td style = \"text-align: right;\">0.665289</td><td style = \"text-align: right;\">0.690083</td><td style = \"text-align: right;\">0.710744</td><td style = \"text-align: right;\">0.735537</td><td style = \"text-align: right;\">0.764463</td><td style = \"text-align: right;\">0.77686</td><td style = \"text-align: right;\">0.801653</td><td style = \"text-align: right;\">0.801653</td><td style = \"text-align: right;\">0.797521</td><td style = \"text-align: right;\">0.809917</td><td style = \"text-align: right;\">0.81405</td><td style = \"text-align: right;\">0.809917</td><td style = \"text-align: right;\">0.81405</td><td style = \"text-align: right;\">0.830578</td><td style = \"text-align: right;\">0.826446</td><td style = \"text-align: right;\">0.826446</td><td style = \"text-align: right;\">0.826446</td><td style = \"text-align: right;\">0.822314</td><td style = \"text-align: right;\">0.822314</td><td style = \"text-align: right;\">0.826446</td><td style = \"text-align: right;\">0.822314</td><td style = \"text-align: right;\">0.826446</td><td style = \"text-align: right;\">0.822314</td><td style = \"text-align: right;\">0.826446</td><td style = \"text-align: right;\">0.822314</td><td style = \"text-align: right;\">0.830578</td><td>&ctdot;</td></tr><tr class = \"dataRow\"><td class = \"rowLabel\" style = \"font-weight: bold; text-align: right;\">398</td><td style = \"text-align: right;\">0.5</td><td style = \"text-align: right;\">0.533058</td><td style = \"text-align: right;\">0.607438</td><td style = \"text-align: right;\">0.628099</td><td style = \"text-align: right;\">0.657025</td><td style = \"text-align: right;\">0.632231</td><td style = \"text-align: right;\">0.657025</td><td style = \"text-align: right;\">0.669422</td><td style = \"text-align: right;\">0.673554</td><td style = \"text-align: right;\">0.702479</td><td style = \"text-align: right;\">0.719008</td><td style = \"text-align: right;\">0.735537</td><td style = \"text-align: right;\">0.702479</td><td style = \"text-align: right;\">0.698347</td><td style = \"text-align: right;\">0.752066</td><td style = \"text-align: right;\">0.768595</td><td style = \"text-align: right;\">0.785124</td><td style = \"text-align: right;\">0.793388</td><td style = \"text-align: right;\">0.801653</td><td style = \"text-align: right;\">0.805785</td><td style = \"text-align: right;\">0.81405</td><td style = \"text-align: right;\">0.822314</td><td style = \"text-align: right;\">0.822314</td><td style = \"text-align: right;\">0.822314</td><td style = \"text-align: right;\">0.826446</td><td style = \"text-align: right;\">0.81405</td><td style = \"text-align: right;\">0.81405</td><td style = \"text-align: right;\">0.801653</td><td style = \"text-align: right;\">0.805785</td><td style = \"text-align: right;\">0.805785</td><td style = \"text-align: right;\">0.805785</td><td style = \"text-align: right;\">0.805785</td><td style = \"text-align: right;\">0.809917</td><td style = \"text-align: right;\">0.809917</td><td style = \"text-align: right;\">0.801653</td><td style = \"text-align: right;\">0.805785</td><td style = \"text-align: right;\">0.789256</td><td style = \"text-align: right;\">0.789256</td><td style = \"text-align: right;\">0.789256</td><td style = \"text-align: right;\">0.785124</td><td style = \"text-align: right;\">0.780992</td><td style = \"text-align: right;\">0.772727</td><td style = \"text-align: right;\">0.793388</td><td style = \"text-align: right;\">0.797521</td><td style = \"text-align: right;\">0.797521</td><td style = \"text-align: right;\">0.793388</td><td style = \"text-align: right;\">0.793388</td><td style = \"text-align: right;\">0.780992</td><td style = \"text-align: right;\">0.764463</td><td style = \"text-align: right;\">0.743802</td><td style = \"text-align: right;\">0.727273</td><td style = \"text-align: right;\">0.64876</td><td style = \"text-align: right;\">0.623967</td><td style = \"text-align: right;\">0.623967</td><td style = \"text-align: right;\">0.603306</td><td style = \"text-align: right;\">0.57438</td><td style = \"text-align: right;\">0.545455</td><td style = \"text-align: right;\">0.516529</td><td style = \"text-align: right;\">0.504132</td><td style = \"text-align: right;\">0.46281</td><td style = \"text-align: right;\">0.371901</td><td style = \"text-align: right;\">0.285124</td><td style = \"text-align: right;\">0.239669</td><td style = \"text-align: right;\">0.214876</td><td style = \"text-align: right;\">0.491736</td><td style = \"text-align: right;\">0.541322</td><td style = \"text-align: right;\">0.603306</td><td style = \"text-align: right;\">0.644628</td><td style = \"text-align: right;\">0.657025</td><td style = \"text-align: right;\">0.636364</td><td style = \"text-align: right;\">0.661157</td><td style = \"text-align: right;\">0.669422</td><td style = \"text-align: right;\">0.698347</td><td style = \"text-align: right;\">0.72314</td><td style = \"text-align: right;\">0.739669</td><td style = \"text-align: right;\">0.752066</td><td style = \"text-align: right;\">0.743802</td><td style = \"text-align: right;\">0.747934</td><td style = \"text-align: right;\">0.764463</td><td style = \"text-align: right;\">0.772727</td><td style = \"text-align: right;\">0.789256</td><td style = \"text-align: right;\">0.797521</td><td style = \"text-align: right;\">0.805785</td><td style = \"text-align: right;\">0.818182</td><td style = \"text-align: right;\">0.818182</td><td style = \"text-align: right;\">0.830578</td><td style = \"text-align: right;\">0.818182</td><td style = \"text-align: right;\">0.818182</td><td style = \"text-align: right;\">0.826446</td><td style = \"text-align: right;\">0.818182</td><td style = \"text-align: right;\">0.809917</td><td style = \"text-align: right;\">0.801653</td><td style = \"text-align: right;\">0.805785</td><td style = \"text-align: right;\">0.809917</td><td style = \"text-align: right;\">0.805785</td><td style = \"text-align: right;\">0.801653</td><td style = \"text-align: right;\">0.780992</td><td style = \"text-align: right;\">0.789256</td><td style = \"text-align: right;\">0.793388</td><td style = \"text-align: right;\">0.797521</td><td>&ctdot;</td></tr><tr class = \"dataRow\"><td class = \"rowLabel\" style = \"font-weight: bold; text-align: right;\">399</td><td style = \"text-align: right;\">0.214876</td><td style = \"text-align: right;\">0.219008</td><td style = \"text-align: right;\">0.219008</td><td style = \"text-align: right;\">0.22314</td><td style = \"text-align: right;\">0.210744</td><td style = \"text-align: right;\">0.202479</td><td style = \"text-align: right;\">0.276859</td><td style = \"text-align: right;\">0.400826</td><td style = \"text-align: right;\">0.487603</td><td style = \"text-align: right;\">0.549587</td><td style = \"text-align: right;\">0.595041</td><td style = \"text-align: right;\">0.615702</td><td style = \"text-align: right;\">0.64876</td><td style = \"text-align: right;\">0.690083</td><td style = \"text-align: right;\">0.719008</td><td style = \"text-align: right;\">0.752066</td><td style = \"text-align: right;\">0.768595</td><td style = \"text-align: right;\">0.785124</td><td style = \"text-align: right;\">0.785124</td><td style = \"text-align: right;\">0.789256</td><td style = \"text-align: right;\">0.797521</td><td style = \"text-align: right;\">0.793388</td><td style = \"text-align: right;\">0.793388</td><td style = \"text-align: right;\">0.81405</td><td style = \"text-align: right;\">0.81405</td><td style = \"text-align: right;\">0.818182</td><td style = \"text-align: right;\">0.822314</td><td style = \"text-align: right;\">0.818182</td><td style = \"text-align: right;\">0.818182</td><td style = \"text-align: right;\">0.81405</td><td style = \"text-align: right;\">0.818182</td><td style = \"text-align: right;\">0.805785</td><td style = \"text-align: right;\">0.818182</td><td style = \"text-align: right;\">0.809917</td><td style = \"text-align: right;\">0.818182</td><td style = \"text-align: right;\">0.818182</td><td style = \"text-align: right;\">0.826446</td><td style = \"text-align: right;\">0.830578</td><td style = \"text-align: right;\">0.838843</td><td style = \"text-align: right;\">0.822314</td><td style = \"text-align: right;\">0.818182</td><td style = \"text-align: right;\">0.826446</td><td style = \"text-align: right;\">0.834711</td><td style = \"text-align: right;\">0.830578</td><td style = \"text-align: right;\">0.830578</td><td style = \"text-align: right;\">0.830578</td><td style = \"text-align: right;\">0.826446</td><td style = \"text-align: right;\">0.818182</td><td style = \"text-align: right;\">0.822314</td><td style = \"text-align: right;\">0.81405</td><td style = \"text-align: right;\">0.818182</td><td style = \"text-align: right;\">0.809917</td><td style = \"text-align: right;\">0.805785</td><td style = \"text-align: right;\">0.801653</td><td style = \"text-align: right;\">0.793388</td><td style = \"text-align: right;\">0.772727</td><td style = \"text-align: right;\">0.743802</td><td style = \"text-align: right;\">0.731405</td><td style = \"text-align: right;\">0.727273</td><td style = \"text-align: right;\">0.731405</td><td style = \"text-align: right;\">0.72314</td><td style = \"text-align: right;\">0.714876</td><td style = \"text-align: right;\">0.714876</td><td style = \"text-align: right;\">0.694215</td><td style = \"text-align: right;\">0.202479</td><td style = \"text-align: right;\">0.206612</td><td style = \"text-align: right;\">0.206612</td><td style = \"text-align: right;\">0.206612</td><td style = \"text-align: right;\">0.202479</td><td style = \"text-align: right;\">0.202479</td><td style = \"text-align: right;\">0.285124</td><td style = \"text-align: right;\">0.417355</td><td style = \"text-align: right;\">0.512397</td><td style = \"text-align: right;\">0.570248</td><td style = \"text-align: right;\">0.607438</td><td style = \"text-align: right;\">0.628099</td><td style = \"text-align: right;\">0.665289</td><td style = \"text-align: right;\">0.702479</td><td style = \"text-align: right;\">0.719008</td><td style = \"text-align: right;\">0.743802</td><td style = \"text-align: right;\">0.768595</td><td style = \"text-align: right;\">0.785124</td><td style = \"text-align: right;\">0.772727</td><td style = \"text-align: right;\">0.780992</td><td style = \"text-align: right;\">0.789256</td><td style = \"text-align: right;\">0.789256</td><td style = \"text-align: right;\">0.801653</td><td style = \"text-align: right;\">0.818182</td><td style = \"text-align: right;\">0.809917</td><td style = \"text-align: right;\">0.81405</td><td style = \"text-align: right;\">0.818182</td><td style = \"text-align: right;\">0.81405</td><td style = \"text-align: right;\">0.81405</td><td style = \"text-align: right;\">0.809917</td><td style = \"text-align: right;\">0.809917</td><td style = \"text-align: right;\">0.805785</td><td style = \"text-align: right;\">0.809917</td><td style = \"text-align: right;\">0.805785</td><td style = \"text-align: right;\">0.809917</td><td style = \"text-align: right;\">0.805785</td><td>&ctdot;</td></tr><tr class = \"dataRow\"><td class = \"rowLabel\" style = \"font-weight: bold; text-align: right;\">400</td><td style = \"text-align: right;\">0.516529</td><td style = \"text-align: right;\">0.46281</td><td style = \"text-align: right;\">0.280992</td><td style = \"text-align: right;\">0.252066</td><td style = \"text-align: right;\">0.247934</td><td style = \"text-align: right;\">0.367769</td><td style = \"text-align: right;\">0.57438</td><td style = \"text-align: right;\">0.615702</td><td style = \"text-align: right;\">0.661157</td><td style = \"text-align: right;\">0.615702</td><td style = \"text-align: right;\">0.681818</td><td style = \"text-align: right;\">0.702479</td><td style = \"text-align: right;\">0.735537</td><td style = \"text-align: right;\">0.739669</td><td style = \"text-align: right;\">0.743802</td><td style = \"text-align: right;\">0.768595</td><td style = \"text-align: right;\">0.789256</td><td style = \"text-align: right;\">0.793388</td><td style = \"text-align: right;\">0.797521</td><td style = \"text-align: right;\">0.81405</td><td style = \"text-align: right;\">0.822314</td><td style = \"text-align: right;\">0.822314</td><td style = \"text-align: right;\">0.826446</td><td style = \"text-align: right;\">0.830578</td><td style = \"text-align: right;\">0.830578</td><td style = \"text-align: right;\">0.834711</td><td style = \"text-align: right;\">0.838843</td><td style = \"text-align: right;\">0.834711</td><td style = \"text-align: right;\">0.834711</td><td style = \"text-align: right;\">0.834711</td><td style = \"text-align: right;\">0.826446</td><td style = \"text-align: right;\">0.830578</td><td style = \"text-align: right;\">0.830578</td><td style = \"text-align: right;\">0.830578</td><td style = \"text-align: right;\">0.834711</td><td style = \"text-align: right;\">0.834711</td><td style = \"text-align: right;\">0.830578</td><td style = \"text-align: right;\">0.830578</td><td style = \"text-align: right;\">0.830578</td><td style = \"text-align: right;\">0.822314</td><td style = \"text-align: right;\">0.826446</td><td style = \"text-align: right;\">0.818182</td><td style = \"text-align: right;\">0.81405</td><td style = \"text-align: right;\">0.809917</td><td style = \"text-align: right;\">0.801653</td><td style = \"text-align: right;\">0.801653</td><td style = \"text-align: right;\">0.797521</td><td style = \"text-align: right;\">0.785124</td><td style = \"text-align: right;\">0.772727</td><td style = \"text-align: right;\">0.747934</td><td style = \"text-align: right;\">0.739669</td><td style = \"text-align: right;\">0.731405</td><td style = \"text-align: right;\">0.719008</td><td style = \"text-align: right;\">0.714876</td><td style = \"text-align: right;\">0.702479</td><td style = \"text-align: right;\">0.690083</td><td style = \"text-align: right;\">0.665289</td><td style = \"text-align: right;\">0.644628</td><td style = \"text-align: right;\">0.623967</td><td style = \"text-align: right;\">0.603306</td><td style = \"text-align: right;\">0.582645</td><td style = \"text-align: right;\">0.578512</td><td style = \"text-align: right;\">0.541322</td><td style = \"text-align: right;\">0.603306</td><td style = \"text-align: right;\">0.516529</td><td style = \"text-align: right;\">0.450413</td><td style = \"text-align: right;\">0.293388</td><td style = \"text-align: right;\">0.243802</td><td style = \"text-align: right;\">0.235537</td><td style = \"text-align: right;\">0.396694</td><td style = \"text-align: right;\">0.566116</td><td style = \"text-align: right;\">0.632231</td><td style = \"text-align: right;\">0.652893</td><td style = \"text-align: right;\">0.64876</td><td style = \"text-align: right;\">0.694215</td><td style = \"text-align: right;\">0.719008</td><td style = \"text-align: right;\">0.752066</td><td style = \"text-align: right;\">0.764463</td><td style = \"text-align: right;\">0.768595</td><td style = \"text-align: right;\">0.789256</td><td style = \"text-align: right;\">0.801653</td><td style = \"text-align: right;\">0.805785</td><td style = \"text-align: right;\">0.809917</td><td style = \"text-align: right;\">0.822314</td><td style = \"text-align: right;\">0.822314</td><td style = \"text-align: right;\">0.822314</td><td style = \"text-align: right;\">0.830578</td><td style = \"text-align: right;\">0.830578</td><td style = \"text-align: right;\">0.830578</td><td style = \"text-align: right;\">0.826446</td><td style = \"text-align: right;\">0.822314</td><td style = \"text-align: right;\">0.826446</td><td style = \"text-align: right;\">0.826446</td><td style = \"text-align: right;\">0.826446</td><td style = \"text-align: right;\">0.822314</td><td style = \"text-align: right;\">0.818182</td><td style = \"text-align: right;\">0.826446</td><td style = \"text-align: right;\">0.830578</td><td style = \"text-align: right;\">0.838843</td><td style = \"text-align: right;\">0.838843</td><td>&ctdot;</td></tr></tbody></table></div>"
      ],
      "text/latex": [
       "\\begin{tabular}{r|ccccccccc}\n",
       "\t& pixel1 & pixel2 & pixel3 & pixel4 & pixel5 & pixel6 & pixel7 & pixel8 & \\\\\n",
       "\t\\hline\n",
       "\t& Float64 & Float64 & Float64 & Float64 & Float64 & Float64 & Float64 & Float64 & \\\\\n",
       "\t\\hline\n",
       "\t1 & 0.309917 & 0.367769 & 0.417355 & 0.442149 & 0.528926 & 0.607438 & 0.657025 & 0.677686 & $\\dots$ \\\\\n",
       "\t2 & 0.454545 & 0.471074 & 0.512397 & 0.557851 & 0.595041 & 0.640496 & 0.681818 & 0.702479 & $\\dots$ \\\\\n",
       "\t3 & 0.318182 & 0.400826 & 0.491736 & 0.528926 & 0.586777 & 0.657025 & 0.681818 & 0.68595 & $\\dots$ \\\\\n",
       "\t4 & 0.198347 & 0.194215 & 0.194215 & 0.194215 & 0.190083 & 0.190083 & 0.243802 & 0.404959 & $\\dots$ \\\\\n",
       "\t5 & 0.5 & 0.545455 & 0.582645 & 0.623967 & 0.64876 & 0.690083 & 0.694215 & 0.714876 & $\\dots$ \\\\\n",
       "\t6 & 0.549587 & 0.545455 & 0.541322 & 0.53719 & 0.53719 & 0.533058 & 0.528926 & 0.533058 & $\\dots$ \\\\\n",
       "\t7 & 0.330578 & 0.305785 & 0.330578 & 0.35124 & 0.42562 & 0.5 & 0.603306 & 0.632231 & $\\dots$ \\\\\n",
       "\t8 & 0.128099 & 0.18595 & 0.247934 & 0.31405 & 0.38843 & 0.46281 & 0.520661 & 0.557851 & $\\dots$ \\\\\n",
       "\t9 & 0.243802 & 0.297521 & 0.367769 & 0.454545 & 0.495868 & 0.53719 & 0.578512 & 0.603306 & $\\dots$ \\\\\n",
       "\t10 & 0.380165 & 0.442149 & 0.483471 & 0.545455 & 0.582645 & 0.628099 & 0.64876 & 0.677686 & $\\dots$ \\\\\n",
       "\t11 & 0.541322 & 0.586777 & 0.640496 & 0.661157 & 0.68595 & 0.68595 & 0.690083 & 0.698347 & $\\dots$ \\\\\n",
       "\t12 & 0.644628 & 0.690083 & 0.702479 & 0.702479 & 0.706612 & 0.719008 & 0.727273 & 0.739669 & $\\dots$ \\\\\n",
       "\t13 & 0.657025 & 0.677686 & 0.698347 & 0.706612 & 0.702479 & 0.710744 & 0.702479 & 0.681818 & $\\dots$ \\\\\n",
       "\t14 & 0.628099 & 0.644628 & 0.673554 & 0.698347 & 0.698347 & 0.698347 & 0.677686 & 0.690083 & $\\dots$ \\\\\n",
       "\t15 & 0.636364 & 0.652893 & 0.669422 & 0.677686 & 0.68595 & 0.702479 & 0.698347 & 0.702479 & $\\dots$ \\\\\n",
       "\t16 & 0.669422 & 0.681818 & 0.706612 & 0.714876 & 0.719008 & 0.727273 & 0.727273 & 0.735537 & $\\dots$ \\\\\n",
       "\t17 & 0.628099 & 0.603306 & 0.628099 & 0.72314 & 0.702479 & 0.694215 & 0.698347 & 0.714876 & $\\dots$ \\\\\n",
       "\t18 & 0.586777 & 0.595041 & 0.681818 & 0.694215 & 0.714876 & 0.698347 & 0.714876 & 0.727273 & $\\dots$ \\\\\n",
       "\t19 & 0.681818 & 0.706612 & 0.719008 & 0.710744 & 0.714876 & 0.727273 & 0.735537 & 0.739669 & $\\dots$ \\\\\n",
       "\t20 & 0.566116 & 0.619835 & 0.657025 & 0.690083 & 0.702479 & 0.714876 & 0.702479 & 0.702479 & $\\dots$ \\\\\n",
       "\t21 & 0.578512 & 0.603306 & 0.632231 & 0.665289 & 0.677686 & 0.710744 & 0.72314 & 0.739669 & $\\dots$ \\\\\n",
       "\t22 & 0.628099 & 0.665289 & 0.68595 & 0.694215 & 0.719008 & 0.731405 & 0.752066 & 0.768595 & $\\dots$ \\\\\n",
       "\t23 & 0.632231 & 0.657025 & 0.677686 & 0.702479 & 0.727273 & 0.747934 & 0.764463 & 0.764463 & $\\dots$ \\\\\n",
       "\t24 & 0.198347 & 0.177686 & 0.181818 & 0.181818 & 0.190083 & 0.280992 & 0.512397 & 0.661157 & $\\dots$ \\\\\n",
       "\t$\\dots$ & $\\dots$ & $\\dots$ & $\\dots$ & $\\dots$ & $\\dots$ & $\\dots$ & $\\dots$ & $\\dots$ &  \\\\\n",
       "\\end{tabular}\n"
      ],
      "text/plain": [
       "\u001b[1m400×4097 DataFrame\u001b[0m\n",
       "\u001b[1m Row \u001b[0m│\u001b[1m pixel1   \u001b[0m\u001b[1m pixel2   \u001b[0m\u001b[1m pixel3   \u001b[0m\u001b[1m pixel4   \u001b[0m\u001b[1m pixel5   \u001b[0m\u001b[1m pixel6   \u001b[0m\u001b[1m pixel7   \u001b[0m\u001b[1m p\u001b[0m ⋯\n",
       "\u001b[1m     \u001b[0m│\u001b[90m Float64  \u001b[0m\u001b[90m Float64  \u001b[0m\u001b[90m Float64  \u001b[0m\u001b[90m Float64  \u001b[0m\u001b[90m Float64  \u001b[0m\u001b[90m Float64  \u001b[0m\u001b[90m Float64  \u001b[0m\u001b[90m F\u001b[0m ⋯\n",
       "─────┼──────────────────────────────────────────────────────────────────────────\n",
       "   1 │ 0.309917  0.367769  0.417355  0.442149  0.528926  0.607438  0.657025  0 ⋯\n",
       "   2 │ 0.454545  0.471074  0.512397  0.557851  0.595041  0.640496  0.681818  0\n",
       "   3 │ 0.318182  0.400826  0.491736  0.528926  0.586777  0.657025  0.681818  0\n",
       "   4 │ 0.198347  0.194215  0.194215  0.194215  0.190083  0.190083  0.243802  0\n",
       "   5 │ 0.5       0.545455  0.582645  0.623967  0.64876   0.690083  0.694215  0 ⋯\n",
       "   6 │ 0.549587  0.545455  0.541322  0.53719   0.53719   0.533058  0.528926  0\n",
       "   7 │ 0.330578  0.305785  0.330578  0.35124   0.42562   0.5       0.603306  0\n",
       "   8 │ 0.128099  0.18595   0.247934  0.31405   0.38843   0.46281   0.520661  0\n",
       "  ⋮  │    ⋮         ⋮         ⋮         ⋮         ⋮         ⋮         ⋮        ⋱\n",
       " 394 │ 0.516529  0.458678  0.297521  0.272727  0.206612  0.376033  0.566116  0 ⋯\n",
       " 395 │ 0.289256  0.338843  0.417355  0.504132  0.553719  0.561983  0.582645  0\n",
       " 396 │ 0.400826  0.495868  0.570248  0.632231  0.64876   0.640496  0.661157  0\n",
       " 397 │ 0.367769  0.367769  0.35124   0.301653  0.247934  0.247934  0.367769  0\n",
       " 398 │ 0.5       0.533058  0.607438  0.628099  0.657025  0.632231  0.657025  0 ⋯\n",
       " 399 │ 0.214876  0.219008  0.219008  0.22314   0.210744  0.202479  0.276859  0\n",
       " 400 │ 0.516529  0.46281   0.280992  0.252066  0.247934  0.367769  0.57438   0\n",
       "\u001b[36m                                               4090 columns and 385 rows omitted\u001b[0m"
      ]
     },
     "metadata": {},
     "output_type": "display_data"
    }
   ],
   "source": [
    "using OpenML, DataFrames\n",
    "faces = OpenML.load(41083) |> DataFrame"
   ]
  }
 ],
 "metadata": {
  "kernelspec": {
   "display_name": "Julia 1.11.6",
   "language": "julia",
   "name": "julia-1.11"
  },
  "language_info": {
   "file_extension": ".jl",
   "mimetype": "application/julia",
   "name": "julia",
   "version": "1.11.6"
  },
  "orig_nbformat": 4
 },
 "nbformat": 4,
 "nbformat_minor": 2
}
