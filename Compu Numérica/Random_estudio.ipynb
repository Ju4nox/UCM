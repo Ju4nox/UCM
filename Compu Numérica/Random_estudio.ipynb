{
 "cells": [
  {
   "cell_type": "markdown",
   "id": "c6449679",
   "metadata": {},
   "source": [
    "Celda de prueba\n",
    "\n",
    "Intento de código randomizer para ejercitar transformaciones de Float 16 a Decimal"
   ]
  },
  {
   "cell_type": "code",
   "execution_count": 6,
   "id": "3b360081",
   "metadata": {},
   "outputs": [
    {
     "name": "stdout",
     "output_type": "stream",
     "text": [
      "Número: 0.9595\n",
      "0 01110 1110101101"
     ]
    }
   ],
   "source": [
    "x = rand(Float16)\n",
    "bits = bitstring(x)\n",
    "\n",
    "sign     = bits[1]                 # primer bit\n",
    "exponent = bits[2:6]               # siguientes 5 bits\n",
    "mantissa = bits[7:end]             # últimos 10 bits\n",
    "\n",
    "println(\"Número: \", x)\n",
    "print(sign,\" \")\n",
    "print(exponent,\" \")\n",
    "print(mantissa)\n"
   ]
  }
 ],
 "metadata": {
  "kernelspec": {
   "display_name": "Julia 1.11.6",
   "language": "julia",
   "name": "julia-1.11"
  },
  "language_info": {
   "file_extension": ".jl",
   "mimetype": "application/julia",
   "name": "julia",
   "version": "1.11.6"
  }
 },
 "nbformat": 4,
 "nbformat_minor": 5
}
